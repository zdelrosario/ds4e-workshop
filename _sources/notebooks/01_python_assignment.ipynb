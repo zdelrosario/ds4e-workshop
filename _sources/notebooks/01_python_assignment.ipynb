{
 "cells": [
  {
   "cell_type": "markdown",
   "id": "a243b9bd",
   "metadata": {},
   "source": [
    "# Intro to Python and Jupyter Notebooks\n",
    "*Original Authors: Enze Chen, Malcolm Davidson, Zach del Rosario*\n",
    "\n",
    "This notebook introduces some of the most important features of Jupyter notebooks and some handy tips to keep in mind.\n",
    "\n",
    "### Learning outcomes\n",
    "Throughout this workshop, we will be totally upfront about what *precisely* we want to you to learn how to do. This **learning outcomes** section in each notebook will list our objectives. By working through this notebook, you will be able to:\n",
    "* Use basic Jupyter notebook organization and functions.\n",
    "* Create and execute Code cells.\n",
    "* Use basic Python concepts: variables, packages, loops, and conditionals\n"
   ]
  },
  {
   "cell_type": "markdown",
   "id": "cc7d4e5f",
   "metadata": {},
   "source": [
    "## Highest-level View\n",
    "Throughout this day of the workshop, we will be writing computer software. Before diving into the details, it is beneficial to understand what tools we'll be using, and why.\n",
    "\n",
    "### Python\n",
    "Python is a [*programming language*](https://www.python.org), and an extremely popular one at that. Python is praised for its readability, is consistently ranked as a top programming language, and is used by both top [software companies](https://en.wikipedia.org/wiki/Python_(programming_language)#Uses) and scientists doing computation. All of this is to say that knowing how to write Python code is a valuable skill.\n",
    "\n",
    "### Jupyter\n",
    "Jupyter is a [*programming environment*](https://jupyter.org), often used for writing and sharing Python code. Just as one could choose to write English on stone tablets or on paper, one could choose to write Python code in simple files or in *jupyter notebooks*. These notebooks are useful for a number of reasons:\n",
    "\n",
    "1. Multimedia: This document you're reading now is a jupyter notebook -- it is a combination of (executable) Python code and (formatted) plain text. By allowing the juxtaposition of different media (code and natural language, to name a couple options), one can provide human-readable context next to executable software.\n",
    "\n",
    "2. Saves state: Jupyter notebooks *save state*, allowing you to run some code, save the results, close the document and come back to it later. This is certainly possible in other coding environments, but jupyter has built-in facilities to make this easy.\n",
    "\n",
    "3. Reproducible: [Reproducibility](https://en.wikipedia.org/wiki/Reproducibility) is a critical issue in science -- results cannot be considered scientifically valid unless they can be reproduced under similar conditions. The same principles apply to computational experiments; all too often software is written under time pressure, resulting in scattered documentation and analysis. Consolidating documentation and analysis within a single notebook facilitates scientific reproducibility.\n",
    "\n",
    "Jupyter notebooks are not *always* the best media for writing code; for instance, python *packages* are not written in jupyter notebooks. However, for our purposes, jupyter is a good solution."
   ]
  },
  {
   "cell_type": "markdown",
   "id": "3eac0231",
   "metadata": {},
   "source": [
    "---\n",
    "\n",
    "## How to use this Notebook\n",
    "This jupyter notebook is an *interactive exercise* -- it contains some reading, but the focus is on fill-in-the-blank sections that are meant to test your understanding and spark further learning. Pedagogy research shows that so-called *active learning* -- learning by doing -- is far more effective than lecture alone. Thus, you will get the most out of this workshop if you do the work! Try -- to the best of your ability -- to complete the exercises in these notebooks, and please feel free to ask the TA's questions if you get stuck. (It's what we're here for.)\n",
    "\n",
    "```{admonition} Run this notebook locally!\n",
    ":class: warning\n",
    "If you're reading this on the workshop website---and *not* in your local jupyter reader---then it is *necessary* that you download this notebook locally and open it in jupyter. Look for the download bar in the top-right of this page, as pictured below.\n",
    "\n",
    "![download bar](../images/download-nb.png)\n",
    "\n",
    "The rightmost button will let you download this page as a jupyter notebook so you can edit it and complete the exercises. See the relevant [setup page](open-jupyter) for more instructions on working in jupyter.\n",
    "```\n",
    "\n",
    "Exercise portions of the notebook will be marked with a \"Q\" subheading, like the following:\n",
    "\n",
    "### __Q0__: An example question\n",
    "Here's an example of an exercise prompt. Follow the directions here to start the exercise.\n"
   ]
  },
  {
   "cell_type": "markdown",
   "id": "77f12146",
   "metadata": {},
   "source": [
    "# Jupyter Introduction"
   ]
  },
  {
   "cell_type": "markdown",
   "id": "0073342e",
   "metadata": {},
   "source": [
    "## Cells \n",
    "\n",
    "A Jupyter notebook is organized as a sequence of different **cells**. Cells contain chunks of information and allow you to switch between text and code.\n",
    "\n",
    "**Current cell**: The currently-selected cell will have a color bar appear on the far left. Use your cursor or arrow keys to select different cells.\n",
    "\n",
    "**Create new cell**: To create a new cell, click the \"**+**\" icon at the top. This will create a cell below the currently selected cell.\n",
    "\n",
    "**Delete a cell**: To delete the currently-selected cell, click the \"**scissors**\" icon at the top."
   ]
  },
  {
   "cell_type": "markdown",
   "id": "8841f5af",
   "metadata": {},
   "source": [
    "### __Q1__: Create a new cell\n",
    "\n",
    "**Create a new cell below this one.** Note that it has a different background color! This is because cells have different *types*."
   ]
  },
  {
   "cell_type": "markdown",
   "id": "2da8695f",
   "metadata": {},
   "source": [
    "### Types of cells\n",
    "There are two types of cells we will discuss here: `Markdown` and `Code`. A single cell can only have 1 type.\n",
    "\n",
    "**Markdown**: These are text cells that use the Markdown language for formatting. You can put instructions, headings, links, images, and much more; even $\\LaTeX$ ([a language for typesetting mathematics](https://www.latex-project.org)). Here is a [cheatsheet](https://github.com/adam-p/markdown-here/wiki/Markdown-Cheatsheet) for Markdown syntax.\n",
    "\n",
    "**Code**: These are cells where you can type Python code, just as you would in a `.py` file. They will have a label `In [ ]:` to their left.\n",
    "\n",
    "To switch the type of cell, you can use the dropdown menu at the top of the cell. (Note: While you're moused-over this cell, the dropdown menu should read `Markdown`.)"
   ]
  },
  {
   "cell_type": "markdown",
   "id": "116a72a7",
   "metadata": {},
   "source": [
    "### Edit and format / execute cells\n",
    "\n",
    "To edit a Markdown cell, **triple-click** within the cell if you currently see a blue bar. The color bar on the left will turn green. Then type and edit as normal.\n",
    "\n",
    "To format (\"execute\") a Markdown cell, press **Ctrl+Enter** when in \"edit\" mode. The color bar on the left will turn blue and the cursor will disappear. Your formatting will also take effect.\n",
    "\n",
    "---\n",
    "To edit a Code cell, click within the cell. The color bar on the left will turn green. Then type and edit as normal.\n",
    "\n",
    "To execute a Code cell, press **Ctrl+Enter** while it is selected. The color bar on the left will turn blue and the cursor will disappear."
   ]
  },
  {
   "cell_type": "markdown",
   "id": "2c315023",
   "metadata": {},
   "source": [
    "## Code cells\n",
    "\n",
    "So far we've only seen Markdown cells. Let's see what we can do with Code cells! Try selecting the code cell below this one and executing it."
   ]
  },
  {
   "cell_type": "code",
   "execution_count": null,
   "id": "98dc64eb",
   "metadata": {},
   "outputs": [],
   "source": [
    "# This is a python code cell\n",
    "6 * 7\n"
   ]
  },
  {
   "cell_type": "markdown",
   "id": "44e0aa39",
   "metadata": {},
   "source": [
    "Note that code cells are visually distinct from markdown cells -- they have a grey background and the `[-]:` prefix."
   ]
  },
  {
   "cell_type": "markdown",
   "id": "dc5a4b4b",
   "metadata": {},
   "source": [
    "# Python Introduction"
   ]
  },
  {
   "cell_type": "markdown",
   "id": "e327c409",
   "metadata": {},
   "source": [
    "### Simple operations\n",
    "We can use python like a calculator to carry out simple operations. Some of these include:\n",
    "\n",
    "- Simple math operators `(+, -, *, /)`\n",
    "- Other math operators; exponentiation `10 ** 2 == 100`; modulus `3 % 2 == 1`\n",
    "- Parentheses `(, )` for grouping operations\n",
    "- Python functions; console output `print(\"Hello\")`\n",
    "\n",
    "### Q2: Average some values\n",
    "Use basic python operations to average the following numbers: `[2, 4, 6, 8]`.\n"
   ]
  },
  {
   "cell_type": "code",
   "execution_count": null,
   "id": "617dde8e",
   "metadata": {},
   "outputs": [],
   "source": [
    "###\n",
    "# TASK: Average the numbers [2, 4, 6, 8]\n",
    "# TODO: Use basic python operations to compute the arithmetic mean\n",
    "###\n",
    "# -- WRITE YOUR CODE HERE -----\n",
    "\n"
   ]
  },
  {
   "cell_type": "markdown",
   "id": "d5d94cc8",
   "metadata": {},
   "source": [
    "### Variables\n",
    "\n",
    "Jupyter notebooks will save variables across different cells. We can assign values with the `=` operator. Furthermore, typing just the variable on the last line of a code cell will typically display the variable's values/attributes."
   ]
  },
  {
   "cell_type": "code",
   "execution_count": null,
   "id": "8a19a6b4",
   "metadata": {},
   "outputs": [],
   "source": [
    "a = 1\n",
    "b = 2\n",
    "c = a * b\n"
   ]
  },
  {
   "cell_type": "markdown",
   "id": "1178b9ad",
   "metadata": {},
   "source": [
    "### Q3: Display a variable\n",
    "Display the value of `c` in the chunk below."
   ]
  },
  {
   "cell_type": "code",
   "execution_count": null,
   "id": "7d93a5ad",
   "metadata": {},
   "outputs": [],
   "source": [
    "###\n",
    "# TASK: Display a variable\n",
    "# TODO: Type the variable name below and execute\n",
    "###\n",
    "\n"
   ]
  },
  {
   "cell_type": "markdown",
   "id": "9ed2e676",
   "metadata": {},
   "source": [
    "A couple things happened here. First, the variable was saved. Second, Jupyter notebooks will display the value of any lone variables in the last line of each Code cell. This is helpful for debugging.\n",
    "\n",
    "If you want to display multiple quantities from a single cell, you can always use a print statement `print(variable)`. For instance, we could write\n",
    "\n",
    "```\n",
    "print(a)\n",
    "print(b)\n",
    "print(c)\n",
    "```\n",
    "\n",
    "You can also see that Code cells with output will have an associated `Out [#]` right below. Notice what happens to the cell below when the code is running."
   ]
  },
  {
   "cell_type": "markdown",
   "id": "53e19796",
   "metadata": {},
   "source": [
    "### Lists\n",
    "\n",
    "A *list* is a Python [data structure](https://en.wikipedia.org/wiki/Data_structure). We'll use lists (and other *iterable* data structures) quite a bit when doing data analysis -- generally we have many observations (elements) to consider.\n",
    "\n",
    "Lists (i.e. arrays) in Python are created with square brackets. The entries of a list are called *elements*."
   ]
  },
  {
   "cell_type": "code",
   "execution_count": null,
   "id": "46ef9183",
   "metadata": {},
   "outputs": [],
   "source": [
    "l = [1, 2, 3]\n"
   ]
  },
  {
   "cell_type": "markdown",
   "id": "e7d5200f",
   "metadata": {},
   "source": [
    "The `append()` method adds a single element to the end of the array. Note how we can add elements of different types to the same list (unlike Java or C++)."
   ]
  },
  {
   "cell_type": "code",
   "execution_count": null,
   "id": "61d20678",
   "metadata": {},
   "outputs": [],
   "source": [
    "l = [1, 2, 3]\n",
    "l.append(\"a\")\n",
    "l\n"
   ]
  },
  {
   "cell_type": "markdown",
   "id": "e9c00a5b",
   "metadata": {},
   "source": [
    "Note that I *needed* to place `l` at the end of the cell to display the result. `append()` modified the list *in place* -- it makes the list longer.\n",
    "\n",
    "We can also *combine* lists with the `+` operator."
   ]
  },
  {
   "cell_type": "code",
   "execution_count": null,
   "id": "7f27b9ce",
   "metadata": {},
   "outputs": [],
   "source": [
    "[1, 2, 3] + [4, 5, 6]\n"
   ]
  },
  {
   "cell_type": "markdown",
   "id": "363de5e1",
   "metadata": {},
   "source": [
    "Note that I *did not need* to write an additional line to print the result. This is because the `+` operator *returns* a list as a result, which is printed by jupyter."
   ]
  },
  {
   "cell_type": "markdown",
   "id": "5c98432d",
   "metadata": {},
   "source": [
    "### Q4: Working with lists\n",
    "Test your understanding of lists; make a prediction about what the following code will display:\n",
    "```\n",
    "list_a = [1, 2, 3]\n",
    "list_b = [4, 5, 6]\n",
    "print(list_a + list_b)\n",
    "print(list_a.append(list_b))\n",
    "```\n",
    "\n",
    "*After* you've made a prediction, **make a new cell and test your prediction**."
   ]
  },
  {
   "cell_type": "markdown",
   "id": "656e73be",
   "metadata": {},
   "source": [
    "### Indexing and Slicing\n",
    "We can access specific elements of a list (and other *iterables*) by *indexing*. Python is uses zero-based indexing, meaning the first element of an iterable is `0`, the second is `1`, and so on.\n",
    "\n",
    "```\n",
    "Index    0    1    2    3    4\n",
    "List  [ \"a\", \"b\", \"c\", \"d\", \"e\" ]\n",
    "```\n",
    "\n",
    "For instance:"
   ]
  },
  {
   "cell_type": "code",
   "execution_count": null,
   "id": "f44f89d0",
   "metadata": {},
   "outputs": [],
   "source": [
    "l = [\"a\", \"b\", \"c\"]\n",
    "print(\"l[0] = {}\".format(l[0]))\n",
    "print(\"l[1] = {}\".format(l[1]))\n",
    "print(\"l[2] = {}\".format(l[2]))\n"
   ]
  },
  {
   "cell_type": "markdown",
   "id": "d214b4ac",
   "metadata": {},
   "source": [
    "We can also use *negative indices* to conveniently access from the \"right\"."
   ]
  },
  {
   "cell_type": "code",
   "execution_count": null,
   "id": "225754f7",
   "metadata": {},
   "outputs": [],
   "source": [
    "print(\"l[-1] = {}\".format(l[-1]))\n",
    "print(\"l[-2] = {}\".format(l[-2]))\n"
   ]
  },
  {
   "cell_type": "markdown",
   "id": "7abe23e9",
   "metadata": {},
   "source": [
    "In Python, it's easy to take subsets of lists and strings (i.e. substrings) using **slicing**. Given a list (string) named `var`, we can take a subset of elements (characters) ranging from `low` to `high-1` with the syntax `var[low:high]`. Run the following code and observe what happens."
   ]
  },
  {
   "cell_type": "code",
   "execution_count": null,
   "id": "886dc6c7",
   "metadata": {},
   "outputs": [],
   "source": [
    "var = [0, 1, 2, 3, 4, 5]\n",
    "# var = '012345'\n",
    "print('The second element:', var[1])\n",
    "print('The second and third elements:', var[1:3])\n",
    "print('The second element onwards:', var[1:])\n",
    "print('Everything before the second element:', var[:1])\n",
    "print('Everything before the second TO LAST element:', var[:-2])\n"
   ]
  },
  {
   "cell_type": "markdown",
   "id": "48ee4dd5",
   "metadata": {},
   "source": [
    "### Q5: Take the middle\n",
    "Using your understanding of python indexing & slicing, select the *middle three elements* of the following list."
   ]
  },
  {
   "cell_type": "code",
   "execution_count": null,
   "id": "e09cbd38",
   "metadata": {},
   "outputs": [],
   "source": [
    "###\n",
    "# TASK: Take the middle values\n",
    "# TODO: Use python slicing to take the middle three values\n",
    "###\n",
    "test = [-2, -1, 0, +1, +2]\n",
    "\n",
    "# -- WRITE YOUR CODE BELOW -----\n",
    "\n"
   ]
  },
  {
   "cell_type": "markdown",
   "id": "b6bdc74c",
   "metadata": {},
   "source": [
    "### Modules\n",
    "By default, python provides a relatively small set of functionality. To carry out more specialized operations, we can *import module*. A module is a set of tools that help us carry out some tasks. For instance, the following module will help us control the execution of python code."
   ]
  },
  {
   "cell_type": "code",
   "execution_count": null,
   "id": "4202f951",
   "metadata": {},
   "outputs": [],
   "source": [
    "# Import a module first\n",
    "from time import sleep\n",
    "\n",
    "# Pause code execution for 5 seconds\n",
    "sleep(5)\n",
    "\n",
    "# Print some output to signal code has reached this point\n",
    "print('Cell is finished running!')\n"
   ]
  },
  {
   "cell_type": "markdown",
   "id": "93f94a15",
   "metadata": {},
   "source": [
    "In the first line of the above Code cell, we imported a function `sleep()` from a module. A function takes some number of inputs (possibly zero, like `sleep()`), and returns some number of outputs (possibly zero, like `sleep()`). The inputs to a function are called *arguments*, and are put inside the parentheses, if needed.\n",
    "\n",
    "Python modules, even when installed on your machine, must be explicitly imported before they can be used. Some modules, like `time`, are bundled with Python (we might call these \"standard modules\"), while others must be installed separately from an external source (\"third-party modules\") before importing.\n",
    "\n",
    "In later parts of the workshop, we will use some highly-specialized modules to carry out materials informatics tasks."
   ]
  },
  {
   "cell_type": "markdown",
   "id": "8f9ecf4c",
   "metadata": {},
   "source": [
    "If we don't import a *specific* object from a module, then we need to explicitly reference the module in order to use its contents. For instance, we could write the above as the following."
   ]
  },
  {
   "cell_type": "code",
   "execution_count": null,
   "id": "273d42b5",
   "metadata": {},
   "outputs": [],
   "source": [
    "import time\n",
    "time.sleep(5)\n",
    "print(\"Cell is finished running!\")\n"
   ]
  },
  {
   "cell_type": "markdown",
   "id": "5e9c9719",
   "metadata": {},
   "source": [
    "We'll see this a lot later when we start working with the `numpy` and `pandas` modules, where we tend to use *canonical* aliases:\n",
    "\n",
    "```\n",
    "import numpy as np\n",
    "import pandas as pd\n",
    "\n",
    "X = np.array([[1, 2, 3]])\n",
    "df = pd.DataFrame(\n",
    "    data = X,\n",
    "    columns = [\"X\"]\n",
    ")\n",
    "```"
   ]
  },
  {
   "cell_type": "markdown",
   "id": "9cc51b8c",
   "metadata": {},
   "source": [
    "### Q6: Do the math\n",
    "Import the functions `sin, cos` and the constant `pi` from the `math` module, and use them to complete the following code."
   ]
  },
  {
   "cell_type": "code",
   "execution_count": null,
   "id": "87847230",
   "metadata": {},
   "outputs": [],
   "source": [
    "###\n",
    "# TASK: Compute some trigonometric operations\n",
    "# TODO: Import sin, cos, pi from the math module\n",
    "# TODO: Convert degrees to radians\n",
    "# TODO: Use sin() and cos() to complete the code below\n",
    "###\n",
    "\n",
    "from math import sin, cos, pi\n",
    "angle_degrees = 15\n",
    "# -- WRITE YOUR CODE BELOW -----\n",
    "my_sine = 0  # sin(angle_radians)\n",
    "my_cosine = 0  # cos(angle_radians)\n",
    "result = my_sine**2 + my_cosine**2\n",
    "\n",
    "# -- PRINT THE ANSWER ----\n",
    "result\n"
   ]
  },
  {
   "cell_type": "markdown",
   "id": "8eb17f19",
   "metadata": {},
   "source": [
    "### Conditionals and logic\n",
    "\n",
    "Conditionals and logic allow us to adapt a program to the data.  Python conditional statements are `if`, `elif`, and `else`, and they follow a particular syntax:"
   ]
  },
  {
   "cell_type": "code",
   "execution_count": null,
   "id": "3cf87044",
   "metadata": {},
   "outputs": [],
   "source": [
    "if True:\n",
    "    print(\"True\")\n",
    "else:\n",
    "    print(\"Not printed....\")\n"
   ]
  },
  {
   "cell_type": "markdown",
   "id": "0098ab18",
   "metadata": {},
   "source": [
    "Note that we **must** either indent or provide four spaces to all lines falling under a conditional.\n",
    "\n",
    "```\n",
    "if True:\n",
    "pass # This will throw an error!\n",
    "###\n",
    "if True:\n",
    "    print(\"This will work!\")\n",
    "```"
   ]
  },
  {
   "cell_type": "markdown",
   "id": "aea510ef",
   "metadata": {},
   "source": [
    "The reason for this is because python uses *whitespace* in the same way C/C++ uses braces, or MATLAB uses `end` statements. Proponents of python argue that the structure of the language *enforces* readability.\n",
    "\n",
    "- An `if` statement will execute only if its argument evaluates to `True`; we can use this to select particular actions.\n",
    "- An `else` statement must follow an `if` or `elif` statement; it will evaluate if none of the other conditionals are triggered.\n",
    "- An `elif` statement is a python-specific construct, and must follow an `if` or another `elif` statement. An `elif` is like an `if`, but only evaluates if the preceding conditionals are not met.\n",
    "\n",
    "Comparisons for equality are similar to other programming languages (`<`, `<=`, `==`, `>=`, `>`).\n",
    "\n",
    "Logic can be done using *keywords* `not`, `and`, and `or`."
   ]
  },
  {
   "cell_type": "code",
   "execution_count": null,
   "id": "2b070b4c",
   "metadata": {},
   "outputs": [],
   "source": [
    "# Pick a number!\n",
    "n = ???\n",
    "\n",
    "if n > 0:\n",
    "    print('Positive.')\n",
    "elif not n >= 0:\n",
    "    print('Negative.')\n",
    "else:\n",
    "    print('Zero.')\n"
   ]
  },
  {
   "cell_type": "markdown",
   "id": "7dbd00eb",
   "metadata": {},
   "source": [
    "### Loops \n",
    "\n",
    "Loops enable us to automate repetitive tasks, which is one of the *primary reasons* for learning to use a programming language. The most common form of loop is probably the `for` loop. In python, we can loop over indices or the elements themselves."
   ]
  },
  {
   "cell_type": "code",
   "execution_count": null,
   "id": "8854db75",
   "metadata": {},
   "outputs": [],
   "source": [
    "# Loop through indices\n",
    "mylist = [\"a\", \"b\", \"c\"]\n",
    "\n",
    "for i in range(len(mylist)):\n",
    "    print(\"mylist[{0}] = {1}\".format(i, mylist[i]))\n",
    "\n",
    "# Loop through elements\n",
    "for elem in mylist:\n",
    "    print(elem)\n"
   ]
  },
  {
   "cell_type": "markdown",
   "id": "c0f3880c",
   "metadata": {},
   "source": [
    "Loops enable us to carry out (possibly complicated) operations on a set of data. For instance, we could use a loop to help parse a set of telephone numbers."
   ]
  },
  {
   "cell_type": "code",
   "execution_count": null,
   "id": "ec312eba",
   "metadata": {},
   "outputs": [],
   "source": [
    "digits = [\n",
    "    \"650-255-9999\",\n",
    "    \"101-255-1234\",\n",
    "    \"911-911-9111\"\n",
    "]\n",
    "area_codes = []\n",
    "for number in digits:\n",
    "    area_codes.append(number[:3])\n",
    "area_codes\n"
   ]
  },
  {
   "cell_type": "markdown",
   "id": "ca87954c",
   "metadata": {},
   "source": [
    "Loops are a *crude* way for us to carry out data analysis on a large set. (We'll see more sophisticated ways soon.)\n",
    "\n",
    "### Q7: Filter some data\n",
    "The following data define mixture fractions of some alloys, but the data have some errors. Use a loop to filter down a set of *valid* compositions.\n",
    "\n",
    "(Note: You will have to make a judgement call about what *valid* means.)"
   ]
  },
  {
   "cell_type": "code",
   "execution_count": null,
   "id": "31b32765",
   "metadata": {},
   "outputs": [],
   "source": [
    "###\n",
    "# TASK: Filter the compositions below\n",
    "# TODO: Use a loop over each entry of composition_fractions, and\n",
    "# return only those compositions that are \"valid\"\n",
    "###\n",
    "composition_fractions = [\n",
    "    [0.90, 0.10, 0.10],\n",
    "    [0.81, 0.00, 0.19],\n",
    "    [0.89, 0.02, 0.09],\n",
    "    [0.99, 0.01, 0.00],\n",
    "    [0.94, 0.03, 0.04],\n",
    "    [0.95, 0.02, 0.02],\n",
    "    [0.70, 0.16, 0.14]\n",
    "]\n",
    "composition_fractions_valid = []\n",
    "# -- WRITE YOUR CODE BELOW -----\n",
    "\n",
    "# -- PRINT THE ANSWER ----\n",
    "composition_fractions_valid\n"
   ]
  },
  {
   "cell_type": "markdown",
   "id": "94fc9b0c",
   "metadata": {},
   "source": [
    "### Numpy arrays\n",
    "We could build up two-dimensional arrays by creating *lists of lists*. This would allow us to store rectangular data. While we could literally build up lists of lists, since we aim to do data analysis, it will be more effective to start using *numpy arrays*."
   ]
  },
  {
   "cell_type": "code",
   "execution_count": null,
   "id": "5a2e0bdd",
   "metadata": {},
   "outputs": [],
   "source": [
    "import numpy as np\n",
    "X = np.array([\n",
    "    [1, 2, 3],\n",
    "    [4, 5, 6]\n",
    "])\n",
    "X\n"
   ]
  },
  {
   "cell_type": "markdown",
   "id": "7d95b9da",
   "metadata": {},
   "source": [
    "An advantage of using numpy is that it makes mathematical operations more convenient. For instance, suppose we wanted to add one to every element of a list-of-lists. Unfortunately, we couldn't use the following convenient syntax:"
   ]
  },
  {
   "cell_type": "code",
   "execution_count": null,
   "id": "f80a0737",
   "metadata": {},
   "outputs": [],
   "source": [
    "X_list = [\n",
    "    [1, 2, 3],\n",
    "    [4, 5, 6]\n",
    "]\n",
    "print(X_list)\n",
    "X_list + 1\n"
   ]
  },
  {
   "cell_type": "markdown",
   "id": "4a537a27",
   "metadata": {},
   "source": [
    "Python lists use `+` for concatenation (joining together lists). However, numpy does what we would expect:"
   ]
  },
  {
   "cell_type": "code",
   "execution_count": null,
   "id": "4ebac131",
   "metadata": {},
   "outputs": [],
   "source": [
    "X + 1\n"
   ]
  },
  {
   "cell_type": "markdown",
   "id": "f781f1b7",
   "metadata": {},
   "source": [
    "Numpy also provides a large number of mathematical operations that are written to operate on numpy arrays. For instance, we could compute the log of every element."
   ]
  },
  {
   "cell_type": "code",
   "execution_count": null,
   "id": "8b059ce7",
   "metadata": {},
   "outputs": [],
   "source": [
    "np.log(X)\n"
   ]
  },
  {
   "cell_type": "markdown",
   "id": "66575d49",
   "metadata": {},
   "source": [
    "Note that we need to use the math operators *from numpy* in order to do this, which we specify using the \"dot\" notation. \n",
    "\n",
    "There exist various numpy functions which help us to *summarize* data. For instance, we could take the minimum value over the entire array `np.min(X)`, or along a particular axis `np.min(X, axis = 0)`. The following calls illustrate the difference."
   ]
  },
  {
   "cell_type": "code",
   "execution_count": null,
   "id": "e4adc24f",
   "metadata": {},
   "outputs": [],
   "source": [
    "print(np.min(X, axis=0))\n",
    "print(np.min(X, axis=1))\n",
    "print(np.min(X))\n"
   ]
  },
  {
   "cell_type": "markdown",
   "id": "7509ce06",
   "metadata": {},
   "source": [
    "Since our array `X` has multiple axes, we need *multiple indices* to access particular values. We can index the nested arrays through multiple square brackets, or through a numpy-specific syntax."
   ]
  },
  {
   "cell_type": "code",
   "execution_count": null,
   "id": "f9edffe0",
   "metadata": {},
   "outputs": [],
   "source": [
    "print(X[0][0])  # Python syntax\n",
    "print(X[0, 0])  # Numpy-specific syntax\n"
   ]
  },
  {
   "cell_type": "markdown",
   "id": "06d1dadd",
   "metadata": {},
   "source": [
    "This access scheme is depicted below."
   ]
  },
  {
   "cell_type": "markdown",
   "id": "8f13a96e",
   "metadata": {},
   "source": [
    "![sw-carpentry array figure](https://raw.githubusercontent.com/CitrineInformatics/ga-tech-workshop/master/fig/python-zero-index.png)"
   ]
  },
  {
   "cell_type": "markdown",
   "id": "24501091",
   "metadata": {},
   "source": [
    "As with python lists, we can select subsets of numpy arrays through slicing. "
   ]
  },
  {
   "cell_type": "code",
   "execution_count": null,
   "id": "246c7099",
   "metadata": {},
   "outputs": [],
   "source": [
    "print(X[0, :])  # Selects first row\n",
    "print(X[:, 0])  # Selects first column\n"
   ]
  },
  {
   "cell_type": "markdown",
   "id": "8f2a6cf5",
   "metadata": {},
   "source": [
    "The `:` operator returns all entries in along the selected axis.\n",
    "\n",
    "Unlike base python lists, numpy provides additional indexing facilities. For instance, we can perform *logical indexing*."
   ]
  },
  {
   "cell_type": "code",
   "execution_count": null,
   "id": "9f09c4c6",
   "metadata": {},
   "outputs": [],
   "source": [
    "ind_threshold = np.min(X, axis=0) > 1\n",
    "print(ind_threshold)  # A set of boolean values\n",
    "X[:, ind_threshold]  # Logical indexing\n"
   ]
  },
  {
   "cell_type": "markdown",
   "id": "58971338",
   "metadata": {},
   "source": [
    "Combining these features allows us to carry out complex data operations using syntax less like programming and more like mathematical notation.\n",
    "\n",
    "### Q8: Array operations\n",
    "Repeat **Q7** above using numpy arrays. Use the function `np.sum()` with the `axis` keyword argument, and use conditionals to create an array of indices corresponding to the valid compositions."
   ]
  },
  {
   "cell_type": "code",
   "execution_count": null,
   "id": "00f41b1f",
   "metadata": {},
   "outputs": [],
   "source": [
    "###\n",
    "# TASK: Filter the compositions below\n",
    "# TODO: Use numpy arrays and functions to repeat Q7\n",
    "# The numpy function np.sum(array, axis=i) will\n",
    "# take the sum over the i-th axis\n",
    "###\n",
    "Y = np.array(composition_fractions)\n",
    "# -- WRITE YOUR CODE BELOW ----\n",
    "\n",
    "# -- PRINT THE ANSWER -----\n",
    "Y_valid\n"
   ]
  },
  {
   "cell_type": "markdown",
   "id": "967b12f6",
   "metadata": {},
   "source": [
    "# Additional Features"
   ]
  },
  {
   "cell_type": "markdown",
   "id": "aea3ae7a",
   "metadata": {},
   "source": [
    "### Getting help\n",
    "If there is a python function that is mysterious to you, you can always consult the *documentation*. You can call the python built-in `help()` function on an object to display its documentation. The following documentation for `list` points to a number of functions that operate on lists that we did not cover; for instance, the `list.sort()` method is *extremely useful* for data science."
   ]
  },
  {
   "cell_type": "code",
   "execution_count": null,
   "id": "2a1b386b",
   "metadata": {},
   "outputs": [],
   "source": [
    "help(list)\n"
   ]
  },
  {
   "cell_type": "markdown",
   "id": "64844363",
   "metadata": {},
   "source": [
    "There is a caveat here, which is that `help()` will generally provide *very technical details* on the object in question, which is useful for reference, but often unhelpful when first learning. If you find a particular python object *very mysterious*, try to formulate your question and type it into Google. **Learning how to find useful information about programming concepts is one of the key skills of learning to program well.**\n",
    "\n",
    "## Save, close, quit, and re-open this notebook\n",
    "You can save by clicking the floppy-disk icon in the top-left of this notebook pane, and can close the notebook by clicking the \"X\" of its tab. Re-open by double-clicking on `01_exercise.ipynb` in the left-hand navigation pane.\n",
    "\n",
    "You should find that everything is exactly as you had left it! You will have to re-run the cells to load variables, but having the output saved can be helpful.\n",
    "\n",
    "## Additional notebook tips\n",
    "* Save your notebooks frequently! Use the \"**Save**\" icon at the top or the **Ctrl+S**/**Cmd+S** shortcut.\n",
    "* Use **Shift+Enter** to run a cell and move on to the next cell. This allows you to sequentially execute all the cells in your notebook.\n",
    "* **Restart & Clear Output**. This option is found under the *Kernel* menu. It is extremely helpful to reset all code cell executions, stale package imports, and variable values.\n",
    "* Take the time to explore other menu options and tinker around. There's a ton of [keyboard shortcuts](https://www.cheatography.com/weidadeyue/cheat-sheets/jupyter-notebook/pdf_bw/) and [nifty customizations](https://towardsdatascience.com/how-to-effortlessly-optimize-jupyter-notebooks-e864162a06ee) you can do with notebooks."
   ]
  },
  {
   "cell_type": "markdown",
   "id": "fa43a9b1",
   "metadata": {},
   "source": [
    "### Jupyter magic functions\n",
    "\n",
    "[Magic functions](https://ipython.readthedocs.io/en/stable/interactive/magics.html) are a set of commands exclusively for Jupyter notebooks that are part of what makes notebooks so powerful. All magic commands start with a `%` sign, and we give examples of some below."
   ]
  },
  {
   "cell_type": "code",
   "execution_count": null,
   "id": "3dc1ed28",
   "metadata": {},
   "outputs": [],
   "source": [
    "import numpy as np\n",
    "\n",
    "# This command will output how long it takes the following inline command to run\n",
    "%time np.mean(np.random.randint(low=1, high=7, size=1000))\n"
   ]
  },
  {
   "cell_type": "code",
   "execution_count": null,
   "id": "4948a6e3",
   "metadata": {},
   "outputs": [],
   "source": [
    "# You'll see this command later; it allows Jupyter to render plots\n",
    "# as output in the notebook instead of opening a new window.\n",
    "%matplotlib inline\n"
   ]
  },
  {
   "cell_type": "code",
   "execution_count": null,
   "id": "e05d622e",
   "metadata": {},
   "outputs": [],
   "source": [
    "# This shows which variables are in your environment.\n",
    "# Can be packages, functions, variables, and more!\n",
    "%who\n"
   ]
  },
  {
   "cell_type": "code",
   "execution_count": null,
   "id": "1bdd64ae",
   "metadata": {},
   "outputs": [],
   "source": [
    "# You'll see this command later; it allows Jupyter to automatically\n",
    "# pick up on changes in referenced code without reloading the kernel.\n",
    "%load_ext autoreload\n"
   ]
  },
  {
   "cell_type": "code",
   "execution_count": null,
   "id": "6fbcc317",
   "metadata": {},
   "outputs": [],
   "source": [
    "# This command will list your system environment variables.\n",
    "%env\n"
   ]
  },
  {
   "cell_type": "markdown",
   "id": "3061c125",
   "metadata": {},
   "source": [
    "## Conclusion\n",
    "This concludes the Introduction to Python and Jupyter lesson."
   ]
  }
 ],
 "metadata": {
  "kernelspec": {
   "display_name": "Python 3 (ipykernel)",
   "language": "python",
   "name": "python3"
  },
  "language_info": {
   "codemirror_mode": {
    "name": "ipython",
    "version": 3
   },
   "file_extension": ".py",
   "mimetype": "text/x-python",
   "name": "python",
   "nbconvert_exporter": "python",
   "pygments_lexer": "ipython3",
   "version": "3.8.5"
  }
 },
 "nbformat": 4,
 "nbformat_minor": 5
}
