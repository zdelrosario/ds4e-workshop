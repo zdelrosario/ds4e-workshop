{
 "cells": [
  {
   "cell_type": "markdown",
   "id": "6246c791",
   "metadata": {},
   "source": [
    "## Exercises in Machine Learning\n",
    "\n",
    "*Author*: Zach del Rosario\n",
    "\n",
    "The _primary_ purpose of this notebook is to help you *not get fooled by machine learning*! As Drew Conway notes, possessing hacking skills and substantive experience---but having no math or statistics background---puts one in the [danger zone](http://drewconway.com/zia/2013/3/26/the-data-science-venn-diagram). While we can't possibly cover *everything* you need in a single workshop, this exercise will highlight some of the challenges of doing machine learning well. \n",
    "\n",
    "### Learning outcomes\n",
    "By working through this notebook, you will be able to:\n",
    "\n",
    "- Use grama to work with models.\n",
    "- Understand the importance of *underfitting* and *overfitting*\n",
    "- Use cross-validation to help avoid *underfitting* and *overfitting*\n",
    "\n",
    "Tips:\n",
    "\n",
    "- This exercise heavily uses the [py-grama](https://github.com/zdelrosario/py_grama) package; you can find more info on the [documentation site](https://py-grama.readthedocs.io/en/latest/).\n",
    "- This exercise indirectly uses [scikit-learn](https://scikit-learn.org/stable/); you can find lots of useful info on this package on their [documentation site](https://scikit-learn.org/stable/documentation.html).\n"
   ]
  },
  {
   "cell_type": "code",
   "execution_count": null,
   "id": "32cf92dc",
   "metadata": {},
   "outputs": [],
   "source": [
    "# Setup\n",
    "import numpy as np\n",
    "import pandas as pd\n",
    "import plotnine as pt\n",
    "import grama as gr\n",
    "\n",
    "DF = gr.Intention()\n",
    "\n"
   ]
  },
  {
   "cell_type": "code",
   "execution_count": null,
   "id": "8d6cb106",
   "metadata": {},
   "outputs": [],
   "source": [
    "# Helper functions\n",
    "def add_noise(function, sigma=0.1, seed=101):\n",
    "    \"\"\"Add noise to deterministic functions\n",
    "    \"\"\"\n",
    "    def new_function(x):\n",
    "        np.random.seed(seed)\n",
    "        y = function(x)\n",
    "        return y + sigma * np.random.normal(size=y.shape)\n",
    "\n",
    "    return new_function\n",
    "\n",
    "# Reference points for regression examples\n",
    "X_ref = np.linspace(-1, +1, num=100)\n",
    "\n",
    "# Reference models\n",
    "def fcn_1(x): return (0.3 * x**2 + 1.0 * x + 2)\n",
    "def fcn_2(x): return (-2.0 * x**3 + 0.4 * x**2 + 1.0 * x + 2)\n",
    "\n",
    "fcn_1_noisy = gr.make_symbolic(add_noise(fcn_1))\n",
    "fcn_2_noisy = gr.make_symbolic(add_noise(fcn_2, sigma=0.2))\n",
    "\n",
    "# Package as a dataframe\n",
    "df_data = gr.df_make(\n",
    "    x=X_ref,\n",
    "    y_1=fcn_1_noisy(X_ref),\n",
    "    y_2=fcn_2_noisy(X_ref),\n",
    ")"
   ]
  },
  {
   "cell_type": "markdown",
   "id": "cf6da396",
   "metadata": {},
   "source": [
    "## Helper Function\n",
    "\n",
    "---\n",
    "\n",
    "(This function will automate some steps so we can focus on high-level ideas, but I define it here in case you'd like to see the details)\n"
   ]
  },
  {
   "cell_type": "code",
   "execution_count": null,
   "id": "0364530b",
   "metadata": {},
   "outputs": [],
   "source": [
    "## For partial evaluation\n",
    "from toolz import curry\n",
    "# Model training tools\n",
    "from sklearn.linear_model import LinearRegression\n",
    "from sklearn.preprocessing import PolynomialFeatures\n",
    "\n",
    "## Encapsulate featurizer and regressor in one object\n",
    "class FunctionLM(gr.Function):\n",
    "    def __init__(self, regressor, var, out, name, order, runtime):\n",
    "        self.regressor = regressor\n",
    "        self.var = var\n",
    "        self.out = list(map(lambda s: s + \"_mean\", out))\n",
    "        self.name = name\n",
    "        self.order = order\n",
    "        self.runtime = runtime\n",
    "\n",
    "    def eval(self, df):\n",
    "        ## Check invariant; model inputs must be subset of df columns\n",
    "        if not set(self.var).issubset(set(df.columns)):\n",
    "            raise ValueError(\n",
    "                \"Model function `{}` var not a subset of given columns\".format(\n",
    "                    self.name\n",
    "                )\n",
    "            )\n",
    "\n",
    "        ## Featurize\n",
    "        x = np.atleast_2d(df[self.var].values)\n",
    "        poly = PolynomialFeatures(self.order)\n",
    "        X_feat = poly.fit_transform(x)\n",
    "        \n",
    "        ## Predict\n",
    "        y = self.regressor.predict(X_feat).flatten()\n",
    "        return pd.DataFrame(data=y, columns=self.out)\n",
    "\n",
    "## Fitting routine\n",
    "@curry\n",
    "def fit_regression(df, var=None, out=None, order=1):\n",
    "    r\"\"\"Fit a linear regression of specified order\n",
    "    \n",
    "    Args:\n",
    "        df (DataFrame): Data for fitting\n",
    "        var (iterable of str): Names of input variable (feature); must be column in df\n",
    "        out (iterable of str): Name of output variable (response); must be column in df\n",
    "        order (int): Polynomial order for fit\n",
    "    \n",
    "    \"\"\"\n",
    "    if len(out) > 1:\n",
    "        raise ValueError(\"This simple helper\")\n",
    "    # Featurize\n",
    "    x = np.atleast_2d(df[var].values)\n",
    "    poly = PolynomialFeatures(order)\n",
    "    X_feat = poly.fit_transform(x)\n",
    "    \n",
    "    # Fit regression\n",
    "    y = np.atleast_2d(df[out].values)\n",
    "    lm = LinearRegression()\n",
    "    lm.fit(X_feat, y)\n",
    "    \n",
    "    # Package\n",
    "    fun = FunctionLM(lm, var, out, \"Linear Model\", order, 0)\n",
    "    \n",
    "    return gr.Model(functions=[fun], domain=None, density=None)\n",
    "    \n",
    "## Create pipe-enabled regression utility\n",
    "ft_regression = gr.add_pipe(fit_regression)\n"
   ]
  },
  {
   "cell_type": "markdown",
   "id": "467ed433",
   "metadata": {},
   "source": [
    "## Underfitting and Overfitting\n",
    "\n",
    "---\n",
    "\n",
    "First we'll cover some key ideas on simple cases. These are not 'real' data, but the simplicity of the examples will allow us to focus on concepts.\n",
    "\n",
    "Here I generate some data from a simple polynomial."
   ]
  },
  {
   "cell_type": "code",
   "execution_count": null,
   "id": "7c817587",
   "metadata": {},
   "outputs": [],
   "source": [
    "## NOTE: No need to edit\n",
    "# Ground-truth data; no noise\n",
    "df_ex1 = (\n",
    "    gr.df_make(x=np.linspace(-1, +1, num=10))\n",
    "    >> gr.tf_mutate(y=fcn_1(DF.x))\n",
    ")\n",
    "\n",
    "# Plot\n",
    "(\n",
    "    df_ex1\n",
    "    >> pt.ggplot(pt.aes(\"x\", \"y\"))\n",
    "    + pt.geom_point()\n",
    ")"
   ]
  },
  {
   "cell_type": "markdown",
   "id": "84680992",
   "metadata": {},
   "source": [
    "We will fit a simple [linear regression](https://en.wikipedia.org/wiki/Linear_regression) to these data. To do this, we'll use the linear regression helper `ft_regression()` (defined above). To start, we'll assume that the data were generated from an underlying rule (a _model_) of the form\n",
    "\n",
    "$$y_{\\text{mean}} = m x + b,$$\n",
    "\n",
    "and attempt to _learn_ the slope $m$ and intercept $b$ by _minimizing_ the difference between the measured values `y` and the predicted values `y_mean`.\n"
   ]
  },
  {
   "cell_type": "code",
   "execution_count": null,
   "id": "fcfc53cf",
   "metadata": {},
   "outputs": [],
   "source": [
    "## NOTE: No need to edit\n",
    "# Fit the line\n",
    "md_line = (\n",
    "    df_ex1\n",
    "    >> ft_regression(var=[\"x\"], out=[\"y\"], order=1)\n",
    ")\n",
    "\n",
    "# Predict\n",
    "df_line_pred = (\n",
    "    md_line\n",
    "    >> gr.ev_df(df=df_ex1)\n",
    ")\n",
    "\n",
    "# Plot results\n",
    "(\n",
    "    df_line_pred\n",
    "    >> pt.ggplot(pt.aes(\"x\", \"y_mean\"))\n",
    "    + pt.geom_line(linetype=\"dashed\", color=\"grey\")\n",
    "    + pt.geom_point(color=\"grey\")\n",
    "    + pt.geom_point(pt.aes(y=\"y\"))\n",
    ")"
   ]
  },
  {
   "cell_type": "markdown",
   "id": "c512236b",
   "metadata": {},
   "source": [
    "### Working with models in Grama\n",
    "\n",
    "(TODO A grama model encapsulates a lot of information)\n"
   ]
  },
  {
   "cell_type": "code",
   "execution_count": null,
   "id": "fb9d47cd",
   "metadata": {},
   "outputs": [],
   "source": [
    "## NOTE: No need to edit, run to show info on `md_line`\n",
    "md_line\n"
   ]
  },
  {
   "cell_type": "markdown",
   "id": "6da9ba72",
   "metadata": {},
   "source": [
    "Based on this summary of the model, we can see that it takes a single input `x` and maps it to a single output `y_mean`.\n"
   ]
  },
  {
   "cell_type": "markdown",
   "id": "e5c24932",
   "metadata": {},
   "source": [
    "### __QX__: Evaluate the model at new input values\n",
    "\n",
    "Use the function `gr.ev_df()` to evaluate the model `md_line` fitted above. Make use of the new set of input values `df_dense`. Answer the questions below.\n"
   ]
  },
  {
   "cell_type": "code",
   "execution_count": null,
   "id": "7fc06d6f",
   "metadata": {},
   "outputs": [],
   "source": [
    "###\n",
    "# TASK: Evaluate md_line at the df_dense input values.\n",
    "###\n",
    "\n",
    "# -- FINISH THE CODE BELOW -----\n",
    "df_dense = gr.df_make(x=np.linspace(-1, +1, num=100))\n",
    "\n",
    "df_evaluated = (\n",
    "    md_line\n",
    "## TODO: Evaluate the model here\n",
    "\n",
    ")\n",
    "\n",
    "# -- NO NEED TO EDIT BELOW HERE -----\n",
    "(\n",
    "    df_evaluated\n",
    "    >> gr.tf_mutate(source=\"Fit\")\n",
    "    >> pt.ggplot(pt.aes(\"x\", \"y_mean\", color=\"source\"))\n",
    "    + pt.geom_line(linetype=\"dashed\")\n",
    "    + pt.geom_point()\n",
    "    + pt.geom_point(\n",
    "        data=df_ex1\n",
    "        >> gr.tf_mutate(source=\"Measured\"),\n",
    "        mapping=pt.aes(y=\"y\"),\n",
    "    )\n",
    ")"
   ]
  },
  {
   "cell_type": "markdown",
   "id": "40952c5e",
   "metadata": {},
   "source": [
    "*Observe*\n",
    "\n",
    "- How many points are measured? How many are fit? (Note: Don't count by hand, try looking at the code!)\n",
    "  - (Your response here)\n",
    "- Suppose we wanted to evaluate the quality of our fit. At how many locations could we evaluate the quality of the fit? Why?\n",
    "  - (Your response here)\n"
   ]
  },
  {
   "cell_type": "markdown",
   "id": "c0510e99",
   "metadata": {},
   "source": [
    "### Model Flexibility and _Underfitting_\n",
    "\n",
    "Note that we had to _assume_ a model-form in order to do the fitting. From the figure above, we can see that the model is close to the true values, but obviously lacks the curvature of the true data-generating process.\n",
    "\n",
    "This phenomenon---the failure of a model to capture behavior in the data---is called _underfitting_. To reduce underfitting, we need to make our model _more flexible_. For a linear regression, we can do this by **increasing the order** of the regression.\n"
   ]
  },
  {
   "cell_type": "markdown",
   "id": "a194a739",
   "metadata": {},
   "source": [
    "### __QX__: Fit a quadratic model to the data\n",
    "\n",
    "Use the `ft_regression()` helper to fit a quadratic model (`order = 2`).\n"
   ]
  },
  {
   "cell_type": "code",
   "execution_count": null,
   "id": "18e1b5af",
   "metadata": {},
   "outputs": [],
   "source": [
    "###\n",
    "# TASK: Fit a quadratic model\n",
    "###\n",
    "\n",
    "# -- FINISH THE CODE BELOW -----\n",
    "# Fit a quadratic\n",
    "md_quad = (\n",
    "    df_ex1\n",
    "## TODO: Fit a regression here\n",
    "\n",
    ")\n",
    "\n",
    "# -- NO NEED TO EDIT BELOW HERE -----\n",
    "# Predict\n",
    "df_quad_pred = (\n",
    "    md_quad\n",
    "    >> gr.ev_df(df=df_ex1)\n",
    ")\n",
    "\n",
    "# Plot results\n",
    "(\n",
    "    df_quad_pred\n",
    "    >> pt.ggplot(pt.aes(\"x\", \"y_mean\"))\n",
    "    + pt.geom_line(linetype=\"dashed\")\n",
    "    + pt.geom_point(pt.aes(y=\"y\"))\n",
    ")"
   ]
  },
  {
   "cell_type": "markdown",
   "id": "bd1a1ef3",
   "metadata": {},
   "source": [
    "Here we can see the model fits the data _perfectly_. This _suggests_ that we have successfully discovered the _exact_ rule that generated these data, which in _this special case happens to be true_.\n",
    "\n",
    "However, we will very rarely be able to fit the true function exactly. This is because real data tend to have _noise_, which corrupts the underlying function we are trying to learn."
   ]
  },
  {
   "cell_type": "markdown",
   "id": "e81e97d1",
   "metadata": {},
   "source": [
    "### Noise and _Overfitting_\n",
    "\n",
    "Below, I generate data from the same model, but add a little bit of noise."
   ]
  },
  {
   "cell_type": "code",
   "execution_count": null,
   "id": "ea7842eb",
   "metadata": {},
   "outputs": [],
   "source": [
    "## NOTE: No need to edit\n",
    "# Ground-truth data; now with noise\n",
    "df_ex2 = (\n",
    "    gr.df_make(x=np.linspace(-1, +1, num=10))\n",
    "    >> gr.tf_mutate(y=fcn_1_noisy(DF.x))\n",
    ")\n",
    "\n",
    "# Plot\n",
    "(\n",
    "    df_ex2\n",
    "    >> pt.ggplot(pt.aes(\"x\", \"y\"))\n",
    "    + pt.geom_point()\n",
    ")"
   ]
  },
  {
   "cell_type": "markdown",
   "id": "499047d5",
   "metadata": {},
   "source": [
    "Let's see what happens when we fit a quadratic to the noisy data.\n"
   ]
  },
  {
   "cell_type": "code",
   "execution_count": null,
   "id": "fd31e1d4",
   "metadata": {},
   "outputs": [],
   "source": [
    "## NOTE: No need to edit\n",
    "(\n",
    "    df_ex2\n",
    "    >> ft_regression(var=[\"x\"], out=[\"y\"], order=2)\n",
    "    >> gr.ev_df(df=df_ex2)\n",
    "    \n",
    "    >> pt.ggplot(pt.aes(\"x\", \"y_mean\"))\n",
    "    + pt.geom_line(linetype=\"dashed\")\n",
    "    + pt.geom_point(pt.aes(y=\"y\"))\n",
    ")"
   ]
  },
  {
   "cell_type": "markdown",
   "id": "c29abc89",
   "metadata": {},
   "source": [
    "Here we can see that the fit is no longer perfect, despite coming from the \"same\" model. Since we already know that a quadratic can fit the underlying function perfectly, underfitting is not the issue here. Instead, the error is increased due to the noise in the data.\n",
    "\n",
    "_However_, we have not yet seen a case of _overfitting_. To see that phenomenon, let's keep increasing the order of the model."
   ]
  },
  {
   "cell_type": "markdown",
   "id": "2bb3ae3f",
   "metadata": {},
   "source": [
    "### __QX__: Overfit the model\n",
    "\n",
    "Increase the `order` of the regression until the model goes through every measured point. Does this seem like a reasonable model?\n"
   ]
  },
  {
   "cell_type": "code",
   "execution_count": null,
   "id": "6251c7b5",
   "metadata": {},
   "outputs": [],
   "source": [
    "###\n",
    "# TASK: Increase the order until the fit is perfect\n",
    "###\n",
    "\n",
    "# -- FINISH THE CODE BELOW -----\n",
    "(\n",
    "    df_ex2\n",
    "    >> ft_regression(\n",
    "        var=[\"x\"], \n",
    "        out=[\"y\"], \n",
    "        order=2 # TODO: Increase the order until the fit is perfect\n",
    "    )\n",
    "    >> gr.ev_df(df=gr.df_make(x=np.linspace(-1, +1, num=100)))\n",
    "    \n",
    "    >> pt.ggplot(pt.aes(\"x\", \"y_mean\"))\n",
    "    + pt.geom_line(linetype=\"dashed\")\n",
    "    + pt.geom_point(\n",
    "        data=df_ex2,\n",
    "        mapping=pt.aes(y=\"y\"),\n",
    "    )\n",
    ")"
   ]
  },
  {
   "cell_type": "markdown",
   "id": "22b23566",
   "metadata": {},
   "source": [
    "To help illustrate, let's look at one more synthetic example"
   ]
  },
  {
   "cell_type": "code",
   "execution_count": null,
   "id": "c3574d7e",
   "metadata": {},
   "outputs": [],
   "source": [
    "## NOTE: No need to edit\n",
    "# More complicated function with noise\n",
    "df_ex3 = (\n",
    "    gr.df_make(x=np.linspace(-1, +1, num=20))\n",
    "    >> gr.tf_mutate(y=fcn_2_noisy(DF.x))\n",
    ")\n",
    "\n",
    "(\n",
    "    df_ex3\n",
    "    >> pt.ggplot(pt.aes(\"x\", \"y\"))\n",
    "    + pt.geom_point()\n",
    ")"
   ]
  },
  {
   "cell_type": "markdown",
   "id": "bf2012b9",
   "metadata": {},
   "source": [
    "Here we can see a somewhat complicated function that is quite corrupted by noise. Below, I'm going to fit a number of polynomial models of different orders. In practice, we would like to _make a decision_ about what polynomial order to use. A sensible choice would be to pick the order that minimizes the error---let's see which model accomplishes this.\n"
   ]
  },
  {
   "cell_type": "code",
   "execution_count": null,
   "id": "d00326c0",
   "metadata": {},
   "outputs": [],
   "source": [
    "# -- DEMONSTRATION CODE, NO NEED TO EDIT -----\n",
    "# Fit on many different orders\n",
    "df_train = pd.DataFrame()\n",
    "df_test = pd.DataFrame()\n",
    "for order in range(1, 20):\n",
    "    # Fit the model\n",
    "    md_tmp = (\n",
    "        df_ex3\n",
    "        >> ft_regression(var=[\"x\"], out=[\"y\"], order=order)\n",
    "    )\n",
    "    # Evaluate model on training data\n",
    "    df_tmp = (\n",
    "        md_tmp\n",
    "        >> gr.ev_df(df=df_ex3)\n",
    "        >> gr.tf_mutate(order=order)\n",
    "    )\n",
    "    df_train = pd.concat((df_train, df_tmp), axis=0)\n",
    "    # Evaluate model on test data\n",
    "    df_tmp = (\n",
    "        gr.df_make(x=np.linspace(-1, +1, num=100))\n",
    "        >> gr.tf_mutate(y=fcn_2(DF.x), order=order)\n",
    "        >> gr.tf_md(md=md_tmp)\n",
    "    )\n",
    "    df_test = pd.concat((df_test, df_tmp), axis=0)\n",
    "\n",
    "# Visualize a few cases\n",
    "(\n",
    "    df_train\n",
    "    >> gr.tf_filter(gr.var_in(DF.order, [1, 3, 19]))\n",
    "    >> pt.ggplot(pt.aes(\"x\", \"y_mean\"))\n",
    "    + pt.geom_line(pt.aes(color=\"factor(order)\"), linetype=\"dashed\")\n",
    "    + pt.geom_point(data=df_ex3, mapping=pt.aes(y=\"y\"))\n",
    ")"
   ]
  },
  {
   "cell_type": "markdown",
   "id": "b5d1101d",
   "metadata": {},
   "source": [
    "Here I've selected just a few of the models to plot. We can see\n",
    "\n",
    "* The `Order = 1` case is underfit, like we saw in the example above\n",
    "* The `Order = 19` case curves tortuously to go through _every single point_; this is an example of _overfitting_\n",
    "* The `Order = 3` case is not perfect, but tends to balance between underfitting and overfitting. This is a well-fit model.\n",
    "\n",
    "More generally, _overfitting_ is when the model fits to spurrious patterns in the data; essentially, we are fitting to noise, rather than signal. We would like to detect and avoid overfitting in practice! While we can see above some suspicious behavior based on the fitted curves, we might like a _quantitative_ way to compare models. We can do this with the NDE values, but there is a _subtle issue_ at play here.\n"
   ]
  },
  {
   "cell_type": "markdown",
   "id": "504215ad",
   "metadata": {},
   "source": [
    "## Quantifying Error and Cross-Validating\n",
    "\n",
    "---\n",
    "\n",
    "TODO Study error quantitatively\n"
   ]
  },
  {
   "cell_type": "code",
   "execution_count": null,
   "id": "0199b271",
   "metadata": {},
   "outputs": [],
   "source": [
    "## NOTE: No need to edit\n",
    "(\n",
    "    df_train\n",
    "    >> gr.tf_group_by(DF.order)\n",
    "    >> gr.tf_summarize(\n",
    "        mse=gr.rmse(DF.y_mean, DF.y),\n",
    "        ndme=gr.ndme(DF.y_mean, DF.y),\n",
    "        rsq=gr.rsq(DF.y_mean, DF.y),\n",
    "    )\n",
    ")"
   ]
  },
  {
   "cell_type": "markdown",
   "id": "00880b7e",
   "metadata": {},
   "source": [
    "\n",
    "- `mse` is [mean-squared error](https://en.wikipedia.org/wiki/Mean_squared_error), a common error metric often used in the machine learning community. Smaller values are more accurate.\n",
    "- `ndme` stands for *non-dimensional model error*. As the name implies, this quantity is dimensionless, and takes a value of `0` when the model is perfect, and a value of `1` (sometimes higher) when the model is uninformative.\n",
    "- `rsq` is short for $R^2$ (r-squared), also called the [coefficient of determination](https://en.wikipedia.org/wiki/Coefficient_of_determination), a common *goodness of fit* metric used in the statistics community. Higher values are more accurate.\n"
   ]
  },
  {
   "cell_type": "markdown",
   "id": "9200a67e",
   "metadata": {},
   "source": [
    "Let's compare the error values `train` on only the available (noisy) data, and the error computed using evaluations from the true (noiseless) function (`test` data).\n"
   ]
  },
  {
   "cell_type": "code",
   "execution_count": null,
   "id": "0b09b855",
   "metadata": {},
   "outputs": [],
   "source": [
    "(\n",
    "    df_train \n",
    "    >> gr.tf_mutate(source=\"train\")\n",
    "    >> gr.tf_bind_rows(\n",
    "        df_test\n",
    "        >> gr.tf_mutate(source=\"test\")\n",
    "    )\n",
    "    >> gr.tf_group_by(DF.order, DF.source)\n",
    "    >> gr.tf_summarize(mse=gr.ndme(DF.y_mean, DF.y))\n",
    "    \n",
    "    >> pt.ggplot(pt.aes(\"order\", \"mse\"))\n",
    "    + pt.geom_line(pt.aes(linetype=\"source\"))\n",
    "    + pt.scale_y_log10()\n",
    "    + pt.labs(\n",
    "        x=\"Polynomial Order\",\n",
    "        y=\"Error\",\n",
    "    )\n",
    ")"
   ]
  },
  {
   "cell_type": "markdown",
   "id": "c5d5b6da",
   "metadata": {},
   "source": [
    "Here we can see the `train` and `test` error values _greatly diverge_. This is _highly problematic_ for two interrelated reasons:\n",
    "\n",
    "1. In practice, we would only have access to the `train` curve, as the `test` curve relies on extra data (that we don't have).\n",
    "2. If we were to make a decision about `Poly Order` based on the `Estimated` curve, we would choose a much higher order than what would minimize the NDME in the `True` case.\n",
    "\n",
    "The underlying reason for the poor error estimate here is that _we are using the same data to both train and test the model_. We can improve our estimates for the error through various techniques; below, we will use the technique of _cross-validation_.\n"
   ]
  },
  {
   "cell_type": "markdown",
   "id": "1e441cfc",
   "metadata": {},
   "source": [
    "### Avoiding Optimistic Estimates: Cross-Validation\n",
    "[Cross-validation](https://en.wikipedia.org/wiki/Cross-validation_(statistics)) is a technique for estimating the error in a way that avoids the \"optimism\" we saw above. For the variant _k-fold cross-validation_, we split all our data into _folds_, and use these to build _training_ and _test_ sets. Generally:\n",
    "\n",
    "* _Training_ data are used to fit a model\n",
    "* _Test_ data are used to evaluate a model\n",
    "\n",
    "![CV schematic](https://upload.wikimedia.org/wikipedia/commons/1/1c/K-fold_cross_validation_EN.jpg)\n",
    "\n",
    "(Fabian Flock, via Wikimedia)\n",
    "\n",
    "In each of our $k$ iterations, we _do not allow_ the model to see a test fold (`Test data` above) during training, and fit the model only on the remaining data (`Training data` above). After training, we compute our chosen error metric on the test fold. Finally, we repeat this process on each of the $k$ chosen folds. This gives us a set of less optimistic estimates for the error, which we can summarize e.g. as a mean CV error.\n",
    "\n",
    "This procedure is implemented in the grama function `tf_kfolds()`, as demonstrated below.\n"
   ]
  },
  {
   "cell_type": "code",
   "execution_count": null,
   "id": "1bc29c02",
   "metadata": {},
   "outputs": [],
   "source": [
    "###\n",
    "# TASK: Use cross_validate() on the 9th order model to estimate the NDE\n",
    "# TODO: Compute the cross validation scores and assign to `scores`\n",
    "# Hint, you can pass the helper function `nde_score` (defined above) to cross_validate()\n",
    "###\n",
    "\n",
    "# -- WRITE YOUR CODE HERE -----\n",
    "\n",
    "\n",
    "# -- NO NEED TO EDIT BELOW -----\n"
   ]
  },
  {
   "cell_type": "markdown",
   "id": "998d7ad0",
   "metadata": {},
   "source": [
    "The `train_score` values are quite optimistic, while the `test_score` values are *abysmal*.\n",
    "\n",
    "Below, I show results for performing k-fold cross validation across the same set of polynomial orders as above."
   ]
  },
  {
   "cell_type": "code",
   "execution_count": null,
   "id": "af899b52",
   "metadata": {},
   "outputs": [],
   "source": [
    "# -- DEMONSTRATION CODE, NO NEED TO EDIT -----\n",
    "# Fit on many different orders\n",
    "df_kfolds = pd.DataFrame()\n",
    "for order in range(1, 20):\n",
    "    # Evaluate model on test data\n",
    "    df_tmp = (\n",
    "        df_ex3\n",
    "        >> gr.tf_kfolds(ft=ft_regression(var=[\"x\"], out=[\"y\"], order=order))\n",
    "        >> gr.tf_mutate(order=order)\n",
    "    )\n",
    "    df_kfolds = pd.concat((df_kfolds, df_tmp), axis=0)\n",
    "    \n",
    "# Visualize\n",
    "(\n",
    "    df_kfolds\n",
    "    >> pt.ggplot(pt.aes(\"order\", \"mse_y\"))\n",
    "    + pt.geom_smooth()\n",
    "    + pt.geom_point()\n",
    "    + pt.scale_y_log10()\n",
    ")\n"
   ]
  },
  {
   "cell_type": "markdown",
   "id": "a72d95e6",
   "metadata": {},
   "source": [
    "The individual CV estimates are reported as dots, while their mean is given as a line. Here we can see that the NDE takes reasonable values for order at or below `3`. Beyond this point, the NDE explodes as models begin to overfit wildly. These cross-validated error metrics would be far more informative for making a decision about polynomial order.\n",
    "\n",
    "Here we have just one tunable knob (polynomial order) that defines our model. More generally, these kinds of user-selected quantities are called [hyperparameters](https://en.wikipedia.org/wiki/Hyperparameter_(machine_learning)). Cross-validation and related techniques are key to _tuning hyperparameters_."
   ]
  },
  {
   "cell_type": "markdown",
   "id": "9522f4e4",
   "metadata": {},
   "source": [
    "### Using Models for Materials Informatics\n",
    "In the final part of the workshop, we will discuss how to _use_ these machine learning models to do useful work in materials science. Stay tuned!"
   ]
  }
 ],
 "metadata": {
  "kernelspec": {
   "display_name": "Python 3 (ipykernel)",
   "language": "python",
   "name": "python3"
  },
  "language_info": {
   "codemirror_mode": {
    "name": "ipython",
    "version": 3
   },
   "file_extension": ".py",
   "mimetype": "text/x-python",
   "name": "python",
   "nbconvert_exporter": "python",
   "pygments_lexer": "ipython3",
   "version": "3.8.5"
  }
 },
 "nbformat": 4,
 "nbformat_minor": 5
}
