{
 "cells": [
  {
   "cell_type": "markdown",
   "id": "b798d100",
   "metadata": {},
   "source": [
    "## Visualization in Python\n",
    "\n",
    "*Author*: Zach del Rosario\n",
    "\n",
    "### Learning outcomes\n",
    "By working through this notebook, you will be able to:\n",
    "\n",
    "- Re-create a number of different plots using `plotnine`.\n",
    "- Draw conclusions about data using histograms, boxplots, and scatterplots.\n",
    "- Use an advanced dimension reduction technique to plot high-dimensional data: UMAP\n",
    "- Note when another visualization package---`plotly`---might be useful for interactive plots.\n"
   ]
  },
  {
   "cell_type": "code",
   "execution_count": null,
   "id": "c35045f4",
   "metadata": {},
   "outputs": [],
   "source": [
    "# Setup\n",
    "import numpy as np\n",
    "import grama as gr\n",
    "import pandas as pd\n",
    "import plotnine as pt\n",
    "\n",
    "from grama.tran import tf_umap\n",
    "\n",
    "DF = gr.Intention()\n",
    "\n",
    "# Show all pandas columns\n",
    "pd.set_option(\"display.max_columns\", None)\n",
    "\n",
    "# For downloading data\n",
    "import os\n",
    "import requests\n"
   ]
  },
  {
   "cell_type": "markdown",
   "id": "ced2face",
   "metadata": {},
   "source": [
    "## A Bit of Wrangling\n",
    "\n",
    "Let's download a dataset to use for this notebook.\n"
   ]
  },
  {
   "cell_type": "code",
   "execution_count": null,
   "id": "5a3e2912",
   "metadata": {},
   "outputs": [],
   "source": [
    "# Filename for local data\n",
    "filename_data = \"./data/alloys.csv\"\n",
    "\n",
    "# The following code downloads the data, or (after downloaded)\n",
    "# loads the data from a cached CSV on your machine\n",
    "if not os.path.exists(filename_data):\n",
    "    # Make request for data\n",
    "    url_data = \"https://raw.githubusercontent.com/zdelrosario/mi101/main/mi101/data/wiki_comp.csv\"\n",
    "    r = requests.get(url_data, allow_redirects=True)\n",
    "    open(filename_data, 'wb').write(r.content)\n",
    "    print(\"   Alloy data downloaded from public Google sheet\")\n",
    "else:\n",
    "    # Note data already exists\n",
    "    print(\"    Alloy data loaded locally\")\n",
    "    \n",
    "# Read the data into memory\n",
    "df_raw = pd.read_csv(filename_data)\n"
   ]
  },
  {
   "cell_type": "markdown",
   "id": "821f415d",
   "metadata": {},
   "source": [
    "This is a dataset about Aluminum alloys, scraped from [Wikipedia](https://en.wikipedia.org/wiki/Aluminium_alloy#Wrought_alloys). The `alloy` column identifies the specific alloy, `al_percent` gives the percent Aluminum content (by weight), and the remaining columns give other alloying elements. From the \"head\" of the data (the first few observations) we can see the alloying elements are *sparse*---many of the entries are zero.\n"
   ]
  },
  {
   "cell_type": "markdown",
   "id": "9d8da400",
   "metadata": {},
   "source": [
    "When studying a new dataset, it's always a good idea to do some simple 'first checks' before going straight to visualizing. We'll see from these first checks that we need to do some wrangling.\n"
   ]
  },
  {
   "cell_type": "code",
   "execution_count": null,
   "id": "5c96af12",
   "metadata": {},
   "outputs": [],
   "source": [
    "# Check the data's shape\n",
    "df_raw.shape\n"
   ]
  },
  {
   "cell_type": "markdown",
   "id": "6e4e3ff6",
   "metadata": {},
   "source": [
    "We have 137 observations on 28 variables. Because there are so many variables, these data will be difficult to visualize!"
   ]
  },
  {
   "cell_type": "code",
   "execution_count": null,
   "id": "c6539cb3",
   "metadata": {},
   "outputs": [],
   "source": [
    "# Glimpse the data\n",
    "df_raw.head()\n"
   ]
  },
  {
   "cell_type": "markdown",
   "id": "7e554b79",
   "metadata": {},
   "source": [
    "We have the alloy designation, the aluminum percentage, and a percentage associated with each alloying element (by weight). To better categorize alloys, we might like to create a `series` column that gives the first digit of the `alloy` column. Since the `alloy` values all seem to be integers, it seems like we might be able to do this by doing a floor-division by 1000. However, let's inspect the datatypes before we try that:\n"
   ]
  },
  {
   "cell_type": "code",
   "execution_count": null,
   "id": "07b6d92d",
   "metadata": {},
   "outputs": [],
   "source": [
    "# Check the data types\n",
    "df_raw.dtypes\n"
   ]
  },
  {
   "cell_type": "markdown",
   "id": "4a149f03",
   "metadata": {},
   "source": [
    "Hmmm, the `alloy` column is an object. When we've seen that before, it's meant the underlying entries are strings. Maybe there are some special characters in some of the alloy identifiers?\n"
   ]
  },
  {
   "cell_type": "code",
   "execution_count": null,
   "id": "4b7224a8",
   "metadata": {},
   "outputs": [],
   "source": [
    "(\n",
    "    df_raw\n",
    "    >> gr.tf_filter(gr.str_detect(DF.alloy, \"[^\\\\d]\"))\n",
    ")"
   ]
  },
  {
   "cell_type": "markdown",
   "id": "bb2c4a1b",
   "metadata": {},
   "source": [
    "There are a few strange, special names in here! On the original Wiki article the `V-XXXX` alloys are listed under the 1000-Series alloys, so if we could just get the first digit in every `alloy` string, that would be our series number. The following code uses [regular expressions](https://regexone.com/) to do just that (`\\\\d` means \"any digit character\").\n"
   ]
  },
  {
   "cell_type": "code",
   "execution_count": null,
   "id": "422f20d1",
   "metadata": {},
   "outputs": [],
   "source": [
    "## NOTE: No need to edit\n",
    "## This code extracts the first digit of the\n",
    "## `alloy` column to create a `series` column\n",
    "df_alloys = (\n",
    "    df_raw\n",
    "    >> gr.tf_mutate(series=gr.str_extract(DF.alloy, \"\\\\d\"))\n",
    "    >> gr.tf_select(\"series\", gr.everything())\n",
    ")\n",
    "df_alloys.head()"
   ]
  },
  {
   "cell_type": "markdown",
   "id": "c49c3e46",
   "metadata": {},
   "source": [
    "We can run the filter again to check that we processed the special names the way we intended:\n"
   ]
  },
  {
   "cell_type": "code",
   "execution_count": null,
   "id": "77506194",
   "metadata": {},
   "outputs": [],
   "source": [
    "## NOTE: No need to edit\n",
    "(\n",
    "    df_alloys\n",
    "    >> gr.tf_filter(gr.str_detect(DF.alloy, \"[^\\\\d]\"))\n",
    ")\n"
   ]
  },
  {
   "cell_type": "markdown",
   "id": "6f09e2da",
   "metadata": {},
   "source": [
    "Excellent! Now that we've prepped the data, we're ready to start visualizing. Here's a first example using plotnine."
   ]
  },
  {
   "cell_type": "code",
   "execution_count": null,
   "id": "d8637614",
   "metadata": {},
   "outputs": [],
   "source": [
    "## NOTE: No need to edit\n",
    "(\n",
    "    df_alloys\n",
    "    >> pt.ggplot(pt.aes(\"al_percent\"))\n",
    "    + pt.geom_histogram()\n",
    ")"
   ]
  },
  {
   "cell_type": "markdown",
   "id": "ea3fd1bf",
   "metadata": {},
   "source": [
    "We'll start learning plotnine by making changes to this visual.\n"
   ]
  },
  {
   "cell_type": "markdown",
   "id": "26d1c433",
   "metadata": {},
   "source": [
    "## Visualizing with Plotnine\n",
    "\n",
    "---\n",
    "\n",
    "*Note*: You'll notice that plotnine graphs start with this weird `ggplot` call; that's because plotnine is an *implementation of the **g**rammar of **g**raphics*. [Ggplot2](https://ggplot2.tidyverse.org/) is the original implementation of this concept, but that package is for the R programming language. Plotnine is essentially a port of ggplot2 into Python.\n"
   ]
  },
  {
   "cell_type": "markdown",
   "id": "e0e364cc",
   "metadata": {},
   "source": [
    "### __Q1__: Study the Magnesium content\n",
    "\n",
    "Modify the plot below to create a histogram of Magnesium content, rather than aluminum content.\n"
   ]
  },
  {
   "cell_type": "code",
   "execution_count": null,
   "id": "51d66730",
   "metadata": {},
   "outputs": [],
   "source": [
    "###\n",
    "# TASK: Modify the plot below\n",
    "###\n",
    "\n",
    "# -- WRITE YOUR CODE BELOW -----\n",
    "(\n",
    "    df_alloys\n",
    "    >> pt.ggplot(pt.aes(\"al_percent\"))\n",
    "    + pt.geom_histogram()\n",
    ")\n",
    "\n"
   ]
  },
  {
   "cell_type": "markdown",
   "id": "baf4a12f",
   "metadata": {},
   "source": [
    "### __Q2__: What does this histogram tell you?\n",
    "\n",
    "List _at least 3_ observations conclusions about the data you can draw, based on the histogram above.\n",
    "\n",
    "- (Write your observations here!)\n"
   ]
  },
  {
   "cell_type": "markdown",
   "id": "1466579b",
   "metadata": {},
   "source": [
    "### Elements of Plotnine\n",
    "\n",
    "You've already edited some plotnine code, but let's break it down to better understand how plotnine works:\n",
    "\n",
    "*Anatomy of a ggplot*\n",
    "```\n",
    "(\n",
    "    df_alloys                   # Data to visualize\n",
    "    \n",
    "    >> pt.ggplot(               # Initial call; starts a ggplot object\n",
    "    \n",
    "        mapping=pt.aes(x=\"Mg\")  # Aesthetic mapping; we define how\n",
    "                                #   columns in the dataset map to \n",
    "                                #   aesthetics in the plot.\n",
    "    )  \n",
    "    \n",
    "    + pt.geom_histogram()       # Geometry; takes the aesthetic mapping\n",
    "                                #   along with the data and produces\n",
    "                                #   graphical elements.\n",
    ")\n",
    "```\n",
    "\n",
    "With these basic ingredients---a dataset, a ggplot object, and a geometry---we have everything necessary to produce a simple plot. The *power* of the ggplot concept (implemented in plotnine) is that we can *very easily tweak graphs* starting from this minimal working code.\n"
   ]
  },
  {
   "cell_type": "markdown",
   "id": "bd95a07f",
   "metadata": {},
   "source": [
    "### Rule \\#1 of Histograms: Play with the bin size\n",
    "\n",
    "Let's practice using plotnine by enacting Rule \\#1 of histograms:\n",
    "\n",
    "```{admonition} Rule #1 of Histograms: Play with the bin size\n",
    "When doing an analysis with a histogram, make sure to try multiple bin sizes to ensure you get a thorough sense of the data's distribution.\n",
    "```\n"
   ]
  },
  {
   "cell_type": "markdown",
   "id": "1d78d1f4",
   "metadata": {},
   "source": [
    "### __Q3__: Change the number of bins in the histogram\n",
    "\n",
    "Note that `plotnine` gives us a *warning* that we ought to pick a more informed bin count. Change the bin count to a larger value below.\n",
    "\n",
    "```{admonition} Accessing documentation\n",
    "Remember in the Python basics notebook we learned about accessing *documentation*. You can call `help(pt.geom_histogram)` or use the `Shift + Tab` method to read documentation on this geometry. This will tell you which argument to change in order to complete this exercise.\n",
    "```\n"
   ]
  },
  {
   "cell_type": "code",
   "execution_count": null,
   "id": "8d0251d9",
   "metadata": {},
   "outputs": [],
   "source": [
    "###\n",
    "# TASK: Modify the plot below to use a larger bin count\n",
    "###\n",
    "\n",
    "# -- WRITE YOUR CODE BELOW -----\n",
    "(\n",
    "    df_alloys\n",
    "    >> pt.ggplot(pt.aes(\"Mg\"))\n",
    "    + pt.geom_histogram()\n",
    ")\n",
    "\n"
   ]
  },
  {
   "cell_type": "markdown",
   "id": "77f18b1c",
   "metadata": {},
   "source": [
    "### __Q4__: What does this histogram tell us about Magnesium content?\n",
    "\n",
    "Focus on what you can see in your *new* graph, as opposed to your previous graph.\n",
    "\n",
    "- (Write your observations here!)\n"
   ]
  },
  {
   "cell_type": "markdown",
   "id": "1d13f942",
   "metadata": {},
   "source": [
    "### Changing the geometry\n",
    "\n",
    "The specific `geom_*` call we use will determine which *geometry* is used to map the values to visual elements. Using plotnine, we can easily edit our visual by changing the `geom_*`.\n"
   ]
  },
  {
   "cell_type": "markdown",
   "id": "2ab9be25",
   "metadata": {},
   "source": [
    "### __Q5__: Use a frequency polygon, rather than a histogram\n",
    "\n",
    "The plotnine function for a frequency polygon is `pt.geom_freqpoly()`.\n"
   ]
  },
  {
   "cell_type": "code",
   "execution_count": null,
   "id": "85309de3",
   "metadata": {},
   "outputs": [],
   "source": [
    "###\n",
    "# TASK: Modify the plot below to use a frequency polygon\n",
    "###\n",
    "\n",
    "# -- WRITE YOUR CODE BELOW -----\n",
    "(\n",
    "    df_alloys\n",
    "    >> pt.ggplot(pt.aes(\"Mg\"))\n",
    "    + pt.geom_histogram(bins=30)\n",
    ")\n",
    "\n"
   ]
  },
  {
   "cell_type": "markdown",
   "id": "1caf4902",
   "metadata": {},
   "source": [
    "This is a simple tweak, but it will be important for the next change we'll make.\n"
   ]
  },
  {
   "cell_type": "markdown",
   "id": "fd826990",
   "metadata": {},
   "source": [
    "### Adding aesthetics\n",
    "\n",
    "Part of the magic of ggplot is that it can *automatically* handle additional aesthetics, simply by changing the mapping. The `pt.aes(..)` can take additional keyword arguments, allowing us to visualize additional variables on the same plot.\n",
    "\n",
    "For a histogram or frequency polygon, we must provide an x-coordinate. However, we can provide additional aesthetic mappings, such as `color` or `linetype`.\n",
    "\n",
    "```{admonition} Ggplot and defauls\n",
    "To make ggplot easy-to-use, it has a large variety of *default settings*, with the option to *override* those defaults. By default the `pt.aes()` function will assume your first two arguments are x and y; put differently this `pt.aes(x=\"var1\", y=\"var2\")` is equivalent to `pt.aes(\"var1\", \"var2\")`.\n",
    "```\n"
   ]
  },
  {
   "cell_type": "markdown",
   "id": "f8899711",
   "metadata": {},
   "source": [
    "### __Q6__: Add an aesthetic for the alloy series\n",
    "\n",
    "Add an aesthetic mapping in `pt.aes(...)` to visualize the `\"series\"` column. Answer the questions below.\n"
   ]
  },
  {
   "cell_type": "code",
   "execution_count": null,
   "id": "8207a1dc",
   "metadata": {},
   "outputs": [],
   "source": [
    "###\n",
    "# TASK: Modify the plot below to add the \"series\" column to the plot\n",
    "###\n",
    "\n",
    "# -- WRITE YOUR CODE BELOW -----\n",
    "(\n",
    "    df_alloys\n",
    "    >> pt.ggplot(pt.aes(\"Mg\"))\n",
    "    + pt.geom_freqpoly(bins=15)\n",
    ")\n",
    "\n"
   ]
  },
  {
   "cell_type": "markdown",
   "id": "094f1314",
   "metadata": {},
   "source": [
    "*Observations*:\n",
    "\n",
    "- What kinds of questions can you answer with this plot that you couldn't before?\n",
    "  - (Write your observations here!)\n",
    "- Try switching the geometry back to a histogram; what happens? How interpretable is the resulting graph?\n",
    "  - (Write your observations here!)\n"
   ]
  },
  {
   "cell_type": "markdown",
   "id": "83d559da",
   "metadata": {},
   "source": [
    "## Reproducing plots\n",
    "\n",
    "---\n",
    "\n",
    "Now that we've learned some basics of plotnine / ggplot, let's take this learning further by reproducing some plots.\n"
   ]
  },
  {
   "cell_type": "markdown",
   "id": "ade069c2",
   "metadata": {},
   "source": [
    "### __Q7__: Reproduce this set of boxplots\n",
    "\n",
    "*Hint 1*: The plotnine function for a boxplot is `pt.geom_boxplot`.\n",
    "\n",
    "*Hint 2*: The grama function `gr.fct_reorder()` will help you re-order one variable in terms of a second variable. You can use this within a `gr.tf_mutate()` call to modify the ordering in the plot.\n"
   ]
  },
  {
   "cell_type": "code",
   "execution_count": null,
   "id": "01dafefd",
   "metadata": {},
   "outputs": [],
   "source": [
    "###\n",
    "# TASK: Reproduce the plot below\n",
    "###\n",
    "\n",
    "# -- WRITE YOUR CODE BELOW -----\n",
    "\n"
   ]
  },
  {
   "cell_type": "markdown",
   "id": "2ebfabc4",
   "metadata": {},
   "source": [
    "![Boxplot image to recreate](../images/vis-boxplot.png)\n",
    "<!-- task-end -->"
   ]
  },
  {
   "cell_type": "markdown",
   "id": "96fba632",
   "metadata": {},
   "source": [
    "### __Q8__: What does this boxplot plot tell you?\n",
    "\n",
    "List _at least 3_ observations conclusions about the data you can draw, based on the boxplots above.\n",
    "\n",
    "- (Write your observations here!)\n"
   ]
  },
  {
   "cell_type": "markdown",
   "id": "9802fdb0",
   "metadata": {},
   "source": [
    "### __Q9__: Reproduce this scatterplot\n",
    "\n",
    "*Hint 1*: The plotnine function for a scatterplot is `pt.geom_point`.\n",
    "\n",
    "*Hint 2*: The plotnine function `pt.theme_minimal()` will strip away the grey, giving you a cleaner visual.\n"
   ]
  },
  {
   "cell_type": "code",
   "execution_count": null,
   "id": "b44b98c9",
   "metadata": {},
   "outputs": [],
   "source": [
    "###\n",
    "# TASK: Reproduce the plot below\n",
    "###\n",
    "\n",
    "# -- WRITE YOUR CODE BELOW -----\n",
    "# (\n",
    "#     df_alloys\n",
    "    \n",
    "#     >> pt.ggplot(pt.aes(\"al_percent\", ))\n",
    "#     + pt.geom_*\n",
    "#     + pt.labs()\n",
    "# )\n",
    "\n"
   ]
  },
  {
   "cell_type": "markdown",
   "id": "0f8b1f74",
   "metadata": {},
   "source": [
    "![Scatterplot image to recreate](../images/vis-scatter.png)\n",
    "<!-- task-end -->"
   ]
  },
  {
   "cell_type": "markdown",
   "id": "d003b3cc",
   "metadata": {},
   "source": [
    "### __Q10__: What does this scatterplot tell you?\n",
    "\n",
    "List _at least 3_ observations conclusions about the data you can draw, based on the scatterplot above.\n",
    "\n",
    "- (Write your observations here!)\n"
   ]
  },
  {
   "cell_type": "markdown",
   "id": "e5d18dc3",
   "metadata": {},
   "source": [
    "## Dimension Reduction\n",
    "\n",
    "---\n",
    "\n",
    "Studying *all* the variables at once is difficult, as we cannot directly visualize 25-dimensional space! Instead, we will use *dimension reduction* techniques to visualize the data while preserving low-dimensional structure. We will illustrate one advanced technique: UMAP.\n",
    "\n",
    "[UMAP](https://umap-learn.readthedocs.io/en/latest/) stands for *uniform manifold approximation*; this is a nonlinear dimension reduction technique. UMAP coordinates don't have any physical interpretation, but the technique can frequently capture low-dimensional structure that PCA cannot. [This article](https://pair-code.github.io/understanding-umap/) is a fantastic resource for understanding UMAP.\n",
    "\n",
    "The following carries out a UMAP transformation of the alloy dataset.\n"
   ]
  },
  {
   "cell_type": "code",
   "execution_count": null,
   "id": "4862bd84",
   "metadata": {},
   "outputs": [],
   "source": [
    "# Perform UMAP reduction\n",
    "df_umap_data = (\n",
    "    df_alloys\n",
    "    >> gr.tf_drop(\"alloy\", \"series\")\n",
    "    >> tf_umap(seed=101)\n",
    "    >> gr.tf_bind_cols(df_alloys[[\"alloy\", \"series\"]])\n",
    "    >> gr.tf_select(\"series\", \"alloy\", gr.everything())\n",
    ")\n"
   ]
  },
  {
   "cell_type": "markdown",
   "id": "46f7eeae",
   "metadata": {},
   "source": [
    "Let's inspect the UMAP-transformed data:"
   ]
  },
  {
   "cell_type": "code",
   "execution_count": null,
   "id": "0dc013a6",
   "metadata": {},
   "outputs": [],
   "source": [
    "(\n",
    "    df_umap_data\n",
    "    >> gr.tf_head()\n",
    ")"
   ]
  },
  {
   "cell_type": "markdown",
   "id": "0d7f92ce",
   "metadata": {},
   "source": [
    "The original numerical features have been reduced to just two; we use these two coordinates for plotting."
   ]
  },
  {
   "cell_type": "markdown",
   "id": "91154698",
   "metadata": {},
   "source": [
    "### __Q11__: Recreate this scatterplot using the UMAP data\n"
   ]
  },
  {
   "cell_type": "code",
   "execution_count": null,
   "id": "97b720e7",
   "metadata": {},
   "outputs": [],
   "source": [
    "###\n",
    "# TASK: Reproduce the plot below\n",
    "###\n",
    "\n",
    "# -- WRITE YOUR CODE BELOW -----\n"
   ]
  },
  {
   "cell_type": "markdown",
   "id": "2d423fb3",
   "metadata": {},
   "source": [
    "![UMAP scatterplot image to recreate](../images/vis-umap.png)\n",
    "<!-- task-end -->"
   ]
  },
  {
   "cell_type": "markdown",
   "id": "71ce1c9a",
   "metadata": {},
   "source": [
    "### __Q12__: What does this UMAP plot tell you?\n",
    "\n",
    "List _at least 3_ observations conclusions about the data you can draw, based on the scatterplot above.\n",
    "\n",
    "- (Write your observations here!)\n"
   ]
  },
  {
   "cell_type": "markdown",
   "id": "b1913395",
   "metadata": {},
   "source": [
    "```{admonition} Important caveats about UMAP!\n",
    "Interpreting a UMAP plot is [subtle and challenging](https://pair-code.github.io/understanding-umap/), but also extremely powerful. One of the caveats of UMAP is that the coordinates themselves do not have a simple interpretation, so the location of clusters in the two coordinates fairly arbitrary. The distances between clusters is also not necessarily meaningful. A well-calibrated UMAP will tend to reveal clustering in the data, in which case points nearby in UMAP space can be understood to be close in the original space.\n",
    "```"
   ]
  },
  {
   "cell_type": "markdown",
   "id": "d0b49950",
   "metadata": {},
   "source": [
    "## BONUS: Plotly vs Plotnine\n",
    "\n",
    "---\n",
    "\n",
    "[This page](https://plotly.com/python/basic-charts/) gives details on how to make a wide variety of charts with plotly. The easiest way is probably by using `px.scatter()`, which is documented [here](https://plotly.com/python/line-and-scatter/)."
   ]
  },
  {
   "cell_type": "code",
   "execution_count": null,
   "id": "4fe45a4e",
   "metadata": {},
   "outputs": [],
   "source": [
    "## Import plotly\n",
    "import plotly.express as px\n",
    "# Necessary to show plotly figures in Jupyter\n",
    "%matplotlib widget"
   ]
  },
  {
   "cell_type": "code",
   "execution_count": null,
   "id": "9ac22688",
   "metadata": {},
   "outputs": [],
   "source": [
    "## NOTE: No need to edit\n",
    "fig = px.scatter(\n",
    "    df_umap_data, \n",
    "    x=\"xi0\", \n",
    "    y=\"xi1\",\n",
    "    color=\"series\",\n",
    "    hover_data=[\"alloy\"],\n",
    "    title=\"UMAP Plot\",\n",
    "    labels={\n",
    "        \"xi0\": \"UMAP Coordinate 1\",\n",
    "        \"xi1\": \"UMAP Coordinate 2\",\n",
    "    }\n",
    ")\n",
    "fig.show()\n"
   ]
  }
 ],
 "metadata": {
  "kernelspec": {
   "display_name": "Python 3 (ipykernel)",
   "language": "python",
   "name": "python3"
  },
  "language_info": {
   "codemirror_mode": {
    "name": "ipython",
    "version": 3
   },
   "file_extension": ".py",
   "mimetype": "text/x-python",
   "name": "python",
   "nbconvert_exporter": "python",
   "pygments_lexer": "ipython3",
   "version": "3.7.4"
  }
 },
 "nbformat": 4,
 "nbformat_minor": 5
}
