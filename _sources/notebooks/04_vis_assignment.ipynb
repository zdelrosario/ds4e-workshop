{
 "cells": [
  {
   "cell_type": "markdown",
   "id": "9af6ba13",
   "metadata": {},
   "source": [
    "(04-vis)=\n",
    "<!-- # Day 3 (Take-Home) Visualization in Python -->\n",
    "# Visualization in Python\n",
    "\n",
    "*Author*: Zach del Rosario\n",
    "\n",
    "### Learning outcomes\n",
    "By working through this notebook, you will be able to:\n",
    "\n",
    "- Re-create a number of different plots using `plotnine`.\n",
    "- Draw conclusions about data using histograms, boxplots, and scatterplots.\n",
    "- Use an advanced dimension reduction technique to plot high-dimensional data: UMAP\n",
    "- Note when another visualization package---`plotly`---might be useful for interactive plots.\n"
   ]
  },
  {
   "cell_type": "code",
   "execution_count": null,
   "id": "91494252",
   "metadata": {},
   "outputs": [],
   "source": [
    "# Setup\n",
    "import grama as gr\n",
    "import pandas as pd\n",
    "%matplotlib inline\n",
    "\n",
    "DF = gr.Intention()\n",
    "\n",
    "# Show all pandas columns\n",
    "pd.set_option(\"display.max_columns\", None)\n",
    "\n",
    "# For downloading data\n",
    "import os\n",
    "import requests\n"
   ]
  },
  {
   "cell_type": "markdown",
   "id": "70e6e369",
   "metadata": {},
   "source": [
    "## A Bit of Wrangling\n",
    "\n",
    "Let's download a dataset to use for this notebook.\n"
   ]
  },
  {
   "cell_type": "code",
   "execution_count": null,
   "id": "e17ae49a",
   "metadata": {},
   "outputs": [],
   "source": [
    "# Filename for local data\n",
    "filename_data = \"./data/alloys.csv\"\n",
    "\n",
    "# The following code downloads the data, or (after downloaded)\n",
    "# loads the data from a cached CSV on your machine\n",
    "if not os.path.exists(filename_data):\n",
    "    # Make request for data\n",
    "    url_data = \"https://raw.githubusercontent.com/zdelrosario/mi101/main/mi101/data/wiki_comp.csv\"\n",
    "    r = requests.get(url_data, allow_redirects=True)\n",
    "    open(filename_data, 'wb').write(r.content)\n",
    "    print(\"   Alloy data downloaded from public Google sheet\")\n",
    "else:\n",
    "    # Note data already exists\n",
    "    print(\"    Alloy data loaded locally\")\n",
    "    \n",
    "# Read the data into memory\n",
    "df_raw = pd.read_csv(filename_data)\n"
   ]
  },
  {
   "cell_type": "markdown",
   "id": "445e6182",
   "metadata": {},
   "source": [
    "This is a dataset about Aluminum alloys, scraped from [Wikipedia](https://en.wikipedia.org/wiki/Aluminium_alloy#Wrought_alloys). The `alloy` column identifies the specific alloy, `al_percent` gives the percent Aluminum content (by weight), and the remaining columns give other alloying elements. From the \"head\" of the data (the first few observations) we can see the alloying elements are *sparse*---many of the entries are zero.\n"
   ]
  },
  {
   "cell_type": "markdown",
   "id": "c852f46b",
   "metadata": {},
   "source": [
    "When studying a new dataset, it's always a good idea to do some simple 'first checks' before going straight to visualizing. We'll see from these first checks that we need to do some wrangling.\n"
   ]
  },
  {
   "cell_type": "code",
   "execution_count": null,
   "id": "e554e5f2",
   "metadata": {},
   "outputs": [],
   "source": [
    "# Check the data's shape\n",
    "df_raw.shape\n"
   ]
  },
  {
   "cell_type": "markdown",
   "id": "19f85e00",
   "metadata": {},
   "source": [
    "We have 137 observations on 28 variables. Because there are so many variables, these data will be difficult to visualize!"
   ]
  },
  {
   "cell_type": "code",
   "execution_count": null,
   "id": "8abcad88",
   "metadata": {},
   "outputs": [],
   "source": [
    "# Glimpse the data\n",
    "df_raw.head()\n"
   ]
  },
  {
   "cell_type": "markdown",
   "id": "ae26cc89",
   "metadata": {},
   "source": [
    "We have the alloy designation, the aluminum percentage, and a percentage associated with each alloying element (by weight). To better categorize alloys, we might like to create a `series` column that gives the first digit of the `alloy` column. Since the `alloy` values all seem to be integers, it seems like we might be able to do this by doing a floor-division by 1000. However, let's inspect the datatypes before we try that:\n"
   ]
  },
  {
   "cell_type": "code",
   "execution_count": null,
   "id": "b652cdaf",
   "metadata": {},
   "outputs": [],
   "source": [
    "# Check the data types\n",
    "df_raw.dtypes\n"
   ]
  },
  {
   "cell_type": "markdown",
   "id": "e10e7e86",
   "metadata": {},
   "source": [
    "Hmmm, the `alloy` column is an object. When we've seen that before, it's meant the underlying entries are strings. Maybe there are some special characters in some of the alloy identifiers?\n"
   ]
  },
  {
   "cell_type": "code",
   "execution_count": null,
   "id": "b99380a5",
   "metadata": {},
   "outputs": [],
   "source": [
    "(\n",
    "    df_raw\n",
    "    >> gr.tf_filter(gr.str_detect(DF.alloy, \"[^\\\\d]\"))\n",
    ")"
   ]
  },
  {
   "cell_type": "markdown",
   "id": "8ff99c14",
   "metadata": {},
   "source": [
    "There are a few strange, special names in here! On the original Wiki article the `V-XXXX` alloys are listed under the 1000-Series alloys, so if we could just get the first digit in every `alloy` string, that would be our series number. The following code uses [regular expressions](https://regexone.com/) to do just that (`\\\\d` means \"any digit character\").\n"
   ]
  },
  {
   "cell_type": "code",
   "execution_count": null,
   "id": "dc263622",
   "metadata": {},
   "outputs": [],
   "source": [
    "## NOTE: No need to edit\n",
    "## This code extracts the first digit of the\n",
    "## `alloy` column to create a `series` column\n",
    "df_alloys = (\n",
    "    df_raw\n",
    "    >> gr.tf_mutate(series=gr.str_extract(DF.alloy, \"\\\\d\"))\n",
    "    >> gr.tf_select(\"series\", gr.everything())\n",
    ")\n",
    "df_alloys.head()"
   ]
  },
  {
   "cell_type": "markdown",
   "id": "0c7756ea",
   "metadata": {},
   "source": [
    "We can run the filter again to check that we processed the special names the way we intended:\n"
   ]
  },
  {
   "cell_type": "code",
   "execution_count": null,
   "id": "9bc0df4e",
   "metadata": {},
   "outputs": [],
   "source": [
    "## NOTE: No need to edit\n",
    "(\n",
    "    df_alloys\n",
    "    >> gr.tf_filter(gr.str_detect(DF.alloy, \"[^\\\\d]\"))\n",
    ")\n"
   ]
  },
  {
   "cell_type": "markdown",
   "id": "9e10e9f9",
   "metadata": {},
   "source": [
    "Excellent! Now that we've prepped the data, we're ready to start visualizing. Here's a first example using plotnine."
   ]
  },
  {
   "cell_type": "code",
   "execution_count": null,
   "id": "6b68d7bf",
   "metadata": {},
   "outputs": [],
   "source": [
    "## NOTE: No need to edit\n",
    "(\n",
    "    df_alloys\n",
    "    >> gr.ggplot(gr.aes(\"al_percent\"))\n",
    "    + gr.geom_histogram()\n",
    ")"
   ]
  },
  {
   "cell_type": "markdown",
   "id": "679cd749",
   "metadata": {},
   "source": [
    "We'll start learning plotnine by making changes to this visual.\n",
    "\n",
    "> *Aside*: The `ggplot` functionality in this notebook is provided by the [plotnine](https://plotnine.readthedocs.io/en/stable/) package. However, plotnine is imported by grama, so you can access all of plotnine's functions through `gr.` syntax.\n"
   ]
  },
  {
   "cell_type": "markdown",
   "id": "22eb32eb",
   "metadata": {
    "tags": []
   },
   "source": [
    "## Visualizing with Plotnine\n",
    "\n",
    "---\n",
    "\n",
    "*Note*: You'll notice that plotnine graphs start with this weird `ggplot` call; that's because plotnine is an *implementation of the **g**rammar of **g**raphics*. [Ggplot2](https://ggplot2.tidyverse.org/) is another implementation of this concept, but that package is for the R programming language. Plotnine is essentially a port of ggplot2 into Python.\n"
   ]
  },
  {
   "cell_type": "markdown",
   "id": "781b6e37",
   "metadata": {},
   "source": [
    "### __Q1__: Study the Magnesium content\n",
    "\n",
    "Modify the plot below to create a histogram of Magnesium content, rather than aluminum content.\n"
   ]
  },
  {
   "cell_type": "code",
   "execution_count": null,
   "id": "805c4517",
   "metadata": {},
   "outputs": [],
   "source": [
    "###\n",
    "# TASK: Modify the plot below\n",
    "###\n",
    "\n",
    "# -- WRITE YOUR CODE BELOW -----\n",
    "(\n",
    "    df_alloys\n",
    "    >> gr.ggplot(gr.aes(\"al_percent\"))\n",
    "    + gr.geom_histogram()\n",
    ")\n",
    "\n"
   ]
  },
  {
   "cell_type": "markdown",
   "id": "0cf55d77",
   "metadata": {},
   "source": [
    "### __Q2__: What does this histogram tell you?\n",
    "\n",
    "List _at least 3_ observations conclusions about the data you can draw, based on the histogram above.\n",
    "\n",
    "- (Write your observations here!)\n"
   ]
  },
  {
   "cell_type": "markdown",
   "id": "2215b43c",
   "metadata": {},
   "source": [
    "### Elements of Plotnine\n",
    "\n",
    "You've already edited some plotnine code, but let's break it down to better understand how plotnine works:\n",
    "\n",
    "*Anatomy of a ggplot*\n",
    "```python\n",
    "(\n",
    "    df_alloys                   # Data to visualize\n",
    "    \n",
    "    >> gr.ggplot(               # Initial call; starts a ggplot object\n",
    "    \n",
    "        mapping=gr.aes(x=\"Mg\")  # Aesthetic mapping; we define how\n",
    "                                #   columns in the dataset map to \n",
    "                                #   aesthetics in the plot.\n",
    "    )  \n",
    "    \n",
    "    + gr.geom_histogram()       # Geometry; takes the aesthetic mapping\n",
    "                                #   along with the data and produces\n",
    "                                #   graphical elements.\n",
    ")\n",
    "```\n",
    "\n",
    "With these basic ingredients---a dataset, a ggplot object, and a geometry---we have everything necessary to produce a simple plot. The *power* of the ggplot concept (implemented in plotnine) is that we can *very easily tweak graphs* starting from this minimal working code.\n"
   ]
  },
  {
   "cell_type": "markdown",
   "id": "8d8b4112",
   "metadata": {},
   "source": [
    "### Rule \\#1 of Histograms: Play with the bin size\n",
    "\n",
    "Let's practice using plotnine by enacting Rule \\#1 of histograms:\n",
    "\n",
    "```{admonition} Rule #1 of Histograms: Play with the bin size\n",
    "When doing an analysis with a histogram, make sure to try multiple bin sizes to ensure you get a thorough sense of the data's distribution.\n",
    "```\n"
   ]
  },
  {
   "cell_type": "markdown",
   "id": "23bc23d6",
   "metadata": {},
   "source": [
    "### __Q3__: Change the number of bins in the histogram\n",
    "\n",
    "Note that `plotnine` gives us a *warning* that we ought to pick a more informed bin count. Change the bin count to a larger value below.\n",
    "\n",
    "```{admonition} Accessing documentation\n",
    "Remember in the Python basics notebook we learned about accessing *documentation*. You can call `help(gr.geom_histogram)` or use the `Shift + Tab` method to read documentation on this geometry. This will tell you which argument to change in order to complete this exercise.\n",
    "```\n"
   ]
  },
  {
   "cell_type": "code",
   "execution_count": null,
   "id": "15599565",
   "metadata": {},
   "outputs": [],
   "source": [
    "###\n",
    "# TASK: Modify the plot below to use a larger bin count\n",
    "###\n",
    "\n",
    "# -- WRITE YOUR CODE BELOW -----\n",
    "(\n",
    "    df_alloys\n",
    "    >> gr.ggplot(gr.aes(\"Mg\"))\n",
    "    + gr.geom_histogram()\n",
    ")\n",
    "\n"
   ]
  },
  {
   "cell_type": "markdown",
   "id": "fdfb4c30",
   "metadata": {},
   "source": [
    "### __Q4__: What does this histogram tell us about Magnesium content?\n",
    "\n",
    "Focus on what you can see in your *new* graph, as opposed to your previous graph.\n",
    "\n",
    "- (Write your observations here!)\n"
   ]
  },
  {
   "cell_type": "markdown",
   "id": "02434980",
   "metadata": {},
   "source": [
    "### Changing the geometry\n",
    "\n",
    "The specific `geom_*` call we use will determine which *geometry* is used to map the values to visual elements. Using plotnine, we can easily edit our visual by changing the `geom_*`.\n"
   ]
  },
  {
   "cell_type": "markdown",
   "id": "0f73de7e",
   "metadata": {},
   "source": [
    "### __Q5__: Use a frequency polygon, rather than a histogram\n",
    "\n",
    "The plotnine function for a frequency polygon is `pt.geom_freqpoly()`.\n"
   ]
  },
  {
   "cell_type": "code",
   "execution_count": null,
   "id": "618f7a9d",
   "metadata": {},
   "outputs": [],
   "source": [
    "###\n",
    "# TASK: Modify the plot below to use a frequency polygon\n",
    "###\n",
    "\n",
    "# -- WRITE YOUR CODE BELOW -----\n",
    "(\n",
    "    df_alloys\n",
    "    >> gr.ggplot(gr.aes(\"Mg\"))\n",
    "    + gr.geom_histogram(bins=30)\n",
    ")\n",
    "\n"
   ]
  },
  {
   "cell_type": "markdown",
   "id": "871395ac",
   "metadata": {},
   "source": [
    "This is a simple tweak, but it will be important for the next change we'll make.\n"
   ]
  },
  {
   "cell_type": "markdown",
   "id": "94d4d758",
   "metadata": {},
   "source": [
    "### Adding aesthetics\n",
    "\n",
    "Part of the magic of ggplot is that it can *automatically* handle additional aesthetics, simply by changing the mapping. The `gr.aes(..)` can take additional keyword arguments, allowing us to visualize additional variables on the same plot.\n",
    "\n",
    "For a histogram or frequency polygon, we must provide an x-coordinate. However, we can provide additional aesthetic mappings, such as `color` or `linetype`.\n",
    "\n",
    "```{admonition} Ggplot and defauls\n",
    "To make ggplot easy-to-use, it has a large variety of *default settings*, with the option to *override* those defaults. By default the `gr.aes()` function will assume your first two arguments are x and y; put differently this `gr.aes(x=\"var1\", y=\"var2\")` is equivalent to `gr.aes(\"var1\", \"var2\")`.\n",
    "```\n"
   ]
  },
  {
   "cell_type": "markdown",
   "id": "c66ae3db",
   "metadata": {},
   "source": [
    "### __Q6__: Add an aesthetic for the alloy series\n",
    "\n",
    "Add an aesthetic mapping in `gr.aes(...)` to visualize the `\"series\"` column. Answer the questions below.\n"
   ]
  },
  {
   "cell_type": "code",
   "execution_count": null,
   "id": "d98f8f9b",
   "metadata": {},
   "outputs": [],
   "source": [
    "###\n",
    "# TASK: Modify the plot below to add the \"series\" column to the plot\n",
    "###\n",
    "\n",
    "# -- WRITE YOUR CODE BELOW -----\n",
    "(\n",
    "    df_alloys\n",
    "    >> gr.ggplot(gr.aes(\"Mg\"))\n",
    "    + gr.geom_freqpoly(bins=15)\n",
    ")\n",
    "\n"
   ]
  },
  {
   "cell_type": "markdown",
   "id": "77bc61c4",
   "metadata": {},
   "source": [
    "*Observations*:\n",
    "\n",
    "- What kinds of questions can you answer with this plot that you couldn't before?\n",
    "  - (Write your observations here!)\n",
    "- Try switching the geometry back to a histogram; what happens? How interpretable is the resulting graph?\n",
    "  - (Write your observations here!)\n"
   ]
  },
  {
   "cell_type": "markdown",
   "id": "651ca7c1",
   "metadata": {},
   "source": [
    "## Reproducing plots\n",
    "\n",
    "---\n",
    "\n",
    "Now that we've learned some basics of plotnine / ggplot, let's take this learning further by reproducing some plots.\n"
   ]
  },
  {
   "cell_type": "markdown",
   "id": "9cab674b",
   "metadata": {},
   "source": [
    "### __Q7__: Reproduce this set of boxplots\n",
    "\n",
    "*Hint 1*: The plotnine function for a boxplot is `gr.geom_boxplot`.\n",
    "\n",
    "*Hint 2*: The grama function `gr.fct_reorder()` will help you re-order one variable in terms of a second variable. You can use this within a `gr.tf_mutate()` call to modify the ordering in the plot.\n"
   ]
  },
  {
   "cell_type": "code",
   "execution_count": null,
   "id": "2907da50",
   "metadata": {},
   "outputs": [],
   "source": [
    "###\n",
    "# TASK: Reproduce the plot below\n",
    "###\n",
    "\n",
    "# -- WRITE YOUR CODE BELOW -----\n",
    "\n"
   ]
  },
  {
   "cell_type": "markdown",
   "id": "e2ae5bd3",
   "metadata": {},
   "source": [
    "![Boxplot image to recreate](../images/vis-boxplot.png)\n",
    "<!-- task-end -->"
   ]
  },
  {
   "cell_type": "markdown",
   "id": "f51c8d2d",
   "metadata": {},
   "source": [
    "### __Q8__: What does this boxplot plot tell you?\n",
    "\n",
    "List _at least 3_ observations conclusions about the data you can draw, based on the boxplots above.\n",
    "\n",
    "- (Write your observations here!)\n"
   ]
  },
  {
   "cell_type": "markdown",
   "id": "cda84a68",
   "metadata": {},
   "source": [
    "### __Q9__: Reproduce this scatterplot\n",
    "\n",
    "*Hint 1*: The plotnine function for a scatterplot is `pt.geom_point`.\n",
    "\n",
    "*Hint 2*: The plotnine function `pt.theme_minimal()` will strip away the grey, giving you a cleaner visual.\n",
    "\n",
    "*Hint 3*: The plotnine function `pt.labs()` will allow you to override the `x` and `y` axis labels with your own labels.\n"
   ]
  },
  {
   "cell_type": "code",
   "execution_count": null,
   "id": "68be1e8a",
   "metadata": {},
   "outputs": [],
   "source": [
    "###\n",
    "# TASK: Reproduce the plot below\n",
    "###\n",
    "\n",
    "# -- WRITE YOUR CODE BELOW -----\n",
    "# (\n",
    "#     df_alloys\n",
    "    \n",
    "#     >> pt.ggplot(pt.aes(\"al_percent\", ))\n",
    "#     + pt.geom_*\n",
    "#     + pt.labs()\n",
    "# )\n",
    "\n"
   ]
  },
  {
   "cell_type": "markdown",
   "id": "5fb42bde",
   "metadata": {},
   "source": [
    "![Scatterplot image to recreate](../images/vis-scatter.png)\n",
    "<!-- task-end -->"
   ]
  },
  {
   "cell_type": "markdown",
   "id": "27b9f9ae",
   "metadata": {},
   "source": [
    "### __Q10__: What does this scatterplot tell you?\n",
    "\n",
    "List _at least 3_ observations about the data you can draw, based on the scatterplot above.\n",
    "\n",
    "- (Write your observations here!)\n"
   ]
  },
  {
   "cell_type": "markdown",
   "id": "9a04fc92",
   "metadata": {},
   "source": [
    "## Dimension Reduction\n",
    "\n",
    "---\n",
    "\n",
    "Studying *all* the variables at once is difficult, as we cannot directly visualize 25-dimensional space! Instead, we will use *dimension reduction* techniques to visualize the data while preserving low-dimensional structure. We will illustrate one advanced technique: UMAP.\n",
    "\n",
    "[UMAP](https://umap-learn.readthedocs.io/en/latest/) stands for *uniform manifold approximation*; this is a nonlinear dimension reduction technique. UMAP coordinates don't have any physical interpretation, but the technique can frequently capture low-dimensional structure that PCA cannot. [This article](https://pair-code.github.io/understanding-umap/) is a fantastic resource for understanding UMAP.\n",
    "\n",
    "The following carries out a UMAP transformation of the alloy dataset.\n"
   ]
  },
  {
   "cell_type": "code",
   "execution_count": null,
   "id": "ff86f6de",
   "metadata": {},
   "outputs": [],
   "source": [
    "# Perform UMAP reduction\n",
    "df_umap_data = (\n",
    "    df_alloys\n",
    "    >> gr.tf_drop(\"alloy\", \"series\")\n",
    "    >> gr.tf_umap(seed=101)\n",
    "    >> gr.tf_bind_cols(df_alloys[[\"alloy\", \"series\"]])\n",
    "    >> gr.tf_select(\"series\", \"alloy\", gr.everything())\n",
    ")\n"
   ]
  },
  {
   "cell_type": "markdown",
   "id": "6426b764",
   "metadata": {},
   "source": [
    "Let's inspect the UMAP-transformed data:"
   ]
  },
  {
   "cell_type": "code",
   "execution_count": null,
   "id": "53390824",
   "metadata": {},
   "outputs": [],
   "source": [
    "(\n",
    "    df_umap_data\n",
    "    >> gr.tf_head()\n",
    ")"
   ]
  },
  {
   "cell_type": "markdown",
   "id": "eeedd866",
   "metadata": {},
   "source": [
    "The original numerical features have been reduced to just two: `xi0` and `xi1`. We will use these two coordinates for plotting."
   ]
  },
  {
   "cell_type": "markdown",
   "id": "9318c477",
   "metadata": {},
   "source": [
    "### __Q11__: Recreate this scatterplot using the UMAP data\n"
   ]
  },
  {
   "cell_type": "code",
   "execution_count": null,
   "id": "ce8818f8",
   "metadata": {},
   "outputs": [],
   "source": [
    "###\n",
    "# TASK: Reproduce the plot below\n",
    "###\n",
    "\n",
    "# -- WRITE YOUR CODE BELOW -----\n"
   ]
  },
  {
   "cell_type": "markdown",
   "id": "16e8c6ae",
   "metadata": {},
   "source": [
    "![UMAP scatterplot image to recreate](../images/vis-umap.png)\n",
    "<!-- task-end -->"
   ]
  },
  {
   "cell_type": "markdown",
   "id": "1f878261",
   "metadata": {},
   "source": [
    "### __Q12__: What does this UMAP plot tell you?\n",
    "\n",
    "List _at least 3_ observations conclusions about the data you can draw, based on the scatterplot above.\n",
    "\n",
    "- (Write your observations here!)\n"
   ]
  },
  {
   "cell_type": "markdown",
   "id": "4f117980",
   "metadata": {},
   "source": [
    "```{admonition} Important caveats about UMAP!\n",
    "Interpreting a UMAP plot is [subtle and challenging](https://pair-code.github.io/understanding-umap/), but also extremely powerful. One of the caveats of UMAP is that the coordinates themselves do not have a simple interpretation, so the location of clusters in the two coordinates fairly arbitrary. The distances between clusters is also not necessarily meaningful. A well-calibrated UMAP will tend to reveal clustering in the data, in which case points nearby in UMAP space can be understood to be close in the original space.\n",
    "```"
   ]
  },
  {
   "cell_type": "markdown",
   "id": "11bc38c6",
   "metadata": {},
   "source": [
    "## BONUS: Plotly vs Plotnine\n",
    "\n",
    "---\n",
    "\n",
    "[This page](https://plotly.com/python/basic-charts/) gives details on how to make a wide variety of charts with plotly. Below we re-create the UMAP plot using `px.scatter()`, which is documented [here](https://plotly.com/python/line-and-scatter/)."
   ]
  },
  {
   "cell_type": "code",
   "execution_count": null,
   "id": "7ac615d3",
   "metadata": {},
   "outputs": [],
   "source": [
    "## Import plotly\n",
    "import plotly.express as px\n",
    "# Necessary to show plotly figures in Jupyter\n",
    "%matplotlib widget"
   ]
  },
  {
   "cell_type": "code",
   "execution_count": null,
   "id": "99ad218b",
   "metadata": {},
   "outputs": [],
   "source": [
    "## NOTE: No need to edit\n",
    "fig = px.scatter(\n",
    "    df_umap_data, \n",
    "    x=\"xi0\", \n",
    "    y=\"xi1\",\n",
    "    color=\"series\",\n",
    "    hover_data=[\"alloy\"],\n",
    "    title=\"UMAP Plot\",\n",
    "    labels={\n",
    "        \"xi0\": \"UMAP Coordinate 1\",\n",
    "        \"xi1\": \"UMAP Coordinate 2\",\n",
    "    }\n",
    ")\n",
    "fig.show()\n"
   ]
  },
  {
   "cell_type": "markdown",
   "id": "178ba8d4",
   "metadata": {},
   "source": [
    "The advantage of Plotly is that the plot is *interactive*; try hovering your mouse over a data point to see which *specific* alloy is which, and try clicking-and-dragging to zoom in on a rectangular region. (You can also double-click to zoom back out.)"
   ]
  },
  {
   "cell_type": "markdown",
   "id": "aa6dfbd6",
   "metadata": {},
   "source": [
    "# Survey\n",
    "\n",
    "---\n",
    "\n",
    "Once you complete this activity, please fill out the following 30-second survey:\n",
    "\n",
    "> [Survey link](https://forms.gle/HYioLEt12t42LYNd7)\n"
   ]
  }
 ],
 "metadata": {
  "kernelspec": {
   "display_name": "Python 3 (ipykernel)",
   "language": "python",
   "name": "python3"
  },
  "language_info": {
   "codemirror_mode": {
    "name": "ipython",
    "version": 3
   },
   "file_extension": ".py",
   "mimetype": "text/x-python",
   "name": "python",
   "nbconvert_exporter": "python",
   "pygments_lexer": "ipython3",
   "version": "3.9.7"
  }
 },
 "nbformat": 4,
 "nbformat_minor": 5
}
