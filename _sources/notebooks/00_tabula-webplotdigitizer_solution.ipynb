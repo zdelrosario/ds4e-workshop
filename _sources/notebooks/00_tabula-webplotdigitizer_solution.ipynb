{
 "cells": [
  {
   "cell_type": "markdown",
   "id": "0dd9d4e4",
   "metadata": {},
   "source": [
    "# Data Extraction and Management\n",
    "\n",
    "*Author*: Zachary del Rosario\n",
    "\n",
    "### Learning outcomes\n",
    "\n",
    "By working through this exercise, you will be able to:\n",
    "\n",
    "- Prevent future data headaches by collecting data *defensively*\n",
    "- Extract data from tables in published documents with Tabula\n",
    "- Liberate data from graphs with WebPlotDigitizer\n"
   ]
  },
  {
   "cell_type": "code",
   "execution_count": 1,
   "id": "91516a18",
   "metadata": {
    "collapsed": false,
    "tags": [
     "hide-cell"
    ]
   },
   "outputs": [],
   "source": [
    "import numpy as np\n",
    "import pandas as pd\n",
    "import grama as gr\n",
    "\n",
    "DF = gr.Intention()\n"
   ]
  },
  {
   "cell_type": "markdown",
   "id": "01208a39",
   "metadata": {},
   "source": [
    "## Designing Data Collection\n",
    "\n",
    "---\n",
    "\n",
    "### Choosing columns\n",
    "\n",
    "(TODO Agree on columns and formats before starting data collection)\n"
   ]
  },
  {
   "cell_type": "markdown",
   "id": "0bc2f1a0",
   "metadata": {},
   "source": [
    "### Example 1: Poor data planning\n",
    "\n",
    "| Run | Observation |\n",
    "|-----|-------------|\n",
    "|  1  | It worked   |\n",
    "|  2  | It failed   |\n",
    "|  3  | It worked   |\n",
    "\n",
    "### Q1: Suppose you were reviewing data in this form; would you be able to answer the following questions? Why or why not?\n",
    "\n",
    "- How many observations were collected?\n",
    "  - Yes, there are three observations.\n",
    "- What were the experimental settings for each observation?\n",
    "  - No, these data were not recorded\n",
    "- Were all of the planned experiments run?\n",
    "  - No, we don't have any indication of the number of planned experiments\n",
    "- What would you do to resolve the issue with Observation 2?\n",
    "  - It's unclear what went wrong, so I wouldn't know where to start!\n"
   ]
  },
  {
   "cell_type": "markdown",
   "id": "7b7aba76",
   "metadata": {},
   "source": [
    "### Example 2: More details\n",
    "\n",
    "| Run |  Knob A | Knob B | Recorded Value | Notes |\n",
    "|-----|---------|--------|----------------|-------|\n",
    "|  1  | 1.0 m/s | 2.3 kg | 1.6 eV         |       |\n",
    "|  2  | 1.0 mph | 10.0 g | NA   | Sample did not survive characterization |\n",
    "|  3  | 0.5 mph | 50.0 g | 1e-17 J        |       |\n",
    "\n",
    "### Q2: Suppose you were reviewing data in this form; would you be able to answer the following questions? Why or why not?\n",
    "\n",
    "- What were the experimental settings for each observation?\n",
    "  - Yes, we know the values for each knob\n",
    "- How do the experimental settings compare for each observation?\n",
    "  - Yes, we have the values, but since they're in different units, it's difficult to make a comparison at-a-glance.\n",
    "- Were all of the planned experiments run?\n",
    "  - No, we don't have any indication of the number of planned experiments\n",
    "- What would you do to resolve the issue with Observation 2?\n",
    "  - The sample didn't survive characterization; we don't have much to go on, but at least we know where in the process (characterization) the problem appeared!\n"
   ]
  },
  {
   "cell_type": "markdown",
   "id": "7864041b",
   "metadata": {},
   "source": [
    "### Example 3: Even Better\n",
    "\n",
    "| Run |  Knob A (m/s) | Knob B (g) | Recorded Value (eV) | Date | Notes |\n",
    "|-----|---------------|------------|---------------------|------|-------|\n",
    "| 1 / 2 |    1.00 |  2.3e3 | 1.60          | 2021-08-11 | - |\n",
    "| 2 / 2 |    0.45 |  2.0e1 | NA   | 2021-08-11 | Sample did not survive characterization |\n",
    "| 1 / 1 |    0.22 |  5.0e1 | 62.42          | 2021-08-12 | - |\n",
    "\n",
    "### Q3: Suppose you were reviewing data in this form; would you be able to answer the following questions? Why or why not?\n",
    "\n",
    "- How do the experimental settings compare for each observation?\n",
    "  - Yes, we have the values, and now that they're in common units it's much easier to compare across cells.\n",
    "- Were all of the planned experiments run?\n",
    "  - Yes, it seems that experiments were carried out over two days, and the experimentalist carried out all their planned experiments each day.\n"
   ]
  },
  {
   "cell_type": "markdown",
   "id": "9342c128",
   "metadata": {},
   "source": [
    "## Tabula: Extracting tables from documents\n",
    "\n",
    "---\n",
    "\n",
    "*Background*: [Tabula](https://tabula.technology/) is a piece of software developed for journalists carrying out investigative reporting. It was developed with support from organizations like [ProPublica](http://propublica.org/) and [The New York Times](http://www.nytimes.com/). This tool is meant to help investigators parse unwieldy PDFs and liberate useful information.\n",
    "\n",
    "### Q4 Download and install [Tabula](https://tabula.technology/); the webpage has installation instructions.\n",
    "\n",
    "*Note*: Tabula's interface is through a locally-hosted server; it should automatically open a browser window for Tabula. If it does not, then open [http://localhost:8080/](http://localhost:8080/) after you've launched Tabula.\n"
   ]
  },
  {
   "cell_type": "markdown",
   "id": "db2b4929",
   "metadata": {},
   "source": [
    "### Q5 Download [this example PDF](https://github.com/zdelrosario/mi101/blob/main/mi101/data/weibull1939-table4.pdf) and import it into Tabula for data extraction.\n",
    "\n",
    "![Tabula's interface: Click `Browse` to find the example PDF](../images/tabula-front.png)\n",
    "\n",
    "Click `Browse` to find the example PDF, click `Import` to load the file into Tabula, then click `Extract Data` to enter the data extraction interface.\n"
   ]
  },
  {
   "cell_type": "markdown",
   "id": "ef6f95d2",
   "metadata": {},
   "source": [
    "### Q6 Enter the Extraction menu, and drag-select a box to target the table of data.\n",
    "\n",
    "![Tabula's interface: Click and drag to draw a box around the data you want to extract](../images/tabula-select.png)\n",
    "\n",
    "Click and drag to draw a box around the data you want to extract. Make sure to exclude the Table title, and any other non-data text.\n"
   ]
  },
  {
   "cell_type": "markdown",
   "id": "960e1c57",
   "metadata": {},
   "source": [
    "### Q7 Once selected, click `Preview & Export Extracted Data`.\n",
    "\n",
    "![Tabula's interface: View of selected region for data extraction](../images/tabula-selected.png)\n",
    "\n",
    "\n"
   ]
  },
  {
   "cell_type": "markdown",
   "id": "eb88e760",
   "metadata": {},
   "source": [
    "### Q8 Choose between `Stream` and `Lattice` options to help Tabula extract the data correctly.\n",
    "\n",
    "![Tabula's interface: View of selected region for data extraction](../images/tabula-preview-stream.png)\n",
    "\n",
    "The `Stream` option looks for whitespace, while the `Lattice` option looks for vertical and horizontal bars that denote data entries. For this case, both options work fine.\n"
   ]
  },
  {
   "cell_type": "markdown",
   "id": "6786197d",
   "metadata": {},
   "source": [
    "### Q9 Once satisfied, click `Export` to download the data.\n",
    "\n",
    "Once you finish this, you should have access to a CSV that looks like the following:"
   ]
  },
  {
   "cell_type": "code",
   "execution_count": 2,
   "id": "ad5f86ba",
   "metadata": {
    "collapsed": false,
    "tags": [
     "hide-input"
    ]
   },
   "outputs": [
    {
     "data": {
      "text/html": [
       "<div>\n",
       "<style scoped>\n",
       "    .dataframe tbody tr th:only-of-type {\n",
       "        vertical-align: middle;\n",
       "    }\n",
       "\n",
       "    .dataframe tbody tr th {\n",
       "        vertical-align: top;\n",
       "    }\n",
       "\n",
       "    .dataframe thead th {\n",
       "        text-align: right;\n",
       "    }\n",
       "</style>\n",
       "<table border=\"1\" class=\"dataframe\">\n",
       "  <thead>\n",
       "    <tr style=\"text-align: right;\">\n",
       "      <th></th>\n",
       "      <th>No.</th>\n",
       "      <th>Area mm^2</th>\n",
       "      <th>sigma_d kg/mm^2</th>\n",
       "      <th>No..1</th>\n",
       "      <th>Area mm^2.1</th>\n",
       "      <th>sigma_d kg/mm^2.1</th>\n",
       "    </tr>\n",
       "  </thead>\n",
       "  <tbody>\n",
       "    <tr>\n",
       "      <th>0</th>\n",
       "      <td>1</td>\n",
       "      <td>21.50</td>\n",
       "      <td>0.61</td>\n",
       "      <td>14.0</td>\n",
       "      <td>23.10</td>\n",
       "      <td>0.58</td>\n",
       "    </tr>\n",
       "    <tr>\n",
       "      <th>1</th>\n",
       "      <td>2</td>\n",
       "      <td>22.31</td>\n",
       "      <td>0.60</td>\n",
       "      <td>15.0</td>\n",
       "      <td>21.91</td>\n",
       "      <td>0.62</td>\n",
       "    </tr>\n",
       "    <tr>\n",
       "      <th>2</th>\n",
       "      <td>3</td>\n",
       "      <td>23.00</td>\n",
       "      <td>0.50</td>\n",
       "      <td>16.0</td>\n",
       "      <td>23.23</td>\n",
       "      <td>0.50</td>\n",
       "    </tr>\n",
       "    <tr>\n",
       "      <th>3</th>\n",
       "      <td>4</td>\n",
       "      <td>14.18</td>\n",
       "      <td>0.63</td>\n",
       "      <td>17.0</td>\n",
       "      <td>25.80</td>\n",
       "      <td>0.50</td>\n",
       "    </tr>\n",
       "    <tr>\n",
       "      <th>4</th>\n",
       "      <td>5</td>\n",
       "      <td>22.03</td>\n",
       "      <td>0.48</td>\n",
       "      <td>18.0</td>\n",
       "      <td>20.68</td>\n",
       "      <td>0.52</td>\n",
       "    </tr>\n",
       "    <tr>\n",
       "      <th>5</th>\n",
       "      <td>6</td>\n",
       "      <td>22.79</td>\n",
       "      <td>0.60</td>\n",
       "      <td>19.0</td>\n",
       "      <td>15.90</td>\n",
       "      <td>0.59</td>\n",
       "    </tr>\n",
       "    <tr>\n",
       "      <th>6</th>\n",
       "      <td>7</td>\n",
       "      <td>28.88</td>\n",
       "      <td>0.56</td>\n",
       "      <td>20.0</td>\n",
       "      <td>16.47</td>\n",
       "      <td>0.50</td>\n",
       "    </tr>\n",
       "    <tr>\n",
       "      <th>7</th>\n",
       "      <td>8</td>\n",
       "      <td>17.79</td>\n",
       "      <td>0.59</td>\n",
       "      <td>21.0</td>\n",
       "      <td>18.75</td>\n",
       "      <td>0.54</td>\n",
       "    </tr>\n",
       "    <tr>\n",
       "      <th>8</th>\n",
       "      <td>9</td>\n",
       "      <td>23.60</td>\n",
       "      <td>0.60</td>\n",
       "      <td>22.0</td>\n",
       "      <td>17.91</td>\n",
       "      <td>0.55</td>\n",
       "    </tr>\n",
       "    <tr>\n",
       "      <th>9</th>\n",
       "      <td>10</td>\n",
       "      <td>23.60</td>\n",
       "      <td>0.52</td>\n",
       "      <td>23.0</td>\n",
       "      <td>25.55</td>\n",
       "      <td>0.50</td>\n",
       "    </tr>\n",
       "    <tr>\n",
       "      <th>10</th>\n",
       "      <td>11</td>\n",
       "      <td>28.51</td>\n",
       "      <td>0.57</td>\n",
       "      <td>24.0</td>\n",
       "      <td>22.03</td>\n",
       "      <td>0.48</td>\n",
       "    </tr>\n",
       "    <tr>\n",
       "      <th>11</th>\n",
       "      <td>12</td>\n",
       "      <td>25.93</td>\n",
       "      <td>0.55</td>\n",
       "      <td>25.0</td>\n",
       "      <td>20.96</td>\n",
       "      <td>0.47</td>\n",
       "    </tr>\n",
       "    <tr>\n",
       "      <th>12</th>\n",
       "      <td>13</td>\n",
       "      <td>22.97</td>\n",
       "      <td>0.59</td>\n",
       "      <td>NaN</td>\n",
       "      <td>NaN</td>\n",
       "      <td>NaN</td>\n",
       "    </tr>\n",
       "  </tbody>\n",
       "</table>\n",
       "</div>"
      ],
      "text/plain": [
       "    No.  Area mm^2  sigma_d kg/mm^2  No..1  Area mm^2.1  sigma_d kg/mm^2.1\n",
       "0     1      21.50             0.61   14.0        23.10               0.58\n",
       "1     2      22.31             0.60   15.0        21.91               0.62\n",
       "2     3      23.00             0.50   16.0        23.23               0.50\n",
       "3     4      14.18             0.63   17.0        25.80               0.50\n",
       "4     5      22.03             0.48   18.0        20.68               0.52\n",
       "5     6      22.79             0.60   19.0        15.90               0.59\n",
       "6     7      28.88             0.56   20.0        16.47               0.50\n",
       "7     8      17.79             0.59   21.0        18.75               0.54\n",
       "8     9      23.60             0.60   22.0        17.91               0.55\n",
       "9    10      23.60             0.52   23.0        25.55               0.50\n",
       "10   11      28.51             0.57   24.0        22.03               0.48\n",
       "11   12      25.93             0.55   25.0        20.96               0.47\n",
       "12   13      22.97             0.59    NaN          NaN                NaN"
      ]
     },
     "execution_count": 2,
     "metadata": {},
     "output_type": "execute_result"
    }
   ],
   "source": [
    "df_extracted = pd.read_csv(\"../data/tabula-weibull1939-table4.csv\")\n",
    "df_extracted"
   ]
  },
  {
   "cell_type": "markdown",
   "id": "ebbbb816",
   "metadata": {},
   "source": [
    "### Important caveat! Image-based PDF's.\n",
    "\n",
    "Tabula tends to work best with more modern, fully-digital documents. For PDF's of older documents, you might get the following:\n",
    "\n",
    "![Tabula's warning of an image-based PDF](../images/tabula-warning.png)\n",
    "\n",
    "This means the PDF doesn't have any digitized text in it; it's just a scan of an old document. The `Help` tab in Tabula gives some suggestions on things you can try; for instance, the help page links to *optical character recognition* (OCR) machine learning tools you can use to pre-process an image into text data, which you can then treat with Tabula.\n"
   ]
  },
  {
   "cell_type": "markdown",
   "id": "50062d18",
   "metadata": {},
   "source": [
    "## WebPlotDigitizer: Liberating data from images\n",
    "\n",
    "---\n",
    "\n",
    "Sometimes data are messy---we'll learn how to deal with that later in the workshop. Other times data are \"locked up\" in a format we can't easily analyze, such as in an image. In this exercise you'll learn how to *liberate* data from a plot using WebPlotDigitizer.\n"
   ]
  }
 ],
 "metadata": {
  "kernelspec": {
   "display_name": "Python 3 (ipykernel)",
   "language": "python",
   "name": "python3"
  },
  "language_info": {
   "codemirror_mode": {
    "name": "ipython",
    "version": 3
   },
   "file_extension": ".py",
   "mimetype": "text/x-python",
   "name": "python",
   "nbconvert_exporter": "python",
   "pygments_lexer": "ipython3",
   "version": "3.7.4"
  }
 },
 "nbformat": 4,
 "nbformat_minor": 5
}
