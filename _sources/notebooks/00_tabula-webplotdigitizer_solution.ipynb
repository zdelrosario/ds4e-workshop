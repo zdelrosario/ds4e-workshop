{
 "cells": [
  {
   "cell_type": "markdown",
   "id": "2995b930",
   "metadata": {},
   "source": [
    "# Data Extraction and Management\n",
    "\n",
    "*Author*: Zachary del Rosario\n",
    "\n",
    "### Learning outcomes\n",
    "\n",
    "By working through this exercise, you will be able to:\n",
    "\n",
    "- Prevent future data headaches by collecting data *defensively*\n",
    "- Extract data from tables in published documents with Tabula\n",
    "- Liberate data from graphs with WebPlotDigitizer\n"
   ]
  },
  {
   "cell_type": "markdown",
   "id": "4a82243f",
   "metadata": {},
   "source": [
    "## Designing Data Collection\n",
    "\n",
    "---\n",
    "\n",
    "### Choosing columns\n",
    "\n",
    "(TODO Agree on columns and formats before starting data collection)\n"
   ]
  },
  {
   "cell_type": "markdown",
   "id": "26f2d5a0",
   "metadata": {},
   "source": [
    "### Example 1: Poor data planning\n",
    "\n",
    "| Run | Observation |\n",
    "|-----|-------------|\n",
    "|  1  | It worked   |\n",
    "|  2  | It failed   |\n",
    "|  3  | It worked   |\n",
    "\n",
    "### Q1: Suppose you were reviewing data in this form; would you be able to answer the following questions? Why or why not?\n",
    "\n",
    "- How many observations were collected?\n",
    "  - Yes, there are three observations.\n",
    "- What were the experimental settings for each observation?\n",
    "  - No, these data were not recorded\n",
    "- Were all of the planned experiments run?\n",
    "  - No, we don't have any indication of the number of planned experiments\n",
    "- What would you do to resolve the issue with Observation 2?\n",
    "  - It's unclear what went wrong, so I wouldn't know where to start!\n"
   ]
  },
  {
   "cell_type": "markdown",
   "id": "d0d17603",
   "metadata": {},
   "source": [
    "### Example 2: More details\n",
    "\n",
    "| Run |  Knob A | Knob B | Recorded Value | Notes |\n",
    "|-----|---------|--------|----------------|-------|\n",
    "|  1  | 1.0 m/s | 2.3 kg | 1.6 eV         |       |\n",
    "|  2  | 1.0 mph | 10.0 g | NA   | Sample did not survive characterization |\n",
    "|  3  | 0.5 mph | 50.0 g | 1e-17 J        |       |\n",
    "\n",
    "### Q2: Suppose you were reviewing data in this form; would you be able to answer the following questions? Why or why not?\n",
    "\n",
    "- What were the experimental settings for each observation?\n",
    "  - Yes, we know the values for each knob\n",
    "- How do the experimental settings compare for each observation?\n",
    "  - Yes, we have the values, but since they're in different units, it's difficult to make a comparison at-a-glance.\n",
    "- Were all of the planned experiments run?\n",
    "  - No, we don't have any indication of the number of planned experiments\n",
    "- What would you do to resolve the issue with Observation 2?\n",
    "  - The sample didn't survive characterization; we don't have much to go on, but at least we know where in the process (characterization) the problem appeared!\n"
   ]
  },
  {
   "cell_type": "markdown",
   "id": "b816e548",
   "metadata": {},
   "source": [
    "### Example 3: Even Better\n",
    "\n",
    "| Run |  Knob A (m/s) | Knob B (g) | Recorded Value (eV) | Date | Notes |\n",
    "|-----|---------------|------------|---------------------|------|-------|\n",
    "| 1 / 2 |    1.00 |  2.3e3 | 1.60          | 2021-08-11 | - |\n",
    "| 2 / 2 |    0.45 |  2.0e1 | NA   | 2021-08-11 | Sample did not survive characterization |\n",
    "| 1 / 1 |    0.22 |  5.0e1 | 62.42          | 2021-08-12 | - |\n",
    "\n",
    "### Q3: Suppose you were reviewing data in this form; would you be able to answer the following questions? Why or why not?\n",
    "\n",
    "- How do the experimental settings compare for each observation?\n",
    "  - Yes, we have the values, and now that they're in common units it's much easier to compare across cells.\n",
    "- Were all of the planned experiments run?\n",
    "  - Yes, it seems that experiments were carried out over two days, and the experimentalist carried out all their planned experiments each day.\n"
   ]
  },
  {
   "cell_type": "markdown",
   "id": "8efe76ff",
   "metadata": {},
   "source": [
    "## Tabula: Extracting tables from documents\n",
    "\n",
    "---\n",
    "\n",
    "*Background*: [Tabula](https://tabula.technology/) is a piece of software developed for journalists carrying out investigative reporting. It was developed with support from organizations like [ProPublica](http://propublica.org/) and [The New York Times](http://www.nytimes.com/). This tool is meant to help investigators parse unwieldy PDFs and liberate useful information.\n",
    "\n",
    "### Q4 Download and install [Tabula](https://tabula.technology/); the webpage has installation instructions.\n",
    "\n",
    "*Note*: Tabula's interface is through a locally-hosted server; it should automatically open a browser window for Tabula. If it does not, then open [http://localhost:8080/](http://localhost:8080/) after you've launched Tabula.\n"
   ]
  },
  {
   "cell_type": "markdown",
   "id": "18bbfe2f",
   "metadata": {},
   "source": [
    "### Q5 Download [this example PDF](https://github.com/zdelrosario/mi101/blob/main/mi101/data/weibull1939-table4.pdf) and import it into Tabula for data extraction.\n",
    "\n",
    "![Tabula's interface: Click `Browse` to find the example PDF](../images/tabula-front.png)\n",
    "\n",
    "Click `Browse` to find the example PDF, click `Import` to load the file into Tabula, then click `Extract Data` to enter the data extraction interface.\n"
   ]
  },
  {
   "cell_type": "markdown",
   "id": "d26fa0b8",
   "metadata": {},
   "source": [
    "### Q6 Enter the Extraction menu, and drag-select a box to target the table of data.\n",
    "\n",
    "![Tabula's interface: Click and drag to draw a box around the data you want to extract](../images/tabula-select.png)\n",
    "\n",
    "Click and drag to draw a box around the data you want to extract. Make sure to exclude the Table title, and any other non-data text.\n"
   ]
  },
  {
   "cell_type": "markdown",
   "id": "9e769c57",
   "metadata": {},
   "source": [
    "### Q7 Once selected, click `Preview & Export Extracted Data`.\n",
    "\n",
    "![Tabula's interface: View of selected region for data extraction](../images/tabula-selected.png)\n",
    "\n",
    "\n"
   ]
  },
  {
   "cell_type": "markdown",
   "id": "21dd6643",
   "metadata": {},
   "source": [
    "### Q8 Choose between `Stream` and `Lattice` options to help Tabula extract the data correctly.\n",
    "\n",
    "![Tabula's interface: View of selected region for data extraction](../images/tabula-preview-stream.png)\n",
    "\n",
    "The `Stream` option looks for whitespace, while the `Lattice` option looks for vertical and horizontal bars that denote data entries. For this case, both options work fine.\n"
   ]
  },
  {
   "cell_type": "markdown",
   "id": "70feb313",
   "metadata": {},
   "source": [
    "### Q9 Once satisfied, click `Export` to download the data.\n",
    "\n"
   ]
  },
  {
   "cell_type": "markdown",
   "id": "d7b20736",
   "metadata": {},
   "source": [
    "### Important caveat! Image-based PDF's.\n",
    "\n",
    "Tabula tends to work best with more modern, fully-digital documents. For PDF's of older documents, you might get the following:\n",
    "\n",
    "![Tabula's warning of an image-based PDF](../images/tabula-warning.png)\n",
    "\n",
    "This means the PDF doesn't have any digitized text in it; it's just a scan of an old document. The `Help` tab in Tabula gives some suggestions on things you can try; for instance, the help page links to *optical character recognition* (OCR) machine learning tools you can use to pre-process an image into text data, which you can then treat with Tabula.\n"
   ]
  },
  {
   "cell_type": "markdown",
   "id": "828e0324",
   "metadata": {},
   "source": [
    "## WebPlotDigitizer: Liberating data from images\n",
    "\n",
    "---\n",
    "\n"
   ]
  }
 ],
 "metadata": {
  "kernelspec": {
   "display_name": "Python 3 (ipykernel)",
   "language": "python",
   "name": "python3"
  },
  "language_info": {
   "codemirror_mode": {
    "name": "ipython",
    "version": 3
   },
   "file_extension": ".py",
   "mimetype": "text/x-python",
   "name": "python",
   "nbconvert_exporter": "python",
   "pygments_lexer": "ipython3",
   "version": "3.7.4"
  }
 },
 "nbformat": 4,
 "nbformat_minor": 5
}
