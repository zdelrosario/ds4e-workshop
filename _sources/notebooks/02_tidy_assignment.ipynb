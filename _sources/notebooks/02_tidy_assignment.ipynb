{
 "cells": [
  {
   "cell_type": "markdown",
   "id": "8206a97b",
   "metadata": {},
   "source": [
    "# Intro to Data Wrangling and Tidy Data\n",
    "*Author*: Zach del Rosario\n",
    "\n",
    "\n",
    "### Learning outcomes\n",
    "By working through this notebook, you will be able to:\n",
    "\n",
    "- State the basic ideas of tidy data\n"
   ]
  },
  {
   "cell_type": "code",
   "execution_count": null,
   "id": "40c3f61e",
   "metadata": {},
   "outputs": [],
   "source": [
    "import numpy as np\n",
    "import pandas as pd\n",
    "import grama as gr\n",
    "\n",
    "DF = gr.Intention()\n",
    "\n",
    "# For downloading data\n",
    "import os\n",
    "import requests\n"
   ]
  },
  {
   "cell_type": "markdown",
   "id": "a08698a6",
   "metadata": {},
   "source": [
    "The following code downloads the same data you extracted in the previous day's Tabula exercise.\n"
   ]
  },
  {
   "cell_type": "code",
   "execution_count": null,
   "id": "2d5c6f06",
   "metadata": {},
   "outputs": [],
   "source": [
    "# Filename for local data\n",
    "filename_data = \"./data/tabula-weibull.csv\"\n",
    "\n",
    "# The following code downloads the data, or (after downloaded)\n",
    "# loads the data from a cached CSV on your machine\n",
    "if not os.path.exists(filename_data):\n",
    "    # Make request for data\n",
    "    url_data = \"https://raw.githubusercontent.com/zdelrosario/mi101/main/mi101/data/tabula-weibull1939-table4.csv\"\n",
    "    r = requests.get(url_data, allow_redirects=True)\n",
    "    open(filename_data, 'wb').write(r.content)\n",
    "    print(\"   Tabula-extracted data downloaded from public Google sheet\")\n",
    "else:\n",
    "    # Note data already exists\n",
    "    print(\"   Tabula-extracted data loaded locally\")\n",
    "    \n",
    "# Read the data into memory\n",
    "df_tabula = pd.read_csv(filename_data)\n"
   ]
  },
  {
   "cell_type": "markdown",
   "id": "14e19e7f",
   "metadata": {},
   "source": [
    "These are data on the tensile strength of specimens of stearic acid and plaster-of-paris.\n"
   ]
  },
  {
   "cell_type": "code",
   "execution_count": null,
   "id": "c387b944",
   "metadata": {},
   "outputs": [],
   "source": [
    "df_tabula\n"
   ]
  },
  {
   "cell_type": "markdown",
   "id": "5f6c8b94",
   "metadata": {},
   "source": [
    "Note that Pandas renamed some columns to avoid giving us duplicate column names. The names are useful for holding metadata, but shorter column names are far easier to work with in a computational environment.\n"
   ]
  },
  {
   "cell_type": "markdown",
   "id": "0fa6c60e",
   "metadata": {},
   "source": [
    "### __Q1__: Complete the code below to rename the columns\n",
    "\n",
    "*Hint*: You can click-and-drag on the DataFrame printout above for a less error-prone way of giving the original column names.\n"
   ]
  },
  {
   "cell_type": "code",
   "execution_count": null,
   "id": "2e327356",
   "metadata": {},
   "outputs": [],
   "source": [
    "###\n",
    "# TASK: Copy the original column names into the double-quote below\n",
    "#       to complete the code and rename the columns with shorter\n",
    "#       names.\n",
    "###\n",
    "\n",
    "df_q1 = (\n",
    "    df_tabula\n",
    "    >> gr.tf_rename(\n",
    "## TASK: Uncomment these lines and fill-in the new (short) column names\n",
    "#         obs_1=\"\",   # Observation Number, Block 1\n",
    "#         area_1=\"\",  # Specimen area, Block 1\n",
    "#         sigma_1=\"\", # Stress, Block 1\n",
    "#         obs_2=\"\",   # Observation Number, Block 2\n",
    "#         area_2=\"\",  # Specimen area, Block 2\n",
    "#         sigma_2=\"\", # Stress, Block 2\n",
    "\n",
    "    )\n",
    ")\n",
    "\n",
    "## NOTE: No need to edit, this will show your renamed data\n",
    "df_q1"
   ]
  },
  {
   "cell_type": "markdown",
   "id": "58b3a893",
   "metadata": {},
   "source": [
    "Use the following to check your work:\n"
   ]
  },
  {
   "cell_type": "code",
   "execution_count": null,
   "id": "178fbc00",
   "metadata": {},
   "outputs": [],
   "source": [
    "## NO NEED TO EDIT; use this to check your work\n",
    "assert(set(df_q1.columns) == {\"obs_1\", \"area_1\", \"sigma_1\", \"obs_2\", \"area_2\", \"sigma_2\"})\n",
    "print(\"Success!\")\n"
   ]
  },
  {
   "cell_type": "markdown",
   "id": "b9af0257",
   "metadata": {},
   "source": [
    "Now the column names are much shorter, but we've\n"
   ]
  },
  {
   "cell_type": "markdown",
   "id": "88ec8c39",
   "metadata": {},
   "source": [
    "### __Q2__: Complete the *data dictionary* below to document the units associated with the short column names.\n",
    "\n",
    "*Note*: Weibull in his (1939) paper reports these stress values in units `kg / mm^2`. For the data to be sensible, his `kg` must refer to a kilogram-force, sometimes denoted `kgf`. One `kgf` is the force exerted by a kilogram in standard gravity (`g = 9.8 m/s^2`). We'll convert to less strange units later!\n"
   ]
  },
  {
   "cell_type": "code",
   "execution_count": null,
   "id": "df0f4cbe",
   "metadata": {},
   "outputs": [],
   "source": [
    "df_tabula.head()\n"
   ]
  },
  {
   "cell_type": "markdown",
   "id": "d4775c0c",
   "metadata": {},
   "source": [
    "\n",
    "| Column | Units |\n",
    "|--------|-------|\n",
    "| `obs_1`   | (Unitless) |\n",
    "| `area_1`, | ??? |\n",
    "| `sigma_1` | ??? |\n",
    "| `obs_2`   | ??? |\n",
    "| `area_2`, | ??? |\n",
    "| `sigma_2` | ??? |\n",
    "\n"
   ]
  },
  {
   "cell_type": "markdown",
   "id": "257bc178",
   "metadata": {},
   "source": [
    "## Pivoting\n",
    "\n",
    "(TODO Describe the \"blocks\")"
   ]
  },
  {
   "cell_type": "code",
   "execution_count": null,
   "id": "06656e8f",
   "metadata": {},
   "outputs": [],
   "source": [
    "df_q1.head()\n"
   ]
  },
  {
   "cell_type": "markdown",
   "id": "c5f432f9",
   "metadata": {},
   "source": [
    "Imagine we wanted to compute some simple statistics on these data, say the mean of the stress values. Since the data come in two blocks, we have to access them separately:"
   ]
  },
  {
   "cell_type": "code",
   "execution_count": null,
   "id": "c59f0d9a",
   "metadata": {},
   "outputs": [],
   "source": [
    "sigma_mean_1 = df_q1.sigma_1.mean()\n",
    "sigma_mean_2 = df_q1.sigma_2.mean()\n",
    "\n",
    "print(\"Mean 1: {0:4.3f}\".format(sigma_mean_1))\n",
    "print(\"Mean 2: {0:4.3f}\".format(sigma_mean_2))"
   ]
  },
  {
   "cell_type": "markdown",
   "id": "ea39e791",
   "metadata": {},
   "source": [
    "We could do something hacky to combine the two:\n"
   ]
  },
  {
   "cell_type": "code",
   "execution_count": null,
   "id": "88e24b13",
   "metadata": {},
   "outputs": [],
   "source": [
    "sigma_mean_both = (12 * sigma_mean_1 + 11 * sigma_mean_2) / (12 + 11)\n",
    "print(\"Mean both: {0:4.3f}\".format(sigma_mean_both))"
   ]
  },
  {
   "cell_type": "markdown",
   "id": "67e5efa7",
   "metadata": {},
   "source": [
    "But it would be far easier if we could just *combine* all the relevant columns so they're not in \"blocks.\" This is what **pivoting** a dataset allows us to do:\n"
   ]
  },
  {
   "cell_type": "code",
   "execution_count": null,
   "id": "f42e37ff",
   "metadata": {},
   "outputs": [],
   "source": [
    "## NOTE: NO need to edit; you'll learn how to do this in the evening's notebook\n",
    "df_long = (\n",
    "    df_q1\n",
    "    >> gr.tf_pivot_longer(\n",
    "        columns=[\"obs_1\", \"area_1\", \"sigma_1\", \"obs_2\", \"area_2\", \"sigma_2\"],\n",
    "        names_to=[\".value\", \"block\"],\n",
    "        names_sep=\"_\",\n",
    "    )\n",
    "    >> gr.tf_arrange(DF.obs)\n",
    ")\n",
    "df_long"
   ]
  },
  {
   "cell_type": "markdown",
   "id": "7c3f028a",
   "metadata": {},
   "source": [
    "## Tidy Data\n"
   ]
  },
  {
   "cell_type": "markdown",
   "id": "d00c560c",
   "metadata": {},
   "source": [
    "(TODO: Write up the principles of tidy data.)\n"
   ]
  },
  {
   "cell_type": "markdown",
   "id": "573cbce1",
   "metadata": {},
   "source": [
    "## Data Wrangling\n",
    "\n",
    "(Part of data wrangling is screaming. Here's an example trying to make sense of the plaster data.)\n"
   ]
  },
  {
   "cell_type": "markdown",
   "id": "3020b59c",
   "metadata": {},
   "source": [
    "Weibull reports the $\\sigma_d$ values in `kg / mm^2`; if we interpret `kg` as a kilogram (mass) then these can't be stress values! However, suppose for a moment that he were using `kg` to denote a kilogram-force, where $1 \\text{kgf} = 1 \\text{kg} \\times 9.8 m/s^2$.\n",
    "\n",
    "Weibull gives a summary value for the same stress in the more interpretable units `g / (cm s^2)`. Let's check this hypothesis by comparing the proposed unit converstion with our data:\n"
   ]
  },
  {
   "cell_type": "code",
   "execution_count": null,
   "id": "98ce6278",
   "metadata": {},
   "outputs": [],
   "source": [
    "# (540 x 10^5 g/(cm s^2)) / (980 cm/s^2) * (kg / 1000 g) * (cm^2 / 100 mm^2)\n",
    "540e5 / 980 / 1000 / 100\n"
   ]
  },
  {
   "cell_type": "markdown",
   "id": "00dd5155",
   "metadata": {},
   "source": [
    "This is very near the `sigma` values we have in our dataset, which lends a great deal of credibility to our interpretation of `kg` as `kgf`. With this, we can make a unit conversation to more standard units.\n",
    "\n",
    "$$\\text{kgf} / \\text{mm}^2 = 9.8 \\text{MPa}$$\n"
   ]
  },
  {
   "cell_type": "markdown",
   "id": "6c9da464",
   "metadata": {},
   "source": [
    "### __Q3__: Convert the units to MPa.\n"
   ]
  },
  {
   "cell_type": "code",
   "execution_count": null,
   "id": "8350921d",
   "metadata": {},
   "outputs": [],
   "source": [
    "###\n",
    "# TASK: Replace the 1.0 factor with the correct conversion factor\n",
    "###\n",
    "\n",
    "\n",
    "df_q3 = (\n",
    "    df_long\n",
    "    >> gr.tf_mutate(sigma_MPa=DF.sigma * 1.0) # Replace 1.0 with correct factor\n",
    "\n",
    ")\n",
    "\n",
    "df_q3.head()"
   ]
  },
  {
   "cell_type": "markdown",
   "id": "735d4bd5",
   "metadata": {},
   "source": []
  }
 ],
 "metadata": {
  "kernelspec": {
   "display_name": "Python 3 (ipykernel)",
   "language": "python",
   "name": "python3"
  },
  "language_info": {
   "codemirror_mode": {
    "name": "ipython",
    "version": 3
   },
   "file_extension": ".py",
   "mimetype": "text/x-python",
   "name": "python",
   "nbconvert_exporter": "python",
   "pygments_lexer": "ipython3",
   "version": "3.8.5"
  }
 },
 "nbformat": 4,
 "nbformat_minor": 5
}
