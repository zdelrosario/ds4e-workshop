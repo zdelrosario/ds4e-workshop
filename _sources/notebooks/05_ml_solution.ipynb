{
 "cells": [
  {
   "cell_type": "markdown",
   "id": "30339605",
   "metadata": {},
   "source": [
    "## Exercises in Machine Learning\n",
    "\n",
    "*Author*: Zach del Rosario\n",
    "\n",
    "The _primary_ purpose of this notebook is to help you *not get fooled by machine learning*! As Drew Conway notes, possessing hacking skills and substantive experience---but having no math or statistics background---puts one in the [danger zone](http://drewconway.com/zia/2013/3/26/the-data-science-venn-diagram). While we can't possibly cover *everything* you need in a single workshop, this exercise will highlight some of the challenges of doing machine learning well. \n",
    "\n",
    "### Learning outcomes\n",
    "By working through this notebook, you will be able to:\n",
    "\n",
    "- Use grama to work with models.\n",
    "- Understand the importance of *underfitting* and *overfitting*\n",
    "- Use cross-validation to help avoid *underfitting* and *overfitting*\n",
    "\n",
    "Tips:\n",
    "\n",
    "* This exercise will make heavy use of [scikit-learn](https://scikit-learn.org/stable/); you can find lots of useful info on the [documentation site](https://scikit-learn.org/stable/documentation.html).\n"
   ]
  },
  {
   "cell_type": "code",
   "execution_count": 1,
   "id": "0511fdaa",
   "metadata": {
    "collapsed": false
   },
   "outputs": [],
   "source": [
    "# Setup\n",
    "import numpy as np\n",
    "import pandas as pd\n",
    "import plotnine as pt\n",
    "import grama as gr\n",
    "\n",
    "DF = gr.Intention()\n",
    "\n",
    "# Model training tools\n",
    "from sklearn.linear_model import LinearRegression\n",
    "from sklearn.preprocessing import PolynomialFeatures"
   ]
  },
  {
   "cell_type": "code",
   "execution_count": 2,
   "id": "363af8db",
   "metadata": {
    "collapsed": false
   },
   "outputs": [],
   "source": [
    "# Helper functions\n",
    "def add_noise(function, sigma=0.1, seed=101):\n",
    "    \"\"\"Add noise to deterministic functions\n",
    "    \"\"\"\n",
    "    def new_function(x):\n",
    "        np.random.seed(seed)\n",
    "        y = function(x)\n",
    "        return y + sigma * np.random.normal(size=y.shape)\n",
    "\n",
    "    return new_function\n",
    "\n",
    "# Reference points for regression examples\n",
    "X_ref = np.linspace(-1, +1, num=100)\n",
    "\n",
    "# Reference models\n",
    "def fcn_1(x): return (0.3 * x**2 + 1.0 * x + 2)\n",
    "def fcn_2(x): return (-2.0 * x**3 + 0.4 * x**2 + 1.0 * x + 2)\n",
    "\n",
    "fcn_1_noisy = gr.make_symbolic(add_noise(fcn_1))\n",
    "fcn_2_noisy = gr.make_symbolic(add_noise(fcn_2, sigma=0.2))\n",
    "\n",
    "# Package as a dataframe\n",
    "df_data = gr.df_make(\n",
    "    x=X_ref,\n",
    "    y_1=fcn_1_noisy(X_ref),\n",
    "    y_2=fcn_2_noisy(X_ref),\n",
    ")"
   ]
  },
  {
   "cell_type": "markdown",
   "id": "53142993",
   "metadata": {},
   "source": [
    "## Helper Function\n",
    "\n",
    "---\n",
    "\n",
    "(This function will automate some steps so we can focus on high-level ideas, but I define it here in case you'd like to see the details)\n"
   ]
  },
  {
   "cell_type": "code",
   "execution_count": 3,
   "id": "00e56197",
   "metadata": {
    "collapsed": false
   },
   "outputs": [],
   "source": [
    "## For partial evaluation\n",
    "from toolz import curry\n",
    "\n",
    "## Encapsulate featurizer and regressor in one function\n",
    "class FunctionLM(gr.Function):\n",
    "    def __init__(self, regressor, var, out, name, order, runtime):\n",
    "        self.regressor = regressor\n",
    "        self.var = var\n",
    "        self.out = list(map(lambda s: s + \"_mean\", out))\n",
    "        self.name = name\n",
    "        self.order = order\n",
    "        self.runtime = runtime\n",
    "\n",
    "    def eval(self, df):\n",
    "        ## Check invariant; model inputs must be subset of df columns\n",
    "        if not set(self.var).issubset(set(df.columns)):\n",
    "            raise ValueError(\n",
    "                \"Model function `{}` var not a subset of given columns\".format(\n",
    "                    self.name\n",
    "                )\n",
    "            )\n",
    "\n",
    "        ## Featurize\n",
    "        x = np.atleast_2d(df[self.var].values)\n",
    "        poly = PolynomialFeatures(self.order)\n",
    "        X_feat = poly.fit_transform(x)\n",
    "        \n",
    "        ## Predict\n",
    "        y = self.regressor.predict(X_feat).flatten()\n",
    "        return pd.DataFrame(data=y, columns=self.out)\n",
    "\n",
    "## Fitting routine\n",
    "@curry\n",
    "def fit_regression(df, var=None, out=None, order=1):\n",
    "    r\"\"\"Fit a linear regression of specified order\n",
    "    \n",
    "    Args:\n",
    "        df (DataFrame): Data for fitting\n",
    "        var (iterable of str): Names of input variable (feature); must be column in df\n",
    "        out (iterable of str): Name of output variable (response); must be column in df\n",
    "        order (int): Polynomial order for fit\n",
    "    \n",
    "    \"\"\"\n",
    "    if len(out) > 1:\n",
    "        raise ValueError(\"This simple helper\")\n",
    "    # Featurize\n",
    "    x = np.atleast_2d(df[var].values)\n",
    "    poly = PolynomialFeatures(order)\n",
    "    X_feat = poly.fit_transform(x)\n",
    "    \n",
    "    # Fit regression\n",
    "    y = np.atleast_2d(df[out].values)\n",
    "    lm = LinearRegression()\n",
    "    lm.fit(X_feat, y)\n",
    "    \n",
    "    # Package\n",
    "    fun = FunctionLM(lm, var, out, \"Linear Model\", order, 0)\n",
    "    \n",
    "    return gr.Model(functions=[fun], domain=None, density=None)\n",
    "    \n",
    "## Create pipe-enabled regression utility\n",
    "ft_regression = gr.add_pipe(fit_regression)\n"
   ]
  },
  {
   "cell_type": "markdown",
   "id": "9b6a60c6",
   "metadata": {},
   "source": [
    "## Primer: The Key Ideas\n",
    "First we'll cover some key ideas on simple functions. These are not 'real' data, but the simplicity of the examples will allow us to focus on concepts.\n",
    "\n",
    "Here I generate some data from a simple polynomial."
   ]
  },
  {
   "cell_type": "code",
   "execution_count": 4,
   "id": "c8f802ca",
   "metadata": {
    "collapsed": false
   },
   "outputs": [
    {
     "data": {
      "image/png": "[encoded data removed]",
      "text/plain": [
       "<Figure size 640x480 with 1 Axes>"
      ]
     },
     "metadata": {},
     "output_type": "display_data"
    },
    {
     "data": {
      "text/plain": [
       "<ggplot: (8783298227885)>"
      ]
     },
     "execution_count": 4,
     "metadata": {},
     "output_type": "execute_result"
    }
   ],
   "source": [
    "## NOTE: No need to edit\n",
    "# Ground-truth data; no noise\n",
    "df_ex1 = (\n",
    "    gr.df_make(x=np.linspace(-1, +1, num=10))\n",
    "    >> gr.tf_mutate(y=fcn_1(DF.x))\n",
    ")\n",
    "\n",
    "# Plot\n",
    "(\n",
    "    df_ex1\n",
    "    >> pt.ggplot(pt.aes(\"x\", \"y\"))\n",
    "    + pt.geom_point()\n",
    ")"
   ]
  },
  {
   "cell_type": "markdown",
   "id": "0aa7845d",
   "metadata": {},
   "source": [
    "We will fit a simple [linear regression](https://en.wikipedia.org/wiki/Linear_regression) to these data. To do this, we'll use the linear regression helper `ft_regression()` (defined above). To start, we'll assume that the data were generated from an underlying rule (a _model_) of the form\n",
    "\n",
    "$$y_{\\text{mean}} = m x + b,$$\n",
    "\n",
    "and attempt to _learn_ the slope $m$ and intercept $b$ by _minimizing_ the difference between the measured values `y` and the predicted values `y_mean`.\n"
   ]
  },
  {
   "cell_type": "code",
   "execution_count": 30,
   "id": "4af45f15",
   "metadata": {
    "collapsed": false
   },
   "outputs": [
    {
     "data": {
      "image/png": "[encoded data removed]",
      "text/plain": [
       "<Figure size 640x480 with 1 Axes>"
      ]
     },
     "metadata": {},
     "output_type": "display_data"
    },
    {
     "data": {
      "text/plain": [
       "<ggplot: (8783307914457)>"
      ]
     },
     "execution_count": 30,
     "metadata": {},
     "output_type": "execute_result"
    }
   ],
   "source": [
    "## NOTE: No need to edit\n",
    "# Fit the line\n",
    "md_line = (\n",
    "    df_ex1\n",
    "    >> ft_regression(var=[\"x\"], out=[\"y\"], order=1)\n",
    ")\n",
    "\n",
    "# Predict\n",
    "df_line_pred = (\n",
    "    md_line\n",
    "    >> gr.ev_df(df=df_ex1)\n",
    ")\n",
    "\n",
    "# Plot results\n",
    "(\n",
    "    df_line_pred\n",
    "    >> pt.ggplot(pt.aes(\"x\", \"y_mean\"))\n",
    "    + pt.geom_line(linetype=\"dashed\", color=\"grey\")\n",
    "    + pt.geom_point(color=\"grey\")\n",
    "    + pt.geom_point(pt.aes(y=\"y\"))\n",
    ")"
   ]
  },
  {
   "cell_type": "markdown",
   "id": "99cf4305",
   "metadata": {},
   "source": [
    "## Working with models in Grama\n"
   ]
  },
  {
   "cell_type": "code",
   "execution_count": 18,
   "id": "39de66f3",
   "metadata": {
    "collapsed": false
   },
   "outputs": [
    {
     "data": {
      "text/plain": [
       "model: None\n",
       "\n",
       "  inputs:\n",
       "    var_det:\n",
       "      x: (unbounded)\n",
       "\n",
       "    var_rand:\n",
       "\n",
       "\n",
       "    copula:\n",
       "      None\n",
       "\n",
       "  functions:\n",
       "      Linear Model: ['x'] -> ['y_mean']"
      ]
     },
     "execution_count": 18,
     "metadata": {},
     "output_type": "execute_result"
    }
   ],
   "source": [
    "## NOTE: No need to edit, run to show info on `md_line`\n",
    "md_line\n"
   ]
  },
  {
   "cell_type": "markdown",
   "id": "d2f5fa03",
   "metadata": {},
   "source": [
    "Based on this summary of the model, we can see that it takes a single input `x` and maps it to a single output `y_mean`.\n"
   ]
  },
  {
   "cell_type": "markdown",
   "id": "6021e602",
   "metadata": {},
   "source": [
    "### __QX__: Evaluate the model at new input values\n",
    "\n",
    "Use the function `gr.ev_df()` to evaluate the model `md_line` fitted above. Make use of the new set of input values `df_dense`.\n"
   ]
  },
  {
   "cell_type": "code",
   "execution_count": 29,
   "id": "f433559e",
   "metadata": {
    "collapsed": false
   },
   "outputs": [
    {
     "data": {
      "image/png": "[encoded data removed]",
      "text/plain": [
       "<Figure size 640x480 with 1 Axes>"
      ]
     },
     "metadata": {},
     "output_type": "display_data"
    },
    {
     "data": {
      "text/plain": [
       "<ggplot: (8783307804001)>"
      ]
     },
     "execution_count": 29,
     "metadata": {},
     "output_type": "execute_result"
    }
   ],
   "source": [
    "###\n",
    "# TASK: Evaluate md_line at the df_dense input values.\n",
    "###\n",
    "\n",
    "# -- FINISH THE CODE BELOW -----\n",
    "df_dense = gr.df_make(x=np.linspace(-1, +1, num=100))\n",
    "\n",
    "df_evaluated = (\n",
    "    md_line\n",
    "\n",
    "    >> gr.ev_df(df=df_dense)\n",
    ")\n",
    "\n",
    "# -- NO NEED TO EDIT BELOW HERE -----\n",
    "(\n",
    "    df_evaluated\n",
    "    >> pt.ggplot(pt.aes(\"x\", \"y_mean\"))\n",
    "    + pt.geom_line(linetype=\"dashed\", color=\"grey\")\n",
    "    + pt.geom_point(color=\"grey\")\n",
    "    + pt.geom_point(\n",
    "        data=df_ex1,\n",
    "        mapping=pt.aes(y=\"y\"),\n",
    "    )\n",
    ")"
   ]
  },
  {
   "cell_type": "markdown",
   "id": "03929b88",
   "metadata": {},
   "source": [
    "### Model Flexibility and _Underfitting_\n",
    "\n",
    "Note that we had to _assume_ a model-form in order to do the fitting. From the figure above, we can see that the model is close to the true values, but obviously lacks the curvature of the true data-generating process.\n",
    "\n",
    "This phenomenon---the failure of a model to capture behavior in the data---is called _underfitting_. To reduce underfitting, we need to make our model _more flexible_. For a linear regression, we can do this by **increasing the order** of the regression.\n"
   ]
  },
  {
   "cell_type": "markdown",
   "id": "980932e6",
   "metadata": {},
   "source": [
    "### __QX__: Fit a quadratic model to the data\n",
    "\n",
    "Use the `ft_regression()` helper to fit a quadratic model (`order = 2`).\n"
   ]
  },
  {
   "cell_type": "code",
   "execution_count": 28,
   "id": "77d4f609",
   "metadata": {
    "collapsed": false
   },
   "outputs": [
    {
     "data": {
      "image/png": "[encoded data removed]",
      "text/plain": [
       "<Figure size 640x480 with 1 Axes>"
      ]
     },
     "metadata": {},
     "output_type": "display_data"
    },
    {
     "data": {
      "text/plain": [
       "<ggplot: (8783308016345)>"
      ]
     },
     "execution_count": 28,
     "metadata": {},
     "output_type": "execute_result"
    }
   ],
   "source": [
    "###\n",
    "# TASK: Fit a quadratic model\n",
    "###\n",
    "\n",
    "# -- FINISH THE CODE BELOW -----\n",
    "# Fit a quadratic\n",
    "md_quad = (\n",
    "    df_ex1\n",
    "\n",
    "    >> ft_regression(var=[\"x\"], out=[\"y\"], order=2)\n",
    ")\n",
    "\n",
    "# -- NO NEED TO EDIT BELOW HERE -----\n",
    "# Predict\n",
    "df_quad_pred = (\n",
    "    md_quad\n",
    "    >> gr.ev_df(df=df_ex1)\n",
    ")\n",
    "\n",
    "# Plot results\n",
    "(\n",
    "    df_quad_pred\n",
    "    >> pt.ggplot(pt.aes(\"x\", \"y_mean\"))\n",
    "    + pt.geom_line(linetype=\"dashed\")\n",
    "    + pt.geom_point(pt.aes(y=\"y\"))\n",
    ")"
   ]
  },
  {
   "cell_type": "markdown",
   "id": "364e10ca",
   "metadata": {},
   "source": [
    "Here we can see the model fits the data _perfectly_. This _suggests_ that we have successfully discovered the _exact_ rule that generated these data, which in _this special case happens to be true_.\n",
    "\n",
    "However, we will very rarely be able to fit the true function exactly. This is because real data tend to have _noise_, which corrupts the underlying function we are trying to learn."
   ]
  },
  {
   "cell_type": "markdown",
   "id": "82fc7e8d",
   "metadata": {},
   "source": [
    "### Noise and _Overfitting_\n",
    "Below, I generate data from the same model, but add a little bit of noise."
   ]
  },
  {
   "cell_type": "code",
   "execution_count": 11,
   "id": "32841e88",
   "metadata": {
    "collapsed": false
   },
   "outputs": [
    {
     "data": {
      "image/png": "[encoded data removed]",
      "text/plain": [
       "<Figure size 640x480 with 1 Axes>"
      ]
     },
     "metadata": {},
     "output_type": "display_data"
    },
    {
     "data": {
      "text/plain": [
       "<ggplot: (8783305810989)>"
      ]
     },
     "execution_count": 11,
     "metadata": {},
     "output_type": "execute_result"
    }
   ],
   "source": [
    "## NOTE: No need to edit\n",
    "# Ground-truth data; now with noise\n",
    "df_ex2 = (\n",
    "    gr.df_make(x=np.linspace(-1, +1, num=10))\n",
    "    >> gr.tf_mutate(y=fcn_1_noisy(DF.x))\n",
    ")\n",
    "\n",
    "# Plot\n",
    "(\n",
    "    df_ex2\n",
    "    >> pt.ggplot(pt.aes(\"x\", \"y\"))\n",
    "    + pt.geom_point()\n",
    ")"
   ]
  },
  {
   "cell_type": "markdown",
   "id": "1b007ae3",
   "metadata": {},
   "source": [
    "Let's see what happens when we fit a quadratic to the noisy data.\n"
   ]
  },
  {
   "cell_type": "code",
   "execution_count": 27,
   "id": "5c217976",
   "metadata": {
    "collapsed": false
   },
   "outputs": [
    {
     "data": {
      "image/png": "[encoded data removed]",
      "text/plain": [
       "<Figure size 640x480 with 1 Axes>"
      ]
     },
     "metadata": {},
     "output_type": "display_data"
    },
    {
     "data": {
      "text/plain": [
       "<ggplot: (8783307778061)>"
      ]
     },
     "execution_count": 27,
     "metadata": {},
     "output_type": "execute_result"
    }
   ],
   "source": [
    "## NOTE: No need to edit\n",
    "(\n",
    "    df_ex2\n",
    "    >> ft_regression(var=[\"x\"], out=[\"y\"], order=2)\n",
    "    >> gr.ev_df(df=df_ex2)\n",
    "    \n",
    "    >> pt.ggplot(pt.aes(\"x\", \"y_mean\"))\n",
    "    + pt.geom_line(linetype=\"dashed\")\n",
    "    + pt.geom_point(pt.aes(y=\"y\"))\n",
    ")"
   ]
  },
  {
   "cell_type": "markdown",
   "id": "c788b9b6",
   "metadata": {},
   "source": [
    "Here we can see that the fit is no longer perfect, despite coming from the \"same\" model. Since we already know that a quadratic can fit the underlying function perfectly, underfitting is not the issue here. Instead, the error is increased due to the noise in the data.\n",
    "\n",
    "_However_, we have not yet seen a case of _overfitting_. To see that phenomenon, let's keep increasing the order of the model."
   ]
  },
  {
   "cell_type": "markdown",
   "id": "ee931558",
   "metadata": {},
   "source": [
    "### __QX__: Overfit the model\n",
    "\n",
    "Increase the `order` of the regression until the model goes through every measured point. Does this seem like a reasonable model?\n"
   ]
  },
  {
   "cell_type": "code",
   "execution_count": 26,
   "id": "2752f118",
   "metadata": {
    "collapsed": false
   },
   "outputs": [
    {
     "data": {
      "image/png": "[encoded data removed]",
      "text/plain": [
       "<Figure size 640x480 with 1 Axes>"
      ]
     },
     "metadata": {},
     "output_type": "display_data"
    },
    {
     "data": {
      "text/plain": [
       "<ggplot: (8783307767793)>"
      ]
     },
     "execution_count": 26,
     "metadata": {},
     "output_type": "execute_result"
    }
   ],
   "source": [
    "###\n",
    "# TASK: Increase the order until the fit is perfect\n",
    "###\n",
    "\n",
    "# -- FINISH THE CODE BELOW -----\n",
    "(\n",
    "    df_ex2\n",
    "    >> ft_regression(\n",
    "        var=[\"x\"], \n",
    "        out=[\"y\"], \n",
    "        order=2 # TODO: Increase the order until the fit is perfect\n",
    "    )\n",
    "    >> gr.ev_df(df=gr.df_make(x=np.linspace(-1, +1, num=100)))\n",
    "    \n",
    "    >> pt.ggplot(pt.aes(\"x\", \"y_mean\"))\n",
    "    + pt.geom_line(linetype=\"dashed\")\n",
    "    + pt.geom_point(\n",
    "        data=df_ex2,\n",
    "        mapping=pt.aes(y=\"y\"),\n",
    "    )\n",
    ")"
   ]
  },
  {
   "cell_type": "markdown",
   "id": "bde47d76",
   "metadata": {},
   "source": [
    "To help illustrate, let's look at one more synthetic example"
   ]
  },
  {
   "cell_type": "code",
   "execution_count": 33,
   "id": "bd74dc9f",
   "metadata": {
    "collapsed": false
   },
   "outputs": [
    {
     "data": {
      "image/png": "[encoded data removed]",
      "text/plain": [
       "<Figure size 640x480 with 1 Axes>"
      ]
     },
     "metadata": {},
     "output_type": "display_data"
    },
    {
     "data": {
      "text/plain": [
       "<ggplot: (8783306634341)>"
      ]
     },
     "execution_count": 33,
     "metadata": {},
     "output_type": "execute_result"
    }
   ],
   "source": [
    "## NOTE: No need to edit\n",
    "# More complicated function with noise\n",
    "df_ex3 = (\n",
    "    gr.df_make(x=np.linspace(-1, +1, num=40))\n",
    "    >> gr.tf_mutate(y=fcn_2_noisy(DF.x))\n",
    ")\n",
    "\n",
    "(\n",
    "    df_ex3\n",
    "    >> pt.ggplot(pt.aes(\"x\", \"y\"))\n",
    "    + pt.geom_point()\n",
    ")"
   ]
  },
  {
   "cell_type": "markdown",
   "id": "3641ebdb",
   "metadata": {},
   "source": [
    "Here we can see a somewhat complicated function that is quite corrupted by noise. Below, I'm going to fit a number of polynomial models of different orders. In practice, we would like to _make a decision_ about what polynomial order to use. A sensible choice would be to pick the order that minimizes the error -- let's see which model accomplishes this."
   ]
  },
  {
   "cell_type": "code",
   "execution_count": null,
   "id": "90dea268",
   "metadata": {
    "collapsed": false
   },
   "outputs": [],
   "source": [
    "# -- DEMONSTRATION CODE, NO NEED TO EDIT -----\n",
    "\n",
    "# First, define a helper function to automate fitting a\n",
    "# regression of user-selected `order`\n",
    "\n",
    "\n",
    "def fit_poly(X, Y, order):\n",
    "    poly = PolynomialFeatures(order)\n",
    "    X_poly = poly.fit_transform(X)\n",
    "\n",
    "    reg = LinearRegression(fit_intercept=False).fit(X_poly, Y)\n",
    "\n",
    "    return reg, poly\n",
    "\n",
    "\n",
    "# Setup to fit over different polynomial orders\n",
    "Ord_all = list(range(15))\n",
    "Ord_plot = [1, 3, 9]\n",
    "Y_pred_c = np.zeros((len(Ord_all), X_c.shape[0]))\n",
    "Y_pred_ref = np.zeros((len(Ord_all), X_ref.shape[0]))\n",
    "NDE_c = np.zeros(len(Ord_all))\n",
    "NDE_ref = np.zeros(len(Ord_all))\n",
    "\n",
    "# Loop over orders\n",
    "plt.figure()\n",
    "plt.plot(X_ref, Y_2_ref, 'k--')\n",
    "for i in range(len(Ord_all)):\n",
    "    # Fit model\n",
    "    reg, poly = fit_poly(X_c, Y_2_noisy, Ord_all[i])\n",
    "    # Predict on same data & on reference points\n",
    "    Y_pred_c[i] = reg.predict(poly.fit_transform(X_c))\n",
    "    Y_pred_ref[i] = reg.predict(poly.fit_transform(X_ref))\n",
    "    # Compute error *on same data* -> estimated error\n",
    "    NDE_c[i] = nde(Y_2_noisy, Y_pred_c[i])\n",
    "    # Compute error on reference points -> 'true' error\n",
    "    NDE_ref[i] = nde(Y_2_ref, Y_pred_ref[i])\n",
    "\n",
    "    # Plot curve\n",
    "    if Ord_all[i] in Ord_plot:\n",
    "        plt.plot(X_ref, Y_pred_ref[i], label=\"Order = {}\".format(Ord_all[i]))\n",
    "plt.plot(X_c, Y_2_noisy, 'k.')\n",
    "plt.legend(loc=0)\n",
    "plt.show()\n"
   ]
  },
  {
   "cell_type": "markdown",
   "id": "b17afddf",
   "metadata": {},
   "source": [
    "Here I've selected just a few of the models to plot. We can see\n",
    "\n",
    "* The `Order = 1` case is underfit, like we saw in the example above\n",
    "* The `Order = 9` case curves tortuously to go through _every single point_; this is an example of _overfitting_\n",
    "* The `Order = 3` case is not perfect, but fairly close to the true (dashed) curve. This is a well-fit model.\n",
    "\n",
    "More generally, _overfitting_ is when the model fits to spurrious patterns in the data; essentially, we are fitting to noise, rather than signal. We would like to detect and avoid overfitting in practice! While we can see above some suspicious behavior based on the fitted curves, we might like a _quantitative_ way to compare models. We can do this with the NDE values, but there is a _subtle issue_ at play here.\n",
    "\n",
    "Let's compare the `NDE` values `Estimated` on only the available (noisy) data, and the error computed using evaluations from the `True` (noiseless) function."
   ]
  },
  {
   "cell_type": "code",
   "execution_count": null,
   "id": "52fc5af2",
   "metadata": {
    "collapsed": false
   },
   "outputs": [],
   "source": [
    "plt.figure()\n",
    "plt.plot(Ord_all, NDE_c, label='Estimated')\n",
    "plt.plot(Ord_all, NDE_ref, label='True')\n",
    "plt.legend(loc=0)\n",
    "plt.xlabel('Poly Order')\n",
    "plt.ylabel('ND Error')\n",
    "plt.show()\n"
   ]
  },
  {
   "cell_type": "markdown",
   "id": "f01bb9b6",
   "metadata": {},
   "source": [
    "Here we can see the `Estimated` and `True` error values _greatly diverge_. This is _highly problematic_ for two interrelated reasons:\n",
    "\n",
    "1. In practice, we would only have access to the `Estimated` curve, as the `True` curve relies on data we do not have.\n",
    "2. If we were to make a decision about `Poly Order` based on the `Estimated` curve, we would choose a much higher order than what would minimize the NDE in the `True` case.\n",
    "\n",
    "The underlying reason for the poor error estimate here is that _we are using the same data to both train and test the model_. We can improve our estimates for the error through various techniques; below, we will use the technique of _cross-validation_."
   ]
  },
  {
   "cell_type": "markdown",
   "id": "929e41f9",
   "metadata": {},
   "source": [
    "### Avoiding Optimistic Estimates: Cross-Validation\n",
    "[Cross-validation](https://en.wikipedia.org/wiki/Cross-validation_(statistics)) is a technique for estimating the error in a way that avoids the \"optimism\" we saw above. For the variant _k-fold cross-validation_, we split all our data into _folds_, and use these to build _training_ and _test_ sets. Generally:\n",
    "\n",
    "* _Training_ data are used to fit a model\n",
    "* _Test_ data are used to evaluate a model\n",
    "\n",
    "![CV schematic](https://upload.wikimedia.org/wikipedia/commons/1/1c/K-fold_cross_validation_EN.jpg)\n",
    "\n",
    "(Fabian Flock, via Wikimedia)\n",
    "\n",
    "In each of our $k$ iterations, we _do not allow_ the model to see a test fold (`Test data` above) during training, and fit the model only on the remaining data (`Training data` above). After training, we compute our chosen error metric on the test fold. Finally, we repeat this process on each of the $k$ chosen folds. This gives us a set of less optimistic estimates for the error, which we can summarize e.g. as a mean CV error.\n",
    "\n",
    "This procedure is implemented in the scikit-learn function `cross_validate()`. Use this routine to estimate the NDE in the case where the polynomial order is `9`. You will have to choose a number of folds to run; while `5` to `10` is common, since we have so few data, you will need to use a smaller number of folds.\n",
    "\n",
    "### Q5: K-fold Cross-Validation\n",
    "Perform k-fold cross validation on the order `9` polynomial model using the scikit-learn function `cross_validate()`. You will need to look up the documentation for `cross_validate()`, and pick the `cv` strategy to use the k-fold strategy with a reasonable value for $k$. Make sure to report both the `train_score` and `test_score` values. Compare the two sets of values.\n",
    "\n",
    "*Hints:*\n",
    "- You can pass `nde_score` to the keyword argument `scoring` to have `cross_validate()` compute the NDE\n",
    "- You can use the helper function `estimator, poly = fit_poly()` function above to help complete this task"
   ]
  },
  {
   "cell_type": "code",
   "execution_count": null,
   "id": "5c5f0dbf",
   "metadata": {
    "collapsed": false
   },
   "outputs": [],
   "source": [
    "###\n",
    "# TASK: Use cross_validate() on the 9th order model to estimate the NDE\n",
    "# TODO: Compute the cross validation scores and assign to `scores`\n",
    "# Hint, you can pass the helper function `nde_score` (defined above) to cross_validate()\n",
    "###\n",
    "\n",
    "# -- WRITE YOUR CODE HERE -----\n",
    "reg9, poly9 = fit_poly(X_c, Y_2_noisy, 9)\n",
    "X_9 = poly9.fit_transform(X_c)\n",
    "\n",
    "scores = cross_validate(\n",
    "    reg9, X_9, Y_2_noisy,\n",
    "    cv=3,\n",
    "    scoring=nde_score,\n",
    "    return_train_score=True\n",
    ")\n",
    "# -- NO NEED TO EDIT BELOW -----\n",
    "scores\n"
   ]
  },
  {
   "cell_type": "markdown",
   "id": "c9576d17",
   "metadata": {},
   "source": [
    "The `train_score` values are quite optimistic, while the `test_score` values are *abysmal*.\n",
    "\n",
    "Below, I show results for performing k-fold cross validation across the same set of polynomial orders as above."
   ]
  },
  {
   "cell_type": "code",
   "execution_count": null,
   "id": "63e3b73a",
   "metadata": {
    "collapsed": false
   },
   "outputs": [],
   "source": [
    "\n",
    "n_cv = 3\n",
    "NDE_cv_test_all = np.zeros((len(Ord_all), n_cv))\n",
    "NDE_cv_train_all = np.zeros((len(Ord_all), n_cv))\n",
    "\n",
    "plt.figure()\n",
    "\n",
    "for i in range(len(Ord_all)):\n",
    "    # Fit model\n",
    "    reg, poly = fit_poly(X_c, Y_2_noisy, Ord_all[i])\n",
    "    # Cross-validate\n",
    "    scores = cross_validate(\n",
    "        reg, poly.fit_transform(X_c), Y_2_noisy,\n",
    "        cv=n_cv,\n",
    "        scoring=nde_score,\n",
    "        return_train_score=True\n",
    "    )\n",
    "    NDE_cv_test_all[i] = scores['test_score']\n",
    "    NDE_cv_train_all[i] = scores['train_score']\n",
    "    # Plot all CV test instances\n",
    "    plt.plot([Ord_all[i]] * n_cv, NDE_cv_test_all[i], 'k.')\n",
    "NDE_cv_test = np.mean(NDE_cv_test_all, axis=1)\n",
    "NDE_cv_train = np.mean(NDE_cv_train_all, axis=1)\n",
    "\n",
    "plt.plot(Ord_all, NDE_cv_test, label='Test')\n",
    "plt.legend(loc=0)\n",
    "plt.yscale('log')\n",
    "plt.xlabel('Poly Order')\n",
    "plt.ylabel('ND Error')\n",
    "# Save for solution\n",
    "plt.savefig(dir_incl + assignment_prefix + \"cv_order.png\")\n",
    "plt.show()\n"
   ]
  },
  {
   "cell_type": "markdown",
   "id": "88a5cab4",
   "metadata": {},
   "source": []
  },
  {
   "cell_type": "markdown",
   "id": "503916e1",
   "metadata": {},
   "source": [
    "The individual CV estimates are reported as dots, while their mean is given as a line. Here we can see that the NDE takes reasonable values for order at or below `3`. Beyond this point, the NDE explodes as models begin to overfit wildly. These cross-validated error metrics would be far more informative for making a decision about polynomial order.\n",
    "\n",
    "Here we have just one tunable knob (polynomial order) that defines our model. More generally, these kinds of user-selected quantities are called [hyperparameters](https://en.wikipedia.org/wiki/Hyperparameter_(machine_learning)). Cross-validation and related techniques are key to _tuning hyperparameters_."
   ]
  },
  {
   "cell_type": "markdown",
   "id": "45ebcec1",
   "metadata": {},
   "source": [
    "### Using Models for Materials Informatics\n",
    "In the final part of the workshop, we will discuss how to _use_ these machine learning models to do useful work in materials science. Stay tuned!"
   ]
  }
 ],
 "metadata": {
  "kernelspec": {
   "display_name": "Python 3 (ipykernel)",
   "language": "python",
   "name": "python3"
  },
  "language_info": {
   "codemirror_mode": {
    "name": "ipython",
    "version": 3
   },
   "file_extension": ".py",
   "mimetype": "text/x-python",
   "name": "python",
   "nbconvert_exporter": "python",
   "pygments_lexer": "ipython3",
   "version": "3.7.4"
  }
 },
 "nbformat": 4,
 "nbformat_minor": 5
}
