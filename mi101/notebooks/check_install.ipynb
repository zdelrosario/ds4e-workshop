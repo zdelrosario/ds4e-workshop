{
 "cells": [
  {
   "cell_type": "markdown",
   "id": "9e33b22d",
   "metadata": {},
   "source": [
    "# Check Your Python Installation\n",
    "\n",
    "---\n",
    "\n",
    "Use this notebook to check your Python installation. Run the chunk below; if you see `\"Success!\"` then you're ready to go! If you get an error, please contact a TA to get some help.\n"
   ]
  },
  {
   "cell_type": "code",
   "execution_count": 2,
   "id": "71967a3c",
   "metadata": {},
   "outputs": [
    {
     "name": "stdout",
     "output_type": "stream",
     "text": [
      "Success!\n"
     ]
    }
   ],
   "source": [
    "import matplotlib\n",
    "import numpy\n",
    "import pandas\n",
    "import seaborn\n",
    "import scipy\n",
    "import toolz\n",
    "import networkx\n",
    "import pathos\n",
    "import lolopy\n",
    "import pymatgen\n",
    "import matminer\n",
    "import sklearn\n",
    "import statsmodels\n",
    "import pyDOE\n",
    "import umap\n",
    "import grama\n",
    "import plotnine\n",
    "import plotly\n",
    "import ipympl\n",
    "\n",
    "print(\"Success!\")"
   ]
  }
 ],
 "metadata": {
  "kernelspec": {
   "display_name": "Python 3 (ipykernel)",
   "language": "python",
   "name": "python3"
  },
  "language_info": {
   "codemirror_mode": {
    "name": "ipython",
    "version": 3
   },
   "file_extension": ".py",
   "mimetype": "text/x-python",
   "name": "python",
   "nbconvert_exporter": "python",
   "pygments_lexer": "ipython3",
   "version": "3.7.4"
  }
 },
 "nbformat": 4,
 "nbformat_minor": 5
}
