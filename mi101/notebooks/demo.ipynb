{
 "cells": [
  {
   "cell_type": "markdown",
   "id": "earlier-toner",
   "metadata": {},
   "source": [
    "# Demo Notebook\n",
    "\n",
    "## Setup\n",
    "\n",
    "---\n"
   ]
  },
  {
   "cell_type": "code",
   "execution_count": 1,
   "id": "compact-leone",
   "metadata": {},
   "outputs": [],
   "source": [
    "import numpy as np\n",
    "import pandas as pd\n",
    "import grama as gr\n",
    "import plotnine as pt\n",
    "\n",
    "from plotnine.mapping import after_stat\n",
    "\n",
    "DF = gr.Intention()\n",
    "\n",
    "# For downloading data\n",
    "import os\n",
    "import requests\n"
   ]
  },
  {
   "cell_type": "markdown",
   "id": "sonic-beauty",
   "metadata": {},
   "source": [
    "## Download Data\n"
   ]
  },
  {
   "cell_type": "code",
   "execution_count": 2,
   "id": "characteristic-plaintiff",
   "metadata": {},
   "outputs": [
    {
     "name": "stdout",
     "output_type": "stream",
     "text": [
      "   Tabula-extracted data loaded locally\n"
     ]
    }
   ],
   "source": [
    "# Filename for local data\n",
    "filename_data = \"./data/tabula-weibull.csv\"\n",
    "\n",
    "# The following code downloads the data, or (after downloaded)\n",
    "# loads the data from a cached CSV on your machine\n",
    "if not os.path.exists(filename_data):\n",
    "    # Make request for data\n",
    "    url_data = \"https://raw.githubusercontent.com/zdelrosario/mi101/main/mi101/data/tabula-weibull1939-table4.csv\"\n",
    "    r = requests.get(url_data, allow_redirects=True)\n",
    "    open(filename_data, 'wb').write(r.content)\n",
    "    print(\"   Tabula-extracted data downloaded from public Google sheet\")\n",
    "else:\n",
    "    # Note data already exists\n",
    "    print(\"   Tabula-extracted data loaded locally\")\n",
    "    \n",
    "# Read the data into memory\n",
    "df_raw = pd.read_csv(filename_data)\n"
   ]
  },
  {
   "cell_type": "markdown",
   "id": "apart-guess",
   "metadata": {},
   "source": [
    "## Tidy and Wrangle Data\n",
    "\n",
    "---\n"
   ]
  },
  {
   "cell_type": "code",
   "execution_count": 3,
   "id": "optional-dynamics",
   "metadata": {},
   "outputs": [
    {
     "data": {
      "text/html": [
       "<div>\n",
       "<style scoped>\n",
       "    .dataframe tbody tr th:only-of-type {\n",
       "        vertical-align: middle;\n",
       "    }\n",
       "\n",
       "    .dataframe tbody tr th {\n",
       "        vertical-align: top;\n",
       "    }\n",
       "\n",
       "    .dataframe thead th {\n",
       "        text-align: right;\n",
       "    }\n",
       "</style>\n",
       "<table border=\"1\" class=\"dataframe\">\n",
       "  <thead>\n",
       "    <tr style=\"text-align: right;\">\n",
       "      <th></th>\n",
       "      <th>No.</th>\n",
       "      <th>Area mm^2</th>\n",
       "      <th>sigma_d kg/mm^2</th>\n",
       "      <th>No..1</th>\n",
       "      <th>Area mm^2.1</th>\n",
       "      <th>sigma_d kg/mm^2.1</th>\n",
       "    </tr>\n",
       "  </thead>\n",
       "  <tbody>\n",
       "    <tr>\n",
       "      <th>0</th>\n",
       "      <td>1</td>\n",
       "      <td>21.50</td>\n",
       "      <td>0.61</td>\n",
       "      <td>14.0</td>\n",
       "      <td>23.10</td>\n",
       "      <td>0.58</td>\n",
       "    </tr>\n",
       "    <tr>\n",
       "      <th>1</th>\n",
       "      <td>2</td>\n",
       "      <td>22.31</td>\n",
       "      <td>0.60</td>\n",
       "      <td>15.0</td>\n",
       "      <td>21.91</td>\n",
       "      <td>0.62</td>\n",
       "    </tr>\n",
       "    <tr>\n",
       "      <th>2</th>\n",
       "      <td>3</td>\n",
       "      <td>23.00</td>\n",
       "      <td>0.50</td>\n",
       "      <td>16.0</td>\n",
       "      <td>23.23</td>\n",
       "      <td>0.50</td>\n",
       "    </tr>\n",
       "    <tr>\n",
       "      <th>3</th>\n",
       "      <td>4</td>\n",
       "      <td>14.18</td>\n",
       "      <td>0.63</td>\n",
       "      <td>17.0</td>\n",
       "      <td>25.80</td>\n",
       "      <td>0.50</td>\n",
       "    </tr>\n",
       "    <tr>\n",
       "      <th>4</th>\n",
       "      <td>5</td>\n",
       "      <td>22.03</td>\n",
       "      <td>0.48</td>\n",
       "      <td>18.0</td>\n",
       "      <td>20.68</td>\n",
       "      <td>0.52</td>\n",
       "    </tr>\n",
       "  </tbody>\n",
       "</table>\n",
       "</div>"
      ],
      "text/plain": [
       "   No.  Area mm^2  sigma_d kg/mm^2  No..1  Area mm^2.1  sigma_d kg/mm^2.1\n",
       "0    1      21.50             0.61   14.0        23.10               0.58\n",
       "1    2      22.31             0.60   15.0        21.91               0.62\n",
       "2    3      23.00             0.50   16.0        23.23               0.50\n",
       "3    4      14.18             0.63   17.0        25.80               0.50\n",
       "4    5      22.03             0.48   18.0        20.68               0.52"
      ]
     },
     "execution_count": 3,
     "metadata": {},
     "output_type": "execute_result"
    }
   ],
   "source": [
    "df_raw.head()\n"
   ]
  },
  {
   "cell_type": "code",
   "execution_count": 4,
   "id": "clear-offering",
   "metadata": {},
   "outputs": [
    {
     "data": {
      "text/html": [
       "<div>\n",
       "<style scoped>\n",
       "    .dataframe tbody tr th:only-of-type {\n",
       "        vertical-align: middle;\n",
       "    }\n",
       "\n",
       "    .dataframe tbody tr th {\n",
       "        vertical-align: top;\n",
       "    }\n",
       "\n",
       "    .dataframe thead th {\n",
       "        text-align: right;\n",
       "    }\n",
       "</style>\n",
       "<table border=\"1\" class=\"dataframe\">\n",
       "  <thead>\n",
       "    <tr style=\"text-align: right;\">\n",
       "      <th></th>\n",
       "      <th>block</th>\n",
       "      <th>area</th>\n",
       "      <th>obs</th>\n",
       "      <th>sigma</th>\n",
       "    </tr>\n",
       "  </thead>\n",
       "  <tbody>\n",
       "    <tr>\n",
       "      <th>0</th>\n",
       "      <td>1</td>\n",
       "      <td>21.50</td>\n",
       "      <td>1.0</td>\n",
       "      <td>0.61</td>\n",
       "    </tr>\n",
       "    <tr>\n",
       "      <th>1</th>\n",
       "      <td>2</td>\n",
       "      <td>23.10</td>\n",
       "      <td>14.0</td>\n",
       "      <td>0.58</td>\n",
       "    </tr>\n",
       "    <tr>\n",
       "      <th>2</th>\n",
       "      <td>1</td>\n",
       "      <td>22.31</td>\n",
       "      <td>2.0</td>\n",
       "      <td>0.60</td>\n",
       "    </tr>\n",
       "    <tr>\n",
       "      <th>3</th>\n",
       "      <td>2</td>\n",
       "      <td>21.91</td>\n",
       "      <td>15.0</td>\n",
       "      <td>0.62</td>\n",
       "    </tr>\n",
       "    <tr>\n",
       "      <th>4</th>\n",
       "      <td>1</td>\n",
       "      <td>23.00</td>\n",
       "      <td>3.0</td>\n",
       "      <td>0.50</td>\n",
       "    </tr>\n",
       "  </tbody>\n",
       "</table>\n",
       "</div>"
      ],
      "text/plain": [
       "  block   area   obs  sigma\n",
       "0     1  21.50   1.0   0.61\n",
       "1     2  23.10  14.0   0.58\n",
       "2     1  22.31   2.0   0.60\n",
       "3     2  21.91  15.0   0.62\n",
       "4     1  23.00   3.0   0.50"
      ]
     },
     "execution_count": 4,
     "metadata": {},
     "output_type": "execute_result"
    }
   ],
   "source": [
    "df_weibull = (\n",
    "    df_raw\n",
    "    >> gr.tf_rename(\n",
    "        obs_1=\"No.\",\n",
    "        area_1=\"Area mm^2\",\n",
    "        sigma_1=\"sigma_d kg/mm^2\",\n",
    "        obs_2=\"No..1\",\n",
    "        area_2=\"Area mm^2.1\",\n",
    "        sigma_2=\"sigma_d kg/mm^2.1\",\n",
    "    )\n",
    "    >> gr.tf_pivot_longer(\n",
    "        columns=[\"obs_1\", \"area_1\", \"sigma_1\", \"obs_2\", \"area_2\", \"sigma_2\"],\n",
    "        names_to=[\".value\", \"block\"],\n",
    "        names_sep=\"_\"\n",
    "    )\n",
    "    >> gr.tf_filter(gr.not_nan(DF.sigma))\n",
    ")\n",
    "\n",
    "df_weibull.head()"
   ]
  },
  {
   "cell_type": "markdown",
   "id": "deadly-legislation",
   "metadata": {},
   "source": [
    "## Visualize\n",
    "\n",
    "---\n"
   ]
  },
  {
   "cell_type": "code",
   "execution_count": 5,
   "id": "iraqi-buffalo",
   "metadata": {},
   "outputs": [
    {
     "data": {
      "image/png": "[encoded data removed]",
      "text/plain": [
       "<Figure size 640x480 with 1 Axes>"
      ]
     },
     "metadata": {},
     "output_type": "display_data"
    },
    {
     "data": {
      "text/plain": [
       "<ggplot: (8789852906936)>"
      ]
     },
     "execution_count": 5,
     "metadata": {},
     "output_type": "execute_result"
    }
   ],
   "source": [
    "(\n",
    "    df_weibull\n",
    "    >> pt.ggplot(pt.aes(\"sigma\"))\n",
    "    + pt.geom_histogram(bins=10)\n",
    ")"
   ]
  },
  {
   "cell_type": "markdown",
   "id": "agreed-morocco",
   "metadata": {},
   "source": [
    "## Model\n",
    "\n",
    "---\n"
   ]
  },
  {
   "cell_type": "code",
   "execution_count": 6,
   "id": "short-guarantee",
   "metadata": {},
   "outputs": [
    {
     "name": "stdout",
     "output_type": "stream",
     "text": [
      "eval_monte_carlo() is rounding n...\n",
      "Design runtime estimates unavailable; model has no timing data.\n"
     ]
    },
    {
     "data": {
      "image/png": "[encoded data removed]",
      "text/plain": [
       "<Figure size 640x480 with 1 Axes>"
      ]
     },
     "metadata": {},
     "output_type": "display_data"
    },
    {
     "data": {
      "text/plain": [
       "<ggplot: (8789836880095)>"
      ]
     },
     "execution_count": 6,
     "metadata": {},
     "output_type": "execute_result"
    }
   ],
   "source": [
    "md_weibull = (\n",
    "    gr.Model()\n",
    "    >> gr.cp_marginals(\n",
    "        sigma=gr.marg_named(df_weibull.sigma, \"weibull_max\")\n",
    "    )\n",
    "    >> gr.cp_copula_independence()\n",
    ")\n",
    "\n",
    "(\n",
    "    df_weibull\n",
    "    >> pt.ggplot(pt.aes(\"sigma\"))\n",
    "    + pt.geom_histogram(pt.aes(y=after_stat('density')), bins=10)\n",
    "    + pt.geom_density(\n",
    "        data=md_weibull\n",
    "        >> gr.ev_monte_carlo(n=1e3, df_det=\"nom\", skip=True, seed=101)\n",
    "    )\n",
    ")"
   ]
  }
 ],
 "metadata": {
  "kernelspec": {
   "display_name": "Python 3 (ipykernel)",
   "language": "python",
   "name": "python3"
  },
  "language_info": {
   "codemirror_mode": {
    "name": "ipython",
    "version": 3
   },
   "file_extension": ".py",
   "mimetype": "text/x-python",
   "name": "python",
   "nbconvert_exporter": "python",
   "pygments_lexer": "ipython3",
   "version": "3.8.5"
  }
 },
 "nbformat": 4,
 "nbformat_minor": 5
}
