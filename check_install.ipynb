{
 "cells": [
  {
   "cell_type": "markdown",
   "id": "promotional-texas",
   "metadata": {},
   "source": [
    "# Check Your Python Installation\n",
    "\n",
    "---\n",
    "\n",
    "Use this notebook to check your Python installation. Run the chunk below; if you see `\"Success!\"` then you're ready to go! If you get an error, please contact a TA to get some help.\n"
   ]
  },
  {
   "cell_type": "code",
   "execution_count": 2,
   "id": "seeing-latin",
   "metadata": {},
   "outputs": [
    {
     "name": "stdout",
     "output_type": "stream",
     "text": [
      "Success!\n"
     ]
    }
   ],
   "source": [
    "import grama\n",
    "import plotly\n",
    "import ipympl\n",
    "\n",
    "print(\"Success!\")"
   ]
  },
  {
   "cell_type": "markdown",
   "id": "2dadde50-cfba-43e8-975e-d96774b0f9ce",
   "metadata": {},
   "source": [
    "*Note*: Depending on your computer's configuration, you might have trouble installing the `matminer` package. Since this is only used for the last notebook, it's worth checking if you can install `py-grama` successfully without `matminer`. Running the following code will install `py-grama` without `matminer`:"
   ]
  },
  {
   "cell_type": "code",
   "execution_count": null,
   "id": "2c090647-edbd-4d4a-8a50-d9460a03fbfe",
   "metadata": {},
   "outputs": [],
   "source": [
    "!pip install py-grama[umap,sklearn]>=0.3.3"
   ]
  }
 ],
 "metadata": {
  "kernelspec": {
   "display_name": "Python 3 (ipykernel)",
   "language": "python",
   "name": "python3"
  },
  "language_info": {
   "codemirror_mode": {
    "name": "ipython",
    "version": 3
   },
   "file_extension": ".py",
   "mimetype": "text/x-python",
   "name": "python",
   "nbconvert_exporter": "python",
   "pygments_lexer": "ipython3",
   "version": "3.9.16"
  }
 },
 "nbformat": 4,
 "nbformat_minor": 5
}
